{
  "nbformat": 4,
  "nbformat_minor": 0,
  "metadata": {
    "kernelspec": {
      "display_name": "Python 3",
      "language": "python",
      "name": "python3"
    },
    "language_info": {
      "codemirror_mode": {
        "name": "ipython",
        "version": 3
      },
      "file_extension": ".py",
      "mimetype": "text/x-python",
      "name": "python",
      "nbconvert_exporter": "python",
      "pygments_lexer": "ipython3",
      "version": "3.8.3"
    },
    "colab": {
      "name": "Unit4_FinalProject.ipynb",
      "provenance": []
    }
  },
  "cells": [
    {
      "cell_type": "markdown",
      "metadata": {
        "id": "aHhuSEG3r-Tx"
      },
      "source": [
        "# Unit 4 Final Projects: Calculating evolutionary distance\n",
        "\n",
        "In this notebook you will compare the sequence of a particular gene from 3 different species to find out which two are most closely related. \n",
        "\n",
        "You will need to do the following:\n",
        "1. Open and read in your files\n",
        "2. Decide which sequences to compare (DNA, RNA, or protein), (you may have to look at all of them)\n",
        "3. Write code that prints out the percent similarity of each pair of sequences\n",
        "\n",
        "Note: Percent similarity can be taken by the following formula: `similarites * 100 / length of the shortest sequence`\n",
        " "
      ]
    },
    {
      "cell_type": "code",
      "metadata": {
        "colab": {
          "base_uri": "https://localhost:8080/"
        },
        "id": "9aMZ5NsksGx9",
        "outputId": "36b1d41b-71fe-48c8-84ef-a913d46d9ea6"
      },
      "source": [
        "from google.colab import drive\n",
        "drive.mount('/content/drive')"
      ],
      "execution_count": null,
      "outputs": [
        {
          "output_type": "stream",
          "text": [
            "Mounted at /content/drive\n"
          ],
          "name": "stdout"
        }
      ]
    },
    {
      "cell_type": "code",
      "metadata": {
        "id": "l0hzuT1jr-T0"
      },
      "source": [
        "#1 is the turtle\n",
        "animal_T = open(\"/content/drive/MyDrive/2a_CYTB_DNA.txt\").read()\n",
        "#2 is the CHICKEN\n",
        "animal_C = open(\"/content/drive/MyDrive/2b_CYTB_DNA.txt\").read()\n",
        "#3 is the alligator\n",
        "animal_A = open(\"/content/drive/MyDrive/2c_CYTB_DNA.txt\").read()\n"
      ],
      "execution_count": null,
      "outputs": []
    },
    {
      "cell_type": "code",
      "metadata": {
        "collapsed": true,
        "colab": {
          "base_uri": "https://localhost:8080/"
        },
        "id": "3cnLTEGRr-T1",
        "outputId": "b46bee7c-d3e1-42a1-e152-2fd5ff72f86c"
      },
      "source": [
        "#turtle and the chicken\n",
        "numSimilaritiesTC = 0\n",
        "#for loop to iterate through both lists\n",
        "for c, i in enumerate(animal_T):\n",
        "  #compare each sequence using an if statement\n",
        "  if animal_C[c] == i:\n",
        "    numSimilaritiesTC += 1\n",
        "print(numSimilaritiesTC)"
      ],
      "execution_count": null,
      "outputs": [
        {
          "output_type": "stream",
          "text": [
            "848\n"
          ],
          "name": "stdout"
        }
      ]
    },
    {
      "cell_type": "code",
      "metadata": {
        "collapsed": true,
        "colab": {
          "base_uri": "https://localhost:8080/"
        },
        "id": "X8VSo95Xr-T1",
        "outputId": "fb62fe65-5b22-417c-c2ff-c2496ebea73e"
      },
      "source": [
        "numSimilaritiesTA = 0\n",
        "#for loop to iterate through both lists\n",
        "for c, i in enumerate(animal_T):\n",
        "  #compare each sequence using an if statement\n",
        "  if animal_A[c] == i:\n",
        "    numSimilaritiesTA += 1\n",
        "print(numSimilaritiesTA)"
      ],
      "execution_count": null,
      "outputs": [
        {
          "output_type": "stream",
          "text": [
            "792\n"
          ],
          "name": "stdout"
        }
      ]
    },
    {
      "cell_type": "code",
      "metadata": {
        "collapsed": true,
        "colab": {
          "base_uri": "https://localhost:8080/"
        },
        "id": "yUPDb5qcr-T1",
        "outputId": "d3b77f50-d322-4d27-d6d7-677e02524e6c"
      },
      "source": [
        "numSimilaritiesCA = 0\n",
        "#for loop to iterate through both lists\n",
        "for c, i in enumerate(animal_C):\n",
        "  #compare each sequence using an if statement\n",
        "  if animal_A[c] == i:\n",
        "    numSimilaritiesCA += 1\n",
        "print(numSimilaritiesCA)"
      ],
      "execution_count": null,
      "outputs": [
        {
          "output_type": "stream",
          "text": [
            "772\n"
          ],
          "name": "stdout"
        }
      ]
    },
    {
      "cell_type": "code",
      "metadata": {
        "colab": {
          "base_uri": "https://localhost:8080/"
        },
        "id": "1W526nA_qJ9L",
        "outputId": "cb66f7cc-51e7-46b2-bdf1-8a5d728e3018"
      },
      "source": [
        "#finding ze percent and similarities unu\n",
        "#similarities * 100 / length of the of the shortest sequence\n",
        "\n",
        "#turtle and ze chicken\n",
        "percentTC = (numSimilaritiesTC * 100)/ len(animal_T)\n",
        "\n",
        "#turtle and ze alligator\n",
        "percentTA = (numSimilaritiesTA * 100)/ len(animal_T)\n",
        "\n",
        "#alligator and ze CHICKEN\n",
        "percentCA = (numSimilaritiesCA * 100)/ len(animal_C)\n",
        "\n",
        "print(\"Turtle and chicken similarity: \" + str(percentTC))\n",
        "print(\"Turtle and alligator similarity: \" + str(percentTA))\n",
        "print(\"Chicken and alligator similarity: \" + str(percentCA))"
      ],
      "execution_count": null,
      "outputs": [
        {
          "output_type": "stream",
          "text": [
            "Turtle and chicken similarity: 75.84973166368515\n",
            "Turtle and alligator similarity: 70.84078711985688\n",
            "Chicken and alligator similarity: 68.50044365572316\n"
          ],
          "name": "stdout"
        }
      ]
    },
    {
      "cell_type": "markdown",
      "metadata": {
        "id": "gnxWPETBr-T1"
      },
      "source": [
        "## Bonus Challenge\n",
        "\n",
        "Visualize your results! Choose a graph type that you think will communicate your conclusions effectively and create it using matplotlib:"
      ]
    },
    {
      "cell_type": "code",
      "metadata": {
        "id": "DwgeU_8Rr-T2",
        "colab": {
          "base_uri": "https://localhost:8080/",
          "height": 366
        },
        "outputId": "eaa2950c-646c-4b28-b05e-48e5217501f5"
      },
      "source": [
        "import matplotlib.pyplot as plt\n",
        "fig = plt.figure()\n",
        "ax = fig.add_axes([0, 0, 1, 1])\n",
        "percentz = ['Turtle-chicken', 'Turtle-alligator', 'Chicken-alligator']\n",
        "animalz = [percentTC, percentTA, percentCA]\n",
        "ax.bar(percentz, animalz)\n",
        "plt.title('similarities between species')\n",
        "plt.xlabel('species names')\n",
        "plt.ylabel('percent')\n",
        "plt.show()"
      ],
      "execution_count": null,
      "outputs": [
        {
          "output_type": "display_data",
          "data": {
            "image/png": "[encoded data removed]",
            "text/plain": [
              "<Figure size 432x288 with 1 Axes>"
            ]
          },
          "metadata": {
            "tags": [],
            "needs_background": "light"
          }
        }
      ]
    },
    {
      "cell_type": "markdown",
      "metadata": {
        "id": "R6pvAgKTr-T2"
      },
      "source": [
        "## Bonus Challenge 2\n",
        "If you finish your project and want to try a challenge, come up with a hypothesis about which of the following species are most closely related to humans (carp, chicken, chimp, dog, eel, elephant, frog, gorilla, macaque monkey, mouse, orangutan, pig). Write out a ranked list with the species you think is most related to humans at the top.\n",
        "\n",
        "Then calculate the percent difference between the hemoglobin amino acid sequences of humans and each species to find out how close you came to the right ranking!"
      ]
    },
    {
      "cell_type": "code",
      "metadata": {
        "collapsed": true,
        "id": "WAcO3PETr-T3"
      },
      "source": [
        ""
      ],
      "execution_count": null,
      "outputs": []
    }
  ]
}