{
  "nbformat": 4,
  "nbformat_minor": 0,
  "metadata": {
    "kernelspec": {
      "display_name": "Python 3",
      "language": "python",
      "name": "python3"
    },
    "language_info": {
      "codemirror_mode": {
        "name": "ipython",
        "version": 3
      },
      "file_extension": ".py",
      "mimetype": "text/x-python",
      "name": "python",
      "nbconvert_exporter": "python",
      "pygments_lexer": "ipython3",
      "version": "3.8.3"
    },
    "colab": {
      "name": "C14 Unit 5 Anthropology - Activity Notebook.ipynb",
      "provenance": []
    }
  },
  "cells": [
    {
      "cell_type": "markdown",
      "metadata": {
        "id": "2ryATa3OElxi"
      },
      "source": [
        "# C14U5: Anthropology\n",
        "\n",
        "In the following notebook, students will be able to:\n",
        "* Create Python functions to process datasets using pandas\n",
        "* Make a distinction between function definitions and function calls.\n",
        "* Write code that accepts user input.\n",
        "\n"
      ]
    },
    {
      "cell_type": "markdown",
      "metadata": {
        "id": "B6UIFfHdElxj"
      },
      "source": [
        "## 🟢 Module 1: Restaurant Culture Demographics Analysis\n"
      ]
    },
    {
      "cell_type": "markdown",
      "metadata": {
        "id": "WDLdsT_qElxj"
      },
      "source": [
        "You will be given a dataset that provides restaurant inspections, violations, grades and adjudication information. Food is important in various cultures, and here we explore the types of food that each borough in NYC are exposed to.\n",
        "\n",
        "First, use the pandas library to read in the data file."
      ]
    },
    {
      "cell_type": "code",
      "metadata": {
        "id": "ediIRso9Elxj"
      },
      "source": [
        "import pandas as pd"
      ],
      "execution_count": null,
      "outputs": []
    },
    {
      "cell_type": "code",
      "metadata": {
        "id": "rhhEpxFDElxj"
      },
      "source": [
        ""
      ],
      "execution_count": null,
      "outputs": []
    },
    {
      "cell_type": "code",
      "metadata": {
        "colab": {
          "base_uri": "https://localhost:8080/"
        },
        "id": "aiegCznFVKOt",
        "outputId": "ccaf5dba-8d3c-49f5-8356-6e0ef9a46a5b"
      },
      "source": [
        "from google.colab import drive\n",
        "drive.mount('/content/drive')"
      ],
      "execution_count": null,
      "outputs": [
        {
          "output_type": "stream",
          "text": [
            "Mounted at /content/drive\n"
          ],
          "name": "stdout"
        }
      ]
    },
    {
      "cell_type": "code",
      "metadata": {
        "colab": {
          "base_uri": "https://localhost:8080/",
          "height": 530
        },
        "id": "2vqvPDFNElxk",
        "outputId": "b39c1c23-f860-409b-a6c6-0c704629144e"
      },
      "source": [
        "#Display the first 5 rows of the dataset\n",
        "df = pd.read_csv(\"/content/drive/MyDrive/restaurant_data_set_2.csv - restaurant_data_set_2.csv (1).csv\")\n",
        "df.head()"
      ],
      "execution_count": null,
      "outputs": [
        {
          "output_type": "execute_result",
          "data": {
            "text/html": [
              "<div>\n",
              "<style scoped>\n",
              "    .dataframe tbody tr th:only-of-type {\n",
              "        vertical-align: middle;\n",
              "    }\n",
              "\n",
              "    .dataframe tbody tr th {\n",
              "        vertical-align: top;\n",
              "    }\n",
              "\n",
              "    .dataframe thead th {\n",
              "        text-align: right;\n",
              "    }\n",
              "</style>\n",
              "<table border=\"1\" class=\"dataframe\">\n",
              "  <thead>\n",
              "    <tr style=\"text-align: right;\">\n",
              "      <th></th>\n",
              "      <th>CAMIS</th>\n",
              "      <th>DBA</th>\n",
              "      <th>BORO</th>\n",
              "      <th>STREET</th>\n",
              "      <th>ZIPCODE</th>\n",
              "      <th>INSPECTION DATE</th>\n",
              "      <th>VIOLATION CODE</th>\n",
              "      <th>VIOLATION DESCRIPTION</th>\n",
              "      <th>GRADE</th>\n",
              "    </tr>\n",
              "  </thead>\n",
              "  <tbody>\n",
              "    <tr>\n",
              "      <th>0</th>\n",
              "      <td>41338311</td>\n",
              "      <td>DIAMOND FOREST YAN'S CHINESE KITCHEN</td>\n",
              "      <td>Staten Island</td>\n",
              "      <td>FOREST AVENUE</td>\n",
              "      <td>10301.0</td>\n",
              "      <td>11/25/2016</td>\n",
              "      <td>08A</td>\n",
              "      <td>Facility not vermin proof. Harborage or condit...</td>\n",
              "      <td>NaN</td>\n",
              "    </tr>\n",
              "    <tr>\n",
              "      <th>1</th>\n",
              "      <td>50055587</td>\n",
              "      <td>FUNFEST</td>\n",
              "      <td>Brooklyn</td>\n",
              "      <td>STRICKLAND AVENUE</td>\n",
              "      <td>11234.0</td>\n",
              "      <td>03/19/2019</td>\n",
              "      <td>06C</td>\n",
              "      <td>Food not protected from potential source of co...</td>\n",
              "      <td>A</td>\n",
              "    </tr>\n",
              "    <tr>\n",
              "      <th>2</th>\n",
              "      <td>50046026</td>\n",
              "      <td>EL TEMERARIO</td>\n",
              "      <td>Manhattan</td>\n",
              "      <td>8 AVENUE</td>\n",
              "      <td>10011.0</td>\n",
              "      <td>09/05/2019</td>\n",
              "      <td>04H</td>\n",
              "      <td>Raw, cooked or prepared food is adulterated, c...</td>\n",
              "      <td>NaN</td>\n",
              "    </tr>\n",
              "    <tr>\n",
              "      <th>3</th>\n",
              "      <td>41576311</td>\n",
              "      <td>PICCOLO CAFE</td>\n",
              "      <td>Manhattan</td>\n",
              "      <td>MADISON AVENUE</td>\n",
              "      <td>10016.0</td>\n",
              "      <td>08/18/2017</td>\n",
              "      <td>02B</td>\n",
              "      <td>Hot food item not held at or above 140º F.</td>\n",
              "      <td>A</td>\n",
              "    </tr>\n",
              "    <tr>\n",
              "      <th>4</th>\n",
              "      <td>50000641</td>\n",
              "      <td>AMERICAN CUT</td>\n",
              "      <td>Manhattan</td>\n",
              "      <td>GREENWICH STREET</td>\n",
              "      <td>10013.0</td>\n",
              "      <td>01/28/2020</td>\n",
              "      <td>04H</td>\n",
              "      <td>Raw, cooked or prepared food is adulterated, c...</td>\n",
              "      <td>NaN</td>\n",
              "    </tr>\n",
              "  </tbody>\n",
              "</table>\n",
              "</div>"
            ],
            "text/plain": [
              "      CAMIS  ... GRADE\n",
              "0  41338311  ...   NaN\n",
              "1  50055587  ...     A\n",
              "2  50046026  ...   NaN\n",
              "3  41576311  ...     A\n",
              "4  50000641  ...   NaN\n",
              "\n",
              "[5 rows x 9 columns]"
            ]
          },
          "metadata": {
            "tags": []
          },
          "execution_count": 3
        }
      ]
    },
    {
      "cell_type": "code",
      "metadata": {
        "id": "OwE-6ADFElxk",
        "colab": {
          "base_uri": "https://localhost:8080/"
        },
        "outputId": "6e73cf32-1788-4b39-d62a-ff2c72d48da1"
      },
      "source": [
        "#Find how many rows the dataset contains.\n",
        "len(df)"
      ],
      "execution_count": null,
      "outputs": [
        {
          "output_type": "execute_result",
          "data": {
            "text/plain": [
              "404249"
            ]
          },
          "metadata": {
            "tags": []
          },
          "execution_count": 4
        }
      ]
    },
    {
      "cell_type": "markdown",
      "metadata": {
        "id": "krBQg80OElxk"
      },
      "source": [
        "**Review**: Use the .loc[] attribute to filter the dataset to only show the information for each borough of NYC. Store each borough's information in its own variable."
      ]
    },
    {
      "cell_type": "code",
      "metadata": {
        "id": "ooeNoTh0Elxk",
        "colab": {
          "base_uri": "https://localhost:8080/",
          "height": 530
        },
        "outputId": "f316a7a8-ea4c-49cc-84e6-3807a31a5d9d"
      },
      "source": [
        "#Brooklyn\n",
        "df_brklyn = df.loc[df[\"BORO\"] == \"Brooklyn\"]\n",
        "df_brklyn.head()"
      ],
      "execution_count": null,
      "outputs": [
        {
          "output_type": "execute_result",
          "data": {
            "text/html": [
              "<div>\n",
              "<style scoped>\n",
              "    .dataframe tbody tr th:only-of-type {\n",
              "        vertical-align: middle;\n",
              "    }\n",
              "\n",
              "    .dataframe tbody tr th {\n",
              "        vertical-align: top;\n",
              "    }\n",
              "\n",
              "    .dataframe thead th {\n",
              "        text-align: right;\n",
              "    }\n",
              "</style>\n",
              "<table border=\"1\" class=\"dataframe\">\n",
              "  <thead>\n",
              "    <tr style=\"text-align: right;\">\n",
              "      <th></th>\n",
              "      <th>CAMIS</th>\n",
              "      <th>DBA</th>\n",
              "      <th>BORO</th>\n",
              "      <th>STREET</th>\n",
              "      <th>ZIPCODE</th>\n",
              "      <th>INSPECTION DATE</th>\n",
              "      <th>VIOLATION CODE</th>\n",
              "      <th>VIOLATION DESCRIPTION</th>\n",
              "      <th>GRADE</th>\n",
              "    </tr>\n",
              "  </thead>\n",
              "  <tbody>\n",
              "    <tr>\n",
              "      <th>1</th>\n",
              "      <td>50055587</td>\n",
              "      <td>FUNFEST</td>\n",
              "      <td>Brooklyn</td>\n",
              "      <td>STRICKLAND AVENUE</td>\n",
              "      <td>11234.0</td>\n",
              "      <td>03/19/2019</td>\n",
              "      <td>06C</td>\n",
              "      <td>Food not protected from potential source of co...</td>\n",
              "      <td>A</td>\n",
              "    </tr>\n",
              "    <tr>\n",
              "      <th>9</th>\n",
              "      <td>50057082</td>\n",
              "      <td>DAILY PRESS</td>\n",
              "      <td>Brooklyn</td>\n",
              "      <td>SOMERS STREET</td>\n",
              "      <td>11233.0</td>\n",
              "      <td>12/03/2019</td>\n",
              "      <td>02G</td>\n",
              "      <td>Cold food item held above 41º F (smoked fish a...</td>\n",
              "      <td>A</td>\n",
              "    </tr>\n",
              "    <tr>\n",
              "      <th>10</th>\n",
              "      <td>50035136</td>\n",
              "      <td>IC BROOKLYN CAFE</td>\n",
              "      <td>Brooklyn</td>\n",
              "      <td>WILSON AVENUE</td>\n",
              "      <td>11237.0</td>\n",
              "      <td>03/07/2017</td>\n",
              "      <td>04A</td>\n",
              "      <td>Food Protection Certificate not held by superv...</td>\n",
              "      <td>A</td>\n",
              "    </tr>\n",
              "    <tr>\n",
              "      <th>13</th>\n",
              "      <td>41348754</td>\n",
              "      <td>GRILL ON LEE</td>\n",
              "      <td>Brooklyn</td>\n",
              "      <td>LEE AVENUE</td>\n",
              "      <td>11211.0</td>\n",
              "      <td>09/20/2018</td>\n",
              "      <td>06F</td>\n",
              "      <td>Wiping cloths soiled or not stored in sanitizi...</td>\n",
              "      <td>C</td>\n",
              "    </tr>\n",
              "    <tr>\n",
              "      <th>14</th>\n",
              "      <td>50008656</td>\n",
              "      <td>LA GUALACENA BAR &amp; RESTAURANT</td>\n",
              "      <td>Brooklyn</td>\n",
              "      <td>WYCKOFF AVENUE</td>\n",
              "      <td>11237.0</td>\n",
              "      <td>12/09/2019</td>\n",
              "      <td>10F</td>\n",
              "      <td>Non-food contact surface improperly constructe...</td>\n",
              "      <td>NaN</td>\n",
              "    </tr>\n",
              "  </tbody>\n",
              "</table>\n",
              "</div>"
            ],
            "text/plain": [
              "       CAMIS  ... GRADE\n",
              "1   50055587  ...     A\n",
              "9   50057082  ...     A\n",
              "10  50035136  ...     A\n",
              "13  41348754  ...     C\n",
              "14  50008656  ...   NaN\n",
              "\n",
              "[5 rows x 9 columns]"
            ]
          },
          "metadata": {
            "tags": []
          },
          "execution_count": 5
        }
      ]
    },
    {
      "cell_type": "code",
      "metadata": {
        "id": "AgNqlrh4Elxk",
        "colab": {
          "base_uri": "https://localhost:8080/",
          "height": 479
        },
        "outputId": "86330bc8-6990-401a-812c-3f084218597a"
      },
      "source": [
        "#Queens\n",
        "df_queens = df.loc[df[\"BORO\"] == \"Queens\"]\n",
        "df_queens.head()"
      ],
      "execution_count": null,
      "outputs": [
        {
          "output_type": "execute_result",
          "data": {
            "text/html": [
              "<div>\n",
              "<style scoped>\n",
              "    .dataframe tbody tr th:only-of-type {\n",
              "        vertical-align: middle;\n",
              "    }\n",
              "\n",
              "    .dataframe tbody tr th {\n",
              "        vertical-align: top;\n",
              "    }\n",
              "\n",
              "    .dataframe thead th {\n",
              "        text-align: right;\n",
              "    }\n",
              "</style>\n",
              "<table border=\"1\" class=\"dataframe\">\n",
              "  <thead>\n",
              "    <tr style=\"text-align: right;\">\n",
              "      <th></th>\n",
              "      <th>CAMIS</th>\n",
              "      <th>DBA</th>\n",
              "      <th>BORO</th>\n",
              "      <th>STREET</th>\n",
              "      <th>ZIPCODE</th>\n",
              "      <th>INSPECTION DATE</th>\n",
              "      <th>VIOLATION CODE</th>\n",
              "      <th>VIOLATION DESCRIPTION</th>\n",
              "      <th>GRADE</th>\n",
              "    </tr>\n",
              "  </thead>\n",
              "  <tbody>\n",
              "    <tr>\n",
              "      <th>6</th>\n",
              "      <td>50052874</td>\n",
              "      <td>PALM COURT RESTAURANT &amp; LOUNGE</td>\n",
              "      <td>Queens</td>\n",
              "      <td>HILLSIDE AVE</td>\n",
              "      <td>11432.0</td>\n",
              "      <td>09/23/2019</td>\n",
              "      <td>02B</td>\n",
              "      <td>Hot food item not held at or above 140º F.</td>\n",
              "      <td>B</td>\n",
              "    </tr>\n",
              "    <tr>\n",
              "      <th>17</th>\n",
              "      <td>41650198</td>\n",
              "      <td>HINOMARU RAMEN</td>\n",
              "      <td>Queens</td>\n",
              "      <td>DITMARS BOULEVARD</td>\n",
              "      <td>11105.0</td>\n",
              "      <td>01/16/2019</td>\n",
              "      <td>04M</td>\n",
              "      <td>Live roaches present in facility's food and/or...</td>\n",
              "      <td>A</td>\n",
              "    </tr>\n",
              "    <tr>\n",
              "      <th>22</th>\n",
              "      <td>50033380</td>\n",
              "      <td>TEA AND MILK</td>\n",
              "      <td>Queens</td>\n",
              "      <td>34TH AVE</td>\n",
              "      <td>11106.0</td>\n",
              "      <td>11/17/2017</td>\n",
              "      <td>06D</td>\n",
              "      <td>Food contact surface not properly washed, rins...</td>\n",
              "      <td>A</td>\n",
              "    </tr>\n",
              "    <tr>\n",
              "      <th>24</th>\n",
              "      <td>41658324</td>\n",
              "      <td>MI CASA RESTAURANT</td>\n",
              "      <td>Queens</td>\n",
              "      <td>JAMAICA AVENUE</td>\n",
              "      <td>11418.0</td>\n",
              "      <td>12/06/2019</td>\n",
              "      <td>04L</td>\n",
              "      <td>Evidence of mice or live mice present in facil...</td>\n",
              "      <td>P</td>\n",
              "    </tr>\n",
              "    <tr>\n",
              "      <th>31</th>\n",
              "      <td>50063209</td>\n",
              "      <td>ICON</td>\n",
              "      <td>Queens</td>\n",
              "      <td>33RD ST</td>\n",
              "      <td>11106.0</td>\n",
              "      <td>02/27/2018</td>\n",
              "      <td>04L</td>\n",
              "      <td>Evidence of mice or live mice present in facil...</td>\n",
              "      <td>A</td>\n",
              "    </tr>\n",
              "  </tbody>\n",
              "</table>\n",
              "</div>"
            ],
            "text/plain": [
              "       CAMIS  ... GRADE\n",
              "6   50052874  ...     B\n",
              "17  41650198  ...     A\n",
              "22  50033380  ...     A\n",
              "24  41658324  ...     P\n",
              "31  50063209  ...     A\n",
              "\n",
              "[5 rows x 9 columns]"
            ]
          },
          "metadata": {
            "tags": []
          },
          "execution_count": 6
        }
      ]
    },
    {
      "cell_type": "code",
      "metadata": {
        "id": "kH2j0xwpElxl",
        "colab": {
          "base_uri": "https://localhost:8080/",
          "height": 496
        },
        "outputId": "fc7ea3d6-021f-4caa-87e2-c1e70652d15e"
      },
      "source": [
        "#Manhattan\n",
        "df_Manhattan = df.loc[df[\"BORO\"] == \"Manhattan\"]\n",
        "df_Manhattan.head()"
      ],
      "execution_count": null,
      "outputs": [
        {
          "output_type": "execute_result",
          "data": {
            "text/html": [
              "<div>\n",
              "<style scoped>\n",
              "    .dataframe tbody tr th:only-of-type {\n",
              "        vertical-align: middle;\n",
              "    }\n",
              "\n",
              "    .dataframe tbody tr th {\n",
              "        vertical-align: top;\n",
              "    }\n",
              "\n",
              "    .dataframe thead th {\n",
              "        text-align: right;\n",
              "    }\n",
              "</style>\n",
              "<table border=\"1\" class=\"dataframe\">\n",
              "  <thead>\n",
              "    <tr style=\"text-align: right;\">\n",
              "      <th></th>\n",
              "      <th>CAMIS</th>\n",
              "      <th>DBA</th>\n",
              "      <th>BORO</th>\n",
              "      <th>STREET</th>\n",
              "      <th>ZIPCODE</th>\n",
              "      <th>INSPECTION DATE</th>\n",
              "      <th>VIOLATION CODE</th>\n",
              "      <th>VIOLATION DESCRIPTION</th>\n",
              "      <th>GRADE</th>\n",
              "    </tr>\n",
              "  </thead>\n",
              "  <tbody>\n",
              "    <tr>\n",
              "      <th>2</th>\n",
              "      <td>50046026</td>\n",
              "      <td>EL TEMERARIO</td>\n",
              "      <td>Manhattan</td>\n",
              "      <td>8 AVENUE</td>\n",
              "      <td>10011.0</td>\n",
              "      <td>09/05/2019</td>\n",
              "      <td>04H</td>\n",
              "      <td>Raw, cooked or prepared food is adulterated, c...</td>\n",
              "      <td>NaN</td>\n",
              "    </tr>\n",
              "    <tr>\n",
              "      <th>3</th>\n",
              "      <td>41576311</td>\n",
              "      <td>PICCOLO CAFE</td>\n",
              "      <td>Manhattan</td>\n",
              "      <td>MADISON AVENUE</td>\n",
              "      <td>10016.0</td>\n",
              "      <td>08/18/2017</td>\n",
              "      <td>02B</td>\n",
              "      <td>Hot food item not held at or above 140º F.</td>\n",
              "      <td>A</td>\n",
              "    </tr>\n",
              "    <tr>\n",
              "      <th>4</th>\n",
              "      <td>50000641</td>\n",
              "      <td>AMERICAN CUT</td>\n",
              "      <td>Manhattan</td>\n",
              "      <td>GREENWICH STREET</td>\n",
              "      <td>10013.0</td>\n",
              "      <td>01/28/2020</td>\n",
              "      <td>04H</td>\n",
              "      <td>Raw, cooked or prepared food is adulterated, c...</td>\n",
              "      <td>NaN</td>\n",
              "    </tr>\n",
              "    <tr>\n",
              "      <th>5</th>\n",
              "      <td>41331752</td>\n",
              "      <td>DON GIOVANNI</td>\n",
              "      <td>Manhattan</td>\n",
              "      <td>WEST   44 STREET</td>\n",
              "      <td>10036.0</td>\n",
              "      <td>06/26/2019</td>\n",
              "      <td>02B</td>\n",
              "      <td>Hot food item not held at or above 140º F.</td>\n",
              "      <td>C</td>\n",
              "    </tr>\n",
              "    <tr>\n",
              "      <th>7</th>\n",
              "      <td>50099515</td>\n",
              "      <td>POMODORO</td>\n",
              "      <td>Manhattan</td>\n",
              "      <td>9 AVENUE</td>\n",
              "      <td>10018.0</td>\n",
              "      <td>02/28/2020</td>\n",
              "      <td>06D</td>\n",
              "      <td>Food contact surface not properly washed, rins...</td>\n",
              "      <td>B</td>\n",
              "    </tr>\n",
              "  </tbody>\n",
              "</table>\n",
              "</div>"
            ],
            "text/plain": [
              "      CAMIS  ... GRADE\n",
              "2  50046026  ...   NaN\n",
              "3  41576311  ...     A\n",
              "4  50000641  ...   NaN\n",
              "5  41331752  ...     C\n",
              "7  50099515  ...     B\n",
              "\n",
              "[5 rows x 9 columns]"
            ]
          },
          "metadata": {
            "tags": []
          },
          "execution_count": 7
        }
      ]
    },
    {
      "cell_type": "code",
      "metadata": {
        "id": "za87mCQ2Elxl",
        "colab": {
          "base_uri": "https://localhost:8080/",
          "height": 496
        },
        "outputId": "14c20f06-f5b7-40f1-dcd7-cce60df3db27"
      },
      "source": [
        "#Bronx\n",
        "df_Bronx = df.loc[df[\"BORO\"] == \"Bronx\"]\n",
        "df_Bronx.head()\n"
      ],
      "execution_count": null,
      "outputs": [
        {
          "output_type": "execute_result",
          "data": {
            "text/html": [
              "<div>\n",
              "<style scoped>\n",
              "    .dataframe tbody tr th:only-of-type {\n",
              "        vertical-align: middle;\n",
              "    }\n",
              "\n",
              "    .dataframe tbody tr th {\n",
              "        vertical-align: top;\n",
              "    }\n",
              "\n",
              "    .dataframe thead th {\n",
              "        text-align: right;\n",
              "    }\n",
              "</style>\n",
              "<table border=\"1\" class=\"dataframe\">\n",
              "  <thead>\n",
              "    <tr style=\"text-align: right;\">\n",
              "      <th></th>\n",
              "      <th>CAMIS</th>\n",
              "      <th>DBA</th>\n",
              "      <th>BORO</th>\n",
              "      <th>STREET</th>\n",
              "      <th>ZIPCODE</th>\n",
              "      <th>INSPECTION DATE</th>\n",
              "      <th>VIOLATION CODE</th>\n",
              "      <th>VIOLATION DESCRIPTION</th>\n",
              "      <th>GRADE</th>\n",
              "    </tr>\n",
              "  </thead>\n",
              "  <tbody>\n",
              "    <tr>\n",
              "      <th>16</th>\n",
              "      <td>50002478</td>\n",
              "      <td>VILLA TAPIA RESTAURANT</td>\n",
              "      <td>Bronx</td>\n",
              "      <td>BROOK AVENUE</td>\n",
              "      <td>10454.0</td>\n",
              "      <td>02/17/2017</td>\n",
              "      <td>08A</td>\n",
              "      <td>Facility not vermin proof. Harborage or condit...</td>\n",
              "      <td>NaN</td>\n",
              "    </tr>\n",
              "    <tr>\n",
              "      <th>18</th>\n",
              "      <td>50048064</td>\n",
              "      <td>JES CATERING</td>\n",
              "      <td>Bronx</td>\n",
              "      <td>EAST GUN HILL ROAD</td>\n",
              "      <td>10469.0</td>\n",
              "      <td>10/12/2016</td>\n",
              "      <td>04M</td>\n",
              "      <td>Live roaches present in facility's food and/or...</td>\n",
              "      <td>NaN</td>\n",
              "    </tr>\n",
              "    <tr>\n",
              "      <th>59</th>\n",
              "      <td>50039683</td>\n",
              "      <td>PICK UP SIX FRESH FAST ASIAN KITCHEN</td>\n",
              "      <td>Bronx</td>\n",
              "      <td>WEST  230 STREET</td>\n",
              "      <td>10463.0</td>\n",
              "      <td>12/09/2019</td>\n",
              "      <td>06B</td>\n",
              "      <td>Tobacco use, eating, or drinking from open con...</td>\n",
              "      <td>B</td>\n",
              "    </tr>\n",
              "    <tr>\n",
              "      <th>109</th>\n",
              "      <td>50018680</td>\n",
              "      <td>KATONAH PIZZA</td>\n",
              "      <td>Bronx</td>\n",
              "      <td>KATONAH AVENUE</td>\n",
              "      <td>10470.0</td>\n",
              "      <td>01/03/2017</td>\n",
              "      <td>10F</td>\n",
              "      <td>Non-food contact surface improperly constructe...</td>\n",
              "      <td>A</td>\n",
              "    </tr>\n",
              "    <tr>\n",
              "      <th>134</th>\n",
              "      <td>50003350</td>\n",
              "      <td>3-J RESTAURANT AND PIZZA</td>\n",
              "      <td>Bronx</td>\n",
              "      <td>PROSPECT AVENUE</td>\n",
              "      <td>10455.0</td>\n",
              "      <td>04/25/2019</td>\n",
              "      <td>02B</td>\n",
              "      <td>Hot food item not held at or above 140º F.</td>\n",
              "      <td>NaN</td>\n",
              "    </tr>\n",
              "  </tbody>\n",
              "</table>\n",
              "</div>"
            ],
            "text/plain": [
              "        CAMIS  ... GRADE\n",
              "16   50002478  ...   NaN\n",
              "18   50048064  ...   NaN\n",
              "59   50039683  ...     B\n",
              "109  50018680  ...     A\n",
              "134  50003350  ...   NaN\n",
              "\n",
              "[5 rows x 9 columns]"
            ]
          },
          "metadata": {
            "tags": []
          },
          "execution_count": 8
        }
      ]
    },
    {
      "cell_type": "code",
      "metadata": {
        "id": "YxRfY5nGElxl",
        "colab": {
          "base_uri": "https://localhost:8080/",
          "height": 547
        },
        "outputId": "acac841b-2141-4039-e476-87732b6c8aad"
      },
      "source": [
        "#Staten Island\n",
        "df_SI = df.loc[df[\"BORO\"] == \"Staten Island\"]\n",
        "df_SI.head()"
      ],
      "execution_count": null,
      "outputs": [
        {
          "output_type": "execute_result",
          "data": {
            "text/html": [
              "<div>\n",
              "<style scoped>\n",
              "    .dataframe tbody tr th:only-of-type {\n",
              "        vertical-align: middle;\n",
              "    }\n",
              "\n",
              "    .dataframe tbody tr th {\n",
              "        vertical-align: top;\n",
              "    }\n",
              "\n",
              "    .dataframe thead th {\n",
              "        text-align: right;\n",
              "    }\n",
              "</style>\n",
              "<table border=\"1\" class=\"dataframe\">\n",
              "  <thead>\n",
              "    <tr style=\"text-align: right;\">\n",
              "      <th></th>\n",
              "      <th>CAMIS</th>\n",
              "      <th>DBA</th>\n",
              "      <th>BORO</th>\n",
              "      <th>STREET</th>\n",
              "      <th>ZIPCODE</th>\n",
              "      <th>INSPECTION DATE</th>\n",
              "      <th>VIOLATION CODE</th>\n",
              "      <th>VIOLATION DESCRIPTION</th>\n",
              "      <th>GRADE</th>\n",
              "    </tr>\n",
              "  </thead>\n",
              "  <tbody>\n",
              "    <tr>\n",
              "      <th>0</th>\n",
              "      <td>41338311</td>\n",
              "      <td>DIAMOND FOREST YAN'S CHINESE KITCHEN</td>\n",
              "      <td>Staten Island</td>\n",
              "      <td>FOREST AVENUE</td>\n",
              "      <td>10301.0</td>\n",
              "      <td>11/25/2016</td>\n",
              "      <td>08A</td>\n",
              "      <td>Facility not vermin proof. Harborage or condit...</td>\n",
              "      <td>NaN</td>\n",
              "    </tr>\n",
              "    <tr>\n",
              "      <th>20</th>\n",
              "      <td>50056878</td>\n",
              "      <td>7 DAYS RESTAURANT</td>\n",
              "      <td>Staten Island</td>\n",
              "      <td>BAY STREET</td>\n",
              "      <td>10301.0</td>\n",
              "      <td>05/15/2019</td>\n",
              "      <td>10F</td>\n",
              "      <td>Non-food contact surface improperly constructe...</td>\n",
              "      <td>A</td>\n",
              "    </tr>\n",
              "    <tr>\n",
              "      <th>21</th>\n",
              "      <td>50059651</td>\n",
              "      <td>INDIAN XPRESS 2</td>\n",
              "      <td>Staten Island</td>\n",
              "      <td>HYLAN BOULEVARD</td>\n",
              "      <td>10305.0</td>\n",
              "      <td>05/29/2018</td>\n",
              "      <td>02G</td>\n",
              "      <td>Cold food item held above 41º F (smoked fish a...</td>\n",
              "      <td>NaN</td>\n",
              "    </tr>\n",
              "    <tr>\n",
              "      <th>25</th>\n",
              "      <td>50044877</td>\n",
              "      <td>THE HARD HAT CAFE</td>\n",
              "      <td>Staten Island</td>\n",
              "      <td>BAY STREET</td>\n",
              "      <td>10301.0</td>\n",
              "      <td>08/05/2019</td>\n",
              "      <td>08A</td>\n",
              "      <td>Facility not vermin proof. Harborage or condit...</td>\n",
              "      <td>B</td>\n",
              "    </tr>\n",
              "    <tr>\n",
              "      <th>26</th>\n",
              "      <td>40996642</td>\n",
              "      <td>RECUERDOS MEXICANOS</td>\n",
              "      <td>Staten Island</td>\n",
              "      <td>PORT RICHMOND AVENUE</td>\n",
              "      <td>10302.0</td>\n",
              "      <td>02/11/2020</td>\n",
              "      <td>04A</td>\n",
              "      <td>Food Protection Certificate not held by superv...</td>\n",
              "      <td>C</td>\n",
              "    </tr>\n",
              "  </tbody>\n",
              "</table>\n",
              "</div>"
            ],
            "text/plain": [
              "       CAMIS  ... GRADE\n",
              "0   41338311  ...   NaN\n",
              "20  50056878  ...     A\n",
              "21  50059651  ...   NaN\n",
              "25  50044877  ...     B\n",
              "26  40996642  ...     C\n",
              "\n",
              "[5 rows x 9 columns]"
            ]
          },
          "metadata": {
            "tags": []
          },
          "execution_count": 9
        }
      ]
    },
    {
      "cell_type": "markdown",
      "metadata": {
        "id": "rM2hx5JiElxl"
      },
      "source": [
        "### Investigate\n",
        "Fast food is a convenience such that you can grab it and go quickly on a work day and it is cheap. The downside is that it is unhealthy. Yet somehow many low-income and food-insecure households rely on fast-food restaurants. \n",
        "\n",
        "Write a program that finds the percentage of each of the following fast-food restaurants in each borough.\n",
        "* Mcdonald's \n",
        "* Burger King\n",
        "* Wendy's \n",
        "* Popeyes"
      ]
    },
    {
      "cell_type": "code",
      "metadata": {
        "id": "Gbyq6Q5NElxl",
        "colab": {
          "base_uri": "https://localhost:8080/"
        },
        "outputId": "1d416ce9-6038-4fa5-d136-43413119b9e1"
      },
      "source": [
        "#O'l Mcdonalds\n",
        "\n",
        "#Brooklyn\n",
        "len(df_brklyn.loc[df[\"DBA\"] == \"MCDONALD'S\"])\n",
        "#total of the restaurants:\n",
        "total = len(df.loc[df[\"DBA\"] == \"MCDONALD'S\"])\n",
        "#find teh percent\n",
        "print(len(df_brklyn.loc[df[\"DBA\"] == \"MCDONALD'S\"])/total * 100, \"%\")\n",
        "\n",
        "\n",
        "#Queenz\n",
        "print(len(df_queens.loc[df[\"DBA\"] == \"MCDONALD'S\"])/total * 100, \"%\")\n",
        "\n",
        "#Manhattan\n",
        "print(len(df_Manhattan.loc[df[\"DBA\"] == \"MCDONALD'S\"])/total * 100, \"%\")\n",
        "\n",
        "#Bronx\n",
        "print(len(df_Bronx.loc[df[\"DBA\"] == \"MCDONALD'S\"])/total * 100, \"%\")\n",
        "\n",
        "#Staten Island\n",
        "print(len(df_SI.loc[df[\"DBA\"] == \"MCDONALD'S\"])/total * 100, \"%\")"
      ],
      "execution_count": null,
      "outputs": [
        {
          "output_type": "stream",
          "text": [
            "20.269642026964203 %\n",
            "25.615992561599256 %\n",
            "29.242212924221295 %\n",
            "20.82752208275221 %\n",
            "4.044630404463041 %\n"
          ],
          "name": "stdout"
        }
      ]
    },
    {
      "cell_type": "code",
      "metadata": {
        "id": "JERCkfquElxl"
      },
      "source": [
        "#Burger King\n",
        "\n",
        "\n",
        "#brooklyn\n",
        "\n",
        "#queens\n",
        "\n",
        "#manhattan\n",
        "\n",
        "#Bronx\n",
        "\n",
        "#Staten Island"
      ],
      "execution_count": null,
      "outputs": []
    },
    {
      "cell_type": "code",
      "metadata": {
        "id": "MriwJ9OcElxl"
      },
      "source": [
        ""
      ],
      "execution_count": null,
      "outputs": []
    },
    {
      "cell_type": "code",
      "metadata": {
        "id": "u02DnGL8Elxm"
      },
      "source": [
        ""
      ],
      "execution_count": null,
      "outputs": []
    },
    {
      "cell_type": "markdown",
      "metadata": {
        "id": "SkLkKx4fElxm"
      },
      "source": [
        "Change your code into a function that can produce percentages based on what restaurant you are searching the dataframe for. "
      ]
    },
    {
      "cell_type": "code",
      "metadata": {
        "id": "xyhtZzXBElxm"
      },
      "source": [
        "#function Header\n",
        "def borough_restaurantz_percentage(dataFrame, restaurant):\n",
        "  #Brooklyn\n",
        "  #total of the restaurants:\n",
        "  total = len(dataFrame.loc[dataFrame[\"DBA\"] == restaurant])\n",
        "  #find teh percent\n",
        "  print(len(dataFrame.loc[dataFrame[\"BORO\"] == \"Brooklyn\"].loc[dataFrame[\"DBA\"] == restaurant])/total * 100, \"%\")\n",
        "\n",
        "\n",
        "  #Queenz\n",
        "  print(len(dataFrame.loc[dataFrame[\"BORO\"] == \"Queens\"].loc[dataFrame[\"DBA\"] == restaurant])/total * 100, \"%\")\n",
        "\n",
        "  #Manhattan\n",
        "  print(len(dataFrame.loc[dataFrame[\"BORO\"] == \"Manhattan\"].loc[dataFrame[\"DBA\"] == restaurant])/total * 100, \"%\")\n",
        "\n",
        "  #Bronx\n",
        "  print(len(dataFrame.loc[dataFrame[\"BORO\"] == \"Bronx\"].loc[dataFrame[\"DBA\"] == restaurant])/total * 100, \"%\")\n",
        "\n",
        "  #Staten Island\n",
        "  print(len(dataFrame.loc[dataFrame[\"BORO\"] == \"Staten Island\"].loc[dataFrame[\"DBA\"] == restaurant])/total * 100, \"%\")\n",
        "\n",
        "  return"
      ],
      "execution_count": null,
      "outputs": []
    },
    {
      "cell_type": "code",
      "metadata": {
        "id": "VpkQSiBbElxm",
        "colab": {
          "base_uri": "https://localhost:8080/"
        },
        "outputId": "31391a17-ebd6-4f20-d901-790f326ede7e"
      },
      "source": [
        "#Don't forget to call your function!\n",
        "borough_restaurantz_percentage(df, \"MCDONALD'S\")"
      ],
      "execution_count": null,
      "outputs": [
        {
          "output_type": "stream",
          "text": [
            "20.269642026964203 %\n",
            "25.615992561599256 %\n",
            "29.242212924221295 %\n",
            "20.82752208275221 %\n",
            "4.044630404463041 %\n"
          ],
          "name": "stdout"
        }
      ]
    },
    {
      "cell_type": "code",
      "metadata": {
        "colab": {
          "base_uri": "https://localhost:8080/"
        },
        "id": "hVW3gS1cbJG0",
        "outputId": "8ac63033-2d6b-468f-8dc5-377553cc6450"
      },
      "source": [
        "borough_restaurantz_percentage(df, \"BURGER KING\")"
      ],
      "execution_count": null,
      "outputs": [
        {
          "output_type": "stream",
          "text": [
            "36.78474114441417 %\n",
            "26.430517711171664 %\n",
            "11.353315168029065 %\n",
            "19.346049046321525 %\n",
            "6.085376930063579 %\n"
          ],
          "name": "stdout"
        }
      ]
    },
    {
      "cell_type": "code",
      "metadata": {
        "colab": {
          "base_uri": "https://localhost:8080/"
        },
        "id": "342t_AzJbMox",
        "outputId": "fcbcaef2-4088-438e-a883-74c9ce90e269"
      },
      "source": [
        "borough_restaurantz_percentage(df, \"WENDY'S\")"
      ],
      "execution_count": null,
      "outputs": [
        {
          "output_type": "stream",
          "text": [
            "21.153846153846153 %\n",
            "24.57264957264957 %\n",
            "29.700854700854702 %\n",
            "17.307692307692307 %\n",
            "7.264957264957266 %\n"
          ],
          "name": "stdout"
        }
      ]
    },
    {
      "cell_type": "code",
      "metadata": {
        "colab": {
          "base_uri": "https://localhost:8080/"
        },
        "id": "xLAbvp_RbPdj",
        "outputId": "ff503815-beaf-4748-e5d7-2a1126e8117a"
      },
      "source": [
        "borough_restaurantz_percentage(df, \"POPEYES\")"
      ],
      "execution_count": null,
      "outputs": [
        {
          "output_type": "stream",
          "text": [
            "26.01787487586892 %\n",
            "27.110228401191662 %\n",
            "18.669314796425024 %\n",
            "25.02482621648461 %\n",
            "3.1777557100297913 %\n"
          ],
          "name": "stdout"
        }
      ]
    },
    {
      "cell_type": "markdown",
      "metadata": {
        "id": "Bl_lf714Elxm"
      },
      "source": [
        "Each borough has the following demographics (taken from US census data): <br><br>\n",
        "\n",
        "Brooklyn\n",
        "* White - 49.8%\n",
        "* Black - 33.8%\n",
        "* Native American - 0.9% \n",
        "* Asian - 12.7%\n",
        "* Native Hawaiian and other Pacific Islander - 0.1%\n",
        "* Mixed - 2.7%\n",
        "* Hispanic or Latino - 18.9% \n",
        "<br><br>\n",
        "\n",
        "Queens\n",
        "* White - 47.8%\n",
        "* Black - 20.7%\n",
        "* Native American - 1.3% \n",
        "* Asian - 26.9%\n",
        "* Native Hawaiian and other Pacific Islander - 0.2%\n",
        "* Mixed - 3.0%\n",
        "* Hispanic or Latino - 28.2%\n",
        "<br><br>\n",
        "\n",
        "Manhattan\n",
        "* White - 64.6%\n",
        "* Black - 17.8%\n",
        "* Native American - 1.2%\n",
        "* Asian - 12.8%\n",
        "* Native Hawaiian and other Pacific Islander - 0.2% \n",
        "* Mixed - 3.4%\n",
        "* Hispanic or Latino - 25.6% \n",
        "<br><br>\n",
        "\n",
        "Bronx\n",
        "* White -  44.7%\n",
        "* Black - 24.3%\n",
        "* Native American - 0.4% \n",
        "* Asian - 14.1%\n",
        "* Native Hawaiian and other Pacific Islander - 0.1% \n",
        "* Mixed - 3.6%\n",
        "* Hispanic or Latino - 29.1% \n",
        "<br><br>\n",
        "\n",
        "Staten Island\n",
        "* White - 74.5%\n",
        "* Black - 11.6%\n",
        "* Native American - 0.7% \n",
        "* Asian - 10.9%\n",
        "* Native Hawaiian and other Pacific Islander - 0.1% \n",
        "* Mixed - 2.2%\n",
        "* Hispanic or Latino - 18.6% \n",
        "\n",
        "\n",
        "Questions:\n",
        "1. How can we narrow down the data further to find how different racial/ethnic groups are impacted by its population of fast-food restaurants? (by zip code)\n",
        "\n",
        "2. How may the connection between fast-food restaurants and black and low-income neighborhoods contribute to the causes of the obesity epidemic in these poulations?\n",
        "\n",
        "3. What can we do with computer science to help change this?"
      ]
    },
    {
      "cell_type": "code",
      "metadata": {
        "id": "tAlNyBLcElxm"
      },
      "source": [
        ""
      ],
      "execution_count": null,
      "outputs": []
    },
    {
      "cell_type": "markdown",
      "metadata": {
        "id": "3klNvjaoElxm"
      },
      "source": [
        "# 🟢 Module 2: Language Translation Function"
      ]
    },
    {
      "cell_type": "markdown",
      "metadata": {
        "id": "epMphT50Elxn"
      },
      "source": [
        "In 1971, a linguist named Morris Swadesh published a list of words most resistant to cross-cultural change. The list, now referred to as the Swadesh list (there are two primary versions, of 100 and 200 words), has been used to reconstruct genealogical relationships among the languages in a language family.\n",
        "\n",
        "AMNH colleagues, Dr. Whiteley and Dr. Ward Wheeler (Curator, Invertebrate Zoology) have been studying historical relationships among languages, beginning with Uto-Aztecan languages of Middle and North America, using genetic methods developed in the field of evolutionary biology. With phylogenetic software, they systematically compare cognate words as sequences of sounds (phonemes). Where available, they also analyze grammatical (morphological and syntactic) data.\n",
        "\n",
        "**TASK**: Use the data given to write a program that accepts user-input and translates a given English word using the Uto-Aztecan language. Note: Not every English word is recorded, so be sure to create a conditional for the case that it does not exist in the dataset."
      ]
    },
    {
      "cell_type": "code",
      "metadata": {
        "id": "dG_dSS_AElxn",
        "colab": {
          "base_uri": "https://localhost:8080/",
          "height": 423
        },
        "outputId": "0bdf0573-e26c-45cc-ce5b-19bdf0920f48"
      },
      "source": [
        "import pandas as pd\n",
        "df_languages = pd.read_csv(\"/content/drive/MyDrive/uto_aztecan_languages_datasets.csv\")\n",
        "df_languages.head()"
      ],
      "execution_count": null,
      "outputs": [
        {
          "output_type": "execute_result",
          "data": {
            "text/html": [
              "<div>\n",
              "<style scoped>\n",
              "    .dataframe tbody tr th:only-of-type {\n",
              "        vertical-align: middle;\n",
              "    }\n",
              "\n",
              "    .dataframe tbody tr th {\n",
              "        vertical-align: top;\n",
              "    }\n",
              "\n",
              "    .dataframe thead th {\n",
              "        text-align: right;\n",
              "    }\n",
              "</style>\n",
              "<table border=\"1\" class=\"dataframe\">\n",
              "  <thead>\n",
              "    <tr style=\"text-align: right;\">\n",
              "      <th></th>\n",
              "      <th>Language</th>\n",
              "      <th>louse</th>\n",
              "      <th>Unnamed: 2</th>\n",
              "      <th>two</th>\n",
              "      <th>Unnamed: 4</th>\n",
              "      <th>water</th>\n",
              "      <th>Unnamed: 6</th>\n",
              "      <th>ear</th>\n",
              "      <th>Unnamed: 8</th>\n",
              "      <th>die</th>\n",
              "      <th>Unnamed: 10</th>\n",
              "      <th>I</th>\n",
              "      <th>Unnamed: 12</th>\n",
              "      <th>liver</th>\n",
              "      <th>Unnamed: 14</th>\n",
              "      <th>eye</th>\n",
              "      <th>Unnamed: 16</th>\n",
              "      <th>hand</th>\n",
              "      <th>Unnamed: 18</th>\n",
              "      <th>hear</th>\n",
              "      <th>Unnamed: 20</th>\n",
              "      <th>tree</th>\n",
              "      <th>Unnamed: 22</th>\n",
              "      <th>fish</th>\n",
              "      <th>Unnamed: 24</th>\n",
              "      <th>name_(noun,though_some_overlap_with_verb)</th>\n",
              "      <th>Unnamed: 26</th>\n",
              "      <th>stone</th>\n",
              "      <th>Unnamed: 28</th>\n",
              "      <th>tooth</th>\n",
              "      <th>Unnamed: 30</th>\n",
              "      <th>breast</th>\n",
              "      <th>Unnamed: 32</th>\n",
              "      <th>you_(sing.)</th>\n",
              "      <th>Unnamed: 34</th>\n",
              "      <th>path</th>\n",
              "      <th>Unnamed: 36</th>\n",
              "      <th>bone</th>\n",
              "      <th>Unnamed: 38</th>\n",
              "      <th>tongue</th>\n",
              "      <th>...</th>\n",
              "      <th>cold</th>\n",
              "      <th>Unnamed: 166</th>\n",
              "      <th>flesh_(meat)</th>\n",
              "      <th>Unnamed: 168</th>\n",
              "      <th>neck</th>\n",
              "      <th>Unnamed: 170</th>\n",
              "      <th>to_say</th>\n",
              "      <th>Unnamed: 172</th>\n",
              "      <th>to_burn</th>\n",
              "      <th>Unnamed: 174</th>\n",
              "      <th>tail</th>\n",
              "      <th>Unnamed: 176</th>\n",
              "      <th>sand</th>\n",
              "      <th>Unnamed: 178</th>\n",
              "      <th>that/that_one</th>\n",
              "      <th>Unnamed: 180</th>\n",
              "      <th>walk</th>\n",
              "      <th>Unnamed: 182</th>\n",
              "      <th>sit</th>\n",
              "      <th>Unnamed: 184</th>\n",
              "      <th>many</th>\n",
              "      <th>Unnamed: 186</th>\n",
              "      <th>all</th>\n",
              "      <th>Unnamed: 188</th>\n",
              "      <th>know</th>\n",
              "      <th>Unnamed: 190</th>\n",
              "      <th>cloud</th>\n",
              "      <th>Unnamed: 192</th>\n",
              "      <th>swim</th>\n",
              "      <th>Unnamed: 194</th>\n",
              "      <th>belly</th>\n",
              "      <th>Unnamed: 196</th>\n",
              "      <th>big</th>\n",
              "      <th>Unnamed: 198</th>\n",
              "      <th>hot</th>\n",
              "      <th>Unnamed: 200</th>\n",
              "      <th>lie_(down)</th>\n",
              "      <th>Unnamed: 202</th>\n",
              "      <th>small</th>\n",
              "      <th>Unnamed: 204</th>\n",
              "    </tr>\n",
              "  </thead>\n",
              "  <tbody>\n",
              "    <tr>\n",
              "      <th>0</th>\n",
              "      <td>NaN</td>\n",
              "      <td>IPA</td>\n",
              "      <td>tipa</td>\n",
              "      <td>IPA</td>\n",
              "      <td>tipa</td>\n",
              "      <td>IPA</td>\n",
              "      <td>tipa</td>\n",
              "      <td>IPA</td>\n",
              "      <td>tipa</td>\n",
              "      <td>IPA</td>\n",
              "      <td>tipa</td>\n",
              "      <td>IPA</td>\n",
              "      <td>tipa</td>\n",
              "      <td>IPA</td>\n",
              "      <td>tipa</td>\n",
              "      <td>IPA</td>\n",
              "      <td>tipa</td>\n",
              "      <td>IPA</td>\n",
              "      <td>tipa</td>\n",
              "      <td>IPA</td>\n",
              "      <td>tipa</td>\n",
              "      <td>IPA</td>\n",
              "      <td>tipa</td>\n",
              "      <td>IPA</td>\n",
              "      <td>tipa</td>\n",
              "      <td>IPA</td>\n",
              "      <td>tipa</td>\n",
              "      <td>IPA</td>\n",
              "      <td>tipa</td>\n",
              "      <td>IPA</td>\n",
              "      <td>tipa</td>\n",
              "      <td>IPA</td>\n",
              "      <td>tipa</td>\n",
              "      <td>IPA</td>\n",
              "      <td>tipa</td>\n",
              "      <td>IPA</td>\n",
              "      <td>tipa</td>\n",
              "      <td>IPA</td>\n",
              "      <td>tipa</td>\n",
              "      <td>IPA</td>\n",
              "      <td>...</td>\n",
              "      <td>IPA</td>\n",
              "      <td>tipa</td>\n",
              "      <td>IPA</td>\n",
              "      <td>tipa</td>\n",
              "      <td>IPA</td>\n",
              "      <td>tipa</td>\n",
              "      <td>IPA</td>\n",
              "      <td>tipa</td>\n",
              "      <td>IPA</td>\n",
              "      <td>tipa</td>\n",
              "      <td>IPA</td>\n",
              "      <td>tipa</td>\n",
              "      <td>IPA</td>\n",
              "      <td>tipa</td>\n",
              "      <td>IPA</td>\n",
              "      <td>tipa</td>\n",
              "      <td>IPA</td>\n",
              "      <td>tipa</td>\n",
              "      <td>IPA</td>\n",
              "      <td>tipa</td>\n",
              "      <td>IPA</td>\n",
              "      <td>tipa</td>\n",
              "      <td>IPA</td>\n",
              "      <td>tipa</td>\n",
              "      <td>IPA</td>\n",
              "      <td>tipa</td>\n",
              "      <td>IPA</td>\n",
              "      <td>tipa</td>\n",
              "      <td>IPA</td>\n",
              "      <td>tipa</td>\n",
              "      <td>IPA</td>\n",
              "      <td>tipa</td>\n",
              "      <td>IPA</td>\n",
              "      <td>tipa</td>\n",
              "      <td>IPA</td>\n",
              "      <td>tipa</td>\n",
              "      <td>IPA</td>\n",
              "      <td>tipa</td>\n",
              "      <td>IPA</td>\n",
              "      <td>tipa</td>\n",
              "    </tr>\n",
              "    <tr>\n",
              "      <th>1</th>\n",
              "      <td>NaN</td>\n",
              "      <td>NaN</td>\n",
              "      <td>NaN</td>\n",
              "      <td>NaN</td>\n",
              "      <td>NaN</td>\n",
              "      <td>NaN</td>\n",
              "      <td>NaN</td>\n",
              "      <td>NaN</td>\n",
              "      <td>NaN</td>\n",
              "      <td>NaN</td>\n",
              "      <td>NaN</td>\n",
              "      <td>NaN</td>\n",
              "      <td>NaN</td>\n",
              "      <td>NaN</td>\n",
              "      <td>NaN</td>\n",
              "      <td>NaN</td>\n",
              "      <td>NaN</td>\n",
              "      <td>NaN</td>\n",
              "      <td>NaN</td>\n",
              "      <td>NaN</td>\n",
              "      <td>NaN</td>\n",
              "      <td>NaN</td>\n",
              "      <td>NaN</td>\n",
              "      <td>NaN</td>\n",
              "      <td>NaN</td>\n",
              "      <td>NaN</td>\n",
              "      <td>NaN</td>\n",
              "      <td>NaN</td>\n",
              "      <td>NaN</td>\n",
              "      <td>NaN</td>\n",
              "      <td>NaN</td>\n",
              "      <td>NaN</td>\n",
              "      <td>NaN</td>\n",
              "      <td>NaN</td>\n",
              "      <td>NaN</td>\n",
              "      <td>NaN</td>\n",
              "      <td>NaN</td>\n",
              "      <td>NaN</td>\n",
              "      <td>NaN</td>\n",
              "      <td>NaN</td>\n",
              "      <td>...</td>\n",
              "      <td>NaN</td>\n",
              "      <td>NaN</td>\n",
              "      <td>NaN</td>\n",
              "      <td>NaN</td>\n",
              "      <td>NaN</td>\n",
              "      <td>NaN</td>\n",
              "      <td>NaN</td>\n",
              "      <td>NaN</td>\n",
              "      <td>NaN</td>\n",
              "      <td>NaN</td>\n",
              "      <td>NaN</td>\n",
              "      <td>NaN</td>\n",
              "      <td>NaN</td>\n",
              "      <td>NaN</td>\n",
              "      <td>NaN</td>\n",
              "      <td>NaN</td>\n",
              "      <td>NaN</td>\n",
              "      <td>NaN</td>\n",
              "      <td>NaN</td>\n",
              "      <td>NaN</td>\n",
              "      <td>NaN</td>\n",
              "      <td>NaN</td>\n",
              "      <td>NaN</td>\n",
              "      <td>NaN</td>\n",
              "      <td>NaN</td>\n",
              "      <td>NaN</td>\n",
              "      <td>NaN</td>\n",
              "      <td>NaN</td>\n",
              "      <td>NaN</td>\n",
              "      <td>NaN</td>\n",
              "      <td>NaN</td>\n",
              "      <td>NaN</td>\n",
              "      <td>NaN</td>\n",
              "      <td>NaN</td>\n",
              "      <td>NaN</td>\n",
              "      <td>NaN</td>\n",
              "      <td>NaN</td>\n",
              "      <td>NaN</td>\n",
              "      <td>NaN</td>\n",
              "      <td>NaN</td>\n",
              "    </tr>\n",
              "    <tr>\n",
              "      <th>2</th>\n",
              "      <td>Northern_Paiute</td>\n",
              "      <td>potsiɑppi</td>\n",
              "      <td>pot\\super siAppi</td>\n",
              "      <td>wɑhɑ</td>\n",
              "      <td>wAhA</td>\n",
              "      <td>pɑ̄</td>\n",
              "      <td>p\\=A</td>\n",
              "      <td>nɑkkɑ</td>\n",
              "      <td>nAkkA</td>\n",
              "      <td>jɑi | jɑɁi</td>\n",
              "      <td>jAi | jAPi</td>\n",
              "      <td>nɯ</td>\n",
              "      <td>nW</td>\n",
              "      <td>nɯwɯ</td>\n",
              "      <td>nWwW</td>\n",
              "      <td>pu­</td>\n",
              "      <td>pu{\\textipa{-}}</td>\n",
              "      <td>mɑ­</td>\n",
              "      <td>mA{\\textipa{-}}</td>\n",
              "      <td>nɑkkɑ</td>\n",
              "      <td>nAkkA</td>\n",
              "      <td>kunu</td>\n",
              "      <td>kunu</td>\n",
              "      <td>pɑkkwi</td>\n",
              "      <td>pAkk\\super wi</td>\n",
              "      <td>nɑnijɑnnɑ</td>\n",
              "      <td>nAnijAnnA</td>\n",
              "      <td>tɯpi</td>\n",
              "      <td>tWpi</td>\n",
              "      <td>tɑmɑ</td>\n",
              "      <td>tAmA</td>\n",
              "      <td>NaN</td>\n",
              "      <td>NaN</td>\n",
              "      <td>ɯ</td>\n",
              "      <td>W</td>\n",
              "      <td>po̱</td>\n",
              "      <td>p\\=*o</td>\n",
              "      <td>tsihoporo</td>\n",
              "      <td>t\\super sihoporo</td>\n",
              "      <td>iko</td>\n",
              "      <td>...</td>\n",
              "      <td>nɑʔɯtˢɯssɯ</td>\n",
              "      <td>nAPWt\\super sWssW</td>\n",
              "      <td>tuku</td>\n",
              "      <td>tuku</td>\n",
              "      <td>kɑkiɑ</td>\n",
              "      <td>kAkiA</td>\n",
              "      <td>ttɯ̄kkʷi</td>\n",
              "      <td>tt\\=Wkk\\super wi</td>\n",
              "      <td>nɑi</td>\n",
              "      <td>nAi</td>\n",
              "      <td>kʷɑsi</td>\n",
              "      <td>k\\super wAsi</td>\n",
              "      <td>pɑsiwɑpɯ</td>\n",
              "      <td>pAsiwApW</td>\n",
              "      <td>okɑ | osu</td>\n",
              "      <td>okA | osu</td>\n",
              "      <td>nɯmi</td>\n",
              "      <td>nWmi</td>\n",
              "      <td>kkɑttɯ</td>\n",
              "      <td>kkAttW</td>\n",
              "      <td>iwɑ</td>\n",
              "      <td>iwA</td>\n",
              "      <td>nōʔju</td>\n",
              "      <td>n\\=oPju</td>\n",
              "      <td>mɑjɯ</td>\n",
              "      <td>mAjW</td>\n",
              "      <td>kumiɑ</td>\n",
              "      <td>kumiA</td>\n",
              "      <td>pɑhɑpi</td>\n",
              "      <td>pAhApi</td>\n",
              "      <td>NaN</td>\n",
              "      <td>NaN</td>\n",
              "      <td>ppɑpɑ</td>\n",
              "      <td>ppApA</td>\n",
              "      <td>ɯtɯtɯ</td>\n",
              "      <td>WtWtW</td>\n",
              "      <td>hɑpi | ­pokwɑ</td>\n",
              "      <td>hApi | {\\textipa{-}}pok\\super wA</td>\n",
              "      <td>tɯ̄tsi</td>\n",
              "      <td>t\\=Wt\\super si</td>\n",
              "    </tr>\n",
              "    <tr>\n",
              "      <th>3</th>\n",
              "      <td>Western_Mono</td>\n",
              "      <td>pusi̱ʔɑ</td>\n",
              "      <td>pus\\=*iPA</td>\n",
              "      <td>wɑẖɑi</td>\n",
              "      <td>wA\\=*hAi</td>\n",
              "      <td>pɑ̱jɑ</td>\n",
              "      <td>p\\=*AjA</td>\n",
              "      <td>nɑ̱kkɑ</td>\n",
              "      <td>n\\=*AkkA</td>\n",
              "      <td>tijɑwi­</td>\n",
              "      <td>tijAwi{\\textipa{-}}</td>\n",
              "      <td>nɯ</td>\n",
              "      <td>nW</td>\n",
              "      <td>nɯ̱wɯ</td>\n",
              "      <td>n\\=*WwW</td>\n",
              "      <td>pu̱ssi</td>\n",
              "      <td>p\\=*ussi</td>\n",
              "      <td>mɑ̱jɑ</td>\n",
              "      <td>m\\=*AjA</td>\n",
              "      <td>nɑ̄qɑ</td>\n",
              "      <td>n\\=AqA</td>\n",
              "      <td>wɯnɯ̱̄pɯ</td>\n",
              "      <td>wWn\\={\\=*W}pW</td>\n",
              "      <td>pɑ̱kkwi</td>\n",
              "      <td>p\\=*Akk\\super wi</td>\n",
              "      <td>nijɑ</td>\n",
              "      <td>nijA</td>\n",
              "      <td>tɯ̱ppi</td>\n",
              "      <td>t\\=*Wppi</td>\n",
              "      <td>tɑ̱wɑ</td>\n",
              "      <td>t\\=*AwA</td>\n",
              "      <td>pitsi̱ʔ</td>\n",
              "      <td>pit\\super s\\=*iP</td>\n",
              "      <td>ɯh</td>\n",
              "      <td>Wh</td>\n",
              "      <td>pōjo</td>\n",
              "      <td>p\\=ojo</td>\n",
              "      <td>o̱ho</td>\n",
              "      <td>\\=*oho</td>\n",
              "      <td>e̱ko</td>\n",
              "      <td>...</td>\n",
              "      <td>ɯtˢɯʔɯ̱ttu</td>\n",
              "      <td>Wt\\super sWP\\=*Wttu</td>\n",
              "      <td>tu̱kku</td>\n",
              "      <td>t\\=*ukku</td>\n",
              "      <td>ku̱ttɑ</td>\n",
              "      <td>k\\=*uttA</td>\n",
              "      <td>ine | mihē | wɑqɑ | tɯ̄kkwi</td>\n",
              "      <td>ine | mih\\=e | wAqA | t\\=Wkkwi</td>\n",
              "      <td>NaN</td>\n",
              "      <td>NaN</td>\n",
              "      <td>kʷɑ̱tˢi</td>\n",
              "      <td>k\\super w\\=*At\\super si</td>\n",
              "      <td>pɑsijɑ̱ppɯ</td>\n",
              "      <td>pAsij\\=*AppW</td>\n",
              "      <td>u</td>\n",
              "      <td>u</td>\n",
              "      <td>NaN</td>\n",
              "      <td>NaN</td>\n",
              "      <td>qɑttɯ | jɯkkʷi</td>\n",
              "      <td>qAttW | jWkk\\super wi</td>\n",
              "      <td>ewɑ</td>\n",
              "      <td>ewA</td>\n",
              "      <td>NaN</td>\n",
              "      <td>NaN</td>\n",
              "      <td>suttɑpɯhɑi | pumɑ̄tˢi­</td>\n",
              "      <td>suttApWhAi | pum\\=At\\super si{\\textipa{-}}</td>\n",
              "      <td>pɑkɯnɑ̱ppe | tō̱ppe | tōh</td>\n",
              "      <td>pAkWn\\=*Appe | t\\={\\=*o}ppe | t\\=oh</td>\n",
              "      <td>pɑhɑpi­</td>\n",
              "      <td>pAhApi{\\textipa{-}}</td>\n",
              "      <td>qohi</td>\n",
              "      <td>qohi</td>\n",
              "      <td>pɑpɑ</td>\n",
              "      <td>pApA</td>\n",
              "      <td>ɯtɯʔɯ̱ttu</td>\n",
              "      <td>WtWP\\=*Wttu</td>\n",
              "      <td>hɑpi­</td>\n",
              "      <td>hApi{\\textipa{-}}</td>\n",
              "      <td>inottsiɁttsiɁ</td>\n",
              "      <td>inott\\super sPtt\\super siP</td>\n",
              "    </tr>\n",
              "    <tr>\n",
              "      <th>4</th>\n",
              "      <td>Tümpisa_Shoshone_(Panamint,Koso)</td>\n",
              "      <td>posiɑttsi</td>\n",
              "      <td>posiAtt\\super si</td>\n",
              "      <td>wɑhɑ | wɑhɑttɯn</td>\n",
              "      <td>wAhA | wAhAttWn</td>\n",
              "      <td>pɑ̄ | pɑ̄ttsi</td>\n",
              "      <td>p\\=A | p\\=Att\\super si</td>\n",
              "      <td>nɑŋki</td>\n",
              "      <td>nANki</td>\n",
              "      <td>tijɑih</td>\n",
              "      <td>tijAih</td>\n",
              "      <td>nɯ | nɯ̄</td>\n",
              "      <td>nW | n\\=W</td>\n",
              "      <td>nɯmɯ | nɯmɯttsi</td>\n",
              "      <td>nWmW | nWmWtt\\super si</td>\n",
              "      <td>pui</td>\n",
              "      <td>pui</td>\n",
              "      <td>moɁo | mɑ­</td>\n",
              "      <td>moPo | mA{\\textipa{-}}</td>\n",
              "      <td>nɑŋkɑh</td>\n",
              "      <td>nANkAh</td>\n",
              "      <td>hū­</td>\n",
              "      <td>h\\=u{\\textipa{-}}</td>\n",
              "      <td>pɑŋwi | peŋwi</td>\n",
              "      <td>pANwi | peNwi</td>\n",
              "      <td>nijɑ | nihɑ</td>\n",
              "      <td>nijA | nihA</td>\n",
              "      <td>tɯmpin</td>\n",
              "      <td>tWmpin</td>\n",
              "      <td>tɑmɑn</td>\n",
              "      <td>tAmAn</td>\n",
              "      <td>pitsi</td>\n",
              "      <td>pit\\super si</td>\n",
              "      <td>ɯmmi | ɯ̄</td>\n",
              "      <td>Wmmi | \\=W</td>\n",
              "      <td>poʔe | poʔettˢi | poʔi</td>\n",
              "      <td>poPe | poPett\\super si | poPi</td>\n",
              "      <td>tˢuhmippɯh | tˢuhnippɯh</td>\n",
              "      <td>t\\super suhmippWh | t\\super suhnippWh</td>\n",
              "      <td>ekon | okon</td>\n",
              "      <td>...</td>\n",
              "      <td>ɯitˢɯʔin</td>\n",
              "      <td>Wit\\super sWPin</td>\n",
              "      <td>tukkuɑ(ttˢi) | tukkuɑpin</td>\n",
              "      <td>tukkuA | tukkuAtt\\super si | tukkuApin</td>\n",
              "      <td>kutɑn</td>\n",
              "      <td>kutAn</td>\n",
              "      <td>tɯtīŋwɑ</td>\n",
              "      <td>tWt\\={\\i}NwA</td>\n",
              "      <td>kottō</td>\n",
              "      <td>kott\\=o</td>\n",
              "      <td>kʷɑsi(ttˢi)</td>\n",
              "      <td>k\\super wAsi | k\\super wAsitt\\super si</td>\n",
              "      <td>pɑsiŋompin | pɑsiŋʷɑmpin</td>\n",
              "      <td>pAsiNompin | pAsiN\\super wAmpin</td>\n",
              "      <td>sɑ­ | sɑtɯ</td>\n",
              "      <td>sA{\\textipa{-}} | sAtW</td>\n",
              "      <td>miʔɑ | miɑ | miʔɑh | nɯmmi</td>\n",
              "      <td>miPA | miA | miPAh | nWmmi</td>\n",
              "      <td>kɑtɯ | jɯkʷi</td>\n",
              "      <td>kAtW | jWk\\super wi</td>\n",
              "      <td>soʔo</td>\n",
              "      <td>soPo</td>\n",
              "      <td>sɯmɯsɯ | wɯmm | ojōntɯ | ojōntɯsɯ</td>\n",
              "      <td>sWmWsW | wWmm | oj\\=ontW | oj\\=ontWsW</td>\n",
              "      <td>sumpɑnɑi</td>\n",
              "      <td>sumpAnAi</td>\n",
              "      <td>pɑkɯ̄nɑpɯh</td>\n",
              "      <td>pAk\\=WnApWh</td>\n",
              "      <td>nokoitsoih</td>\n",
              "      <td>nokoit\\super soih</td>\n",
              "      <td>puno | sɑppɯh</td>\n",
              "      <td>puno | sAppWh</td>\n",
              "      <td>piɑ</td>\n",
              "      <td>piA</td>\n",
              "      <td>ɯtɯin</td>\n",
              "      <td>WtWin</td>\n",
              "      <td>hɑpi</td>\n",
              "      <td>hApi</td>\n",
              "      <td>tɯtɯttˢittˢi</td>\n",
              "      <td>tWtWtt\\super sitt\\super si</td>\n",
              "    </tr>\n",
              "  </tbody>\n",
              "</table>\n",
              "<p>5 rows × 205 columns</p>\n",
              "</div>"
            ],
            "text/plain": [
              "                           Language  ...                 Unnamed: 204\n",
              "0                               NaN  ...                         tipa\n",
              "1                               NaN  ...                          NaN\n",
              "2                   Northern_Paiute  ...               t\\=Wt\\super si\n",
              "3                      Western_Mono  ...   inott\\super sPtt\\super siP\n",
              "4  Tümpisa_Shoshone_(Panamint,Koso)  ...  tWtWtt\\super sitt\\super si \n",
              "\n",
              "[5 rows x 205 columns]"
            ]
          },
          "metadata": {
            "tags": []
          },
          "execution_count": 19
        }
      ]
    },
    {
      "cell_type": "code",
      "metadata": {
        "id": "Uk63MEaSElxn",
        "colab": {
          "base_uri": "https://localhost:8080/"
        },
        "outputId": "b90b8c67-152e-4a82-9f1e-e7096f02d8df"
      },
      "source": [
        "for i in df_languages.columns:\n",
        "  if \"Unnamed\" in i:\n",
        "    dflanguages = df_languages.drop([i], axis = 1)\n",
        "\n",
        "print(df_languages)"
      ],
      "execution_count": null,
      "outputs": [
        {
          "output_type": "stream",
          "text": [
            "                            Language  ...                                       Unnamed: 204\n",
            "0                                NaN  ...                                               tipa\n",
            "1                                NaN  ...                                                NaN\n",
            "2                    Northern_Paiute  ...                                     t\\=Wt\\super si\n",
            "3                       Western_Mono  ...                         inott\\super sPtt\\super siP\n",
            "4   Tümpisa_Shoshone_(Panamint,Koso)  ...                        tWtWtt\\super sitt\\super si \n",
            "5         Big_Smokey_Valley_Shoshone  ...                           tW{\\textipa{-}} | tWtWn \n",
            "6                   Western_Shoshone  ...                                             tWiku \n",
            "7                           Shoshone  ...                                               tWeh\n",
            "8                           Comanche  ...                                          tWt\\=AttW\n",
            "9                           Kawaiisu  ...  \\=AkkAn\\=utt\\super Si | \\=WpePpp\\={\\i}tt\\super Si\n",
            "10                        Chemehuevi  ...                                   miPAunt\\super si\n",
            "11                   Southern_Paiute  ...                                                NaN\n",
            "12                      Southern_Ute  ...                               m\\={\\i}ppWt\\super Si\n",
            "13                       Orayvi_Hopi  ...  h{\\textroundcap{\\={\\i}}}sAj | tsAj | {\\textipa...\n",
            "14           Pahkannil_(Tübatulabal)  ...                                  kuPut\\super Supil\n",
            "15                         Kitanemuk  ...                                 An\\=oPt\\super siP \n",
            "16                           Serrano  ...                            A{\\textltailn}\\={\\i}PiP\n",
            "17               Tongva_(Gabrielino)  ...                              t\\super Sin\\={\\=*u}Pi\n",
            "18                           Luiseño  ...                          Al\\=*uPmAl | kih\\={\\=*A}t\n",
            "19              Acjachemen_(Juaneño)  ...                                         Al\\=*uPmAl\n",
            "20                            Cupeño  ...                                          Ak\\=*ulji\n",
            "21                          Cahuilla  ...                                           k\\=*iAt \n",
            "22                    Tohono_O'odham  ...                                               Ali \n",
            "23                         Pima_Bajo  ...                                           liP\\=*ob\n",
            "24                        N_Tepehuan  ...                                            \\=*Ali \n",
            "25                        S_Tepehuan  ...                                           AL\\={\\i}\n",
            "26                          Guarijío  ...                                       Apm\\=*erimA \n",
            "27                          Rarámuri  ...                                           kuPt\\=*A\n",
            "28                            Eudeve  ...                                                NaN\n",
            "29                             Ópata  ...                                                NaN\n",
            "30             Arizona_Yoeme_(Yaqui)  ...                                ili | ilit\\super Si\n",
            "31                              Mayo  ...                                             ilikki\n",
            "32                             Tubar  ...                                   Ali{\\textipa{-}}\n",
            "33                              Cora  ...                                           k\\=*Wlen\n",
            "34                Wixarika_(Huichol)  ...                                  pepe{\\textipa{-}}\n",
            "35                 Classical_Nahuatl  ...                                    tepit\\super sin\n",
            "36               Tetelcingo_Mexicano  ...         t\\super s\\={\\i}t\\super sikit\\super s\\={\\i}\n",
            "37                 Pochutla_Mexicano  ...                              tut\\super Si | niStun\n",
            "38                             Pipil  ...        t\\super Sikitik | At\\super Si | At\\super si\n",
            "39                               NaN  ...                                                NaN\n",
            "40                              Ipai  ...                                             Pestik\n",
            "41                              Tewa  ...                       t\\super S\\'{\\={\\~E}}P\\u{\\i}P\n",
            "42                              Zuni  ...                       \\textipa{\\apsup{t}}\\super sA\n",
            "\n",
            "[43 rows x 205 columns]\n"
          ],
          "name": "stdout"
        }
      ]
    },
    {
      "cell_type": "code",
      "metadata": {
        "id": "SltNwoMaElxn"
      },
      "source": [
        ""
      ],
      "execution_count": null,
      "outputs": []
    },
    {
      "cell_type": "code",
      "metadata": {
        "id": "HaojWk_dElxn"
      },
      "source": [
        ""
      ],
      "execution_count": null,
      "outputs": []
    },
    {
      "cell_type": "code",
      "metadata": {
        "id": "xkEMoL7SElxn"
      },
      "source": [
        ""
      ],
      "execution_count": null,
      "outputs": []
    },
    {
      "cell_type": "code",
      "metadata": {
        "id": "mpKwXXQGElxn"
      },
      "source": [
        ""
      ],
      "execution_count": null,
      "outputs": []
    },
    {
      "cell_type": "code",
      "metadata": {
        "id": "hjzS8lt_Elxn"
      },
      "source": [
        ""
      ],
      "execution_count": null,
      "outputs": []
    },
    {
      "cell_type": "code",
      "metadata": {
        "id": "QHBNiWJBElxn"
      },
      "source": [
        ""
      ],
      "execution_count": null,
      "outputs": []
    },
    {
      "cell_type": "code",
      "metadata": {
        "id": "v-KfR6uDElxn"
      },
      "source": [
        ""
      ],
      "execution_count": null,
      "outputs": []
    },
    {
      "cell_type": "code",
      "metadata": {
        "id": "Tk0-nkfgElxn"
      },
      "source": [
        ""
      ],
      "execution_count": null,
      "outputs": []
    },
    {
      "cell_type": "markdown",
      "metadata": {
        "id": "oS0PuljUElxo"
      },
      "source": [
        "# 🟢 Module 3: Error Rates in Users of Automatic Face Recognition Software"
      ]
    },
    {
      "cell_type": "markdown",
      "metadata": {
        "id": "VXVOoU3TElxo"
      },
      "source": [
        "While facial recognition sounds nice and may have its perks, there is bias in all algorithms as long as there is a lack of diversity in its creators. If not made correctly, facial recognition risks being weaponized by law enforcement against marginalized communities around the world. From New Delhi to New York, this invasive technology can turn our identities against us and can undermine human rights. \n",
        "\n",
        "Use the given dataset to create a plot of the error rates based on gender and race. You will be given an excel file and are responsible for saving it as a csv file to use."
      ]
    },
    {
      "cell_type": "code",
      "metadata": {
        "id": "nLgy75-8Elxo"
      },
      "source": [
        ""
      ],
      "execution_count": null,
      "outputs": []
    },
    {
      "cell_type": "code",
      "metadata": {
        "id": "zraYUdinElxo"
      },
      "source": [
        ""
      ],
      "execution_count": null,
      "outputs": []
    },
    {
      "cell_type": "code",
      "metadata": {
        "id": "k-0CdUZ8Elxo"
      },
      "source": [
        ""
      ],
      "execution_count": null,
      "outputs": []
    },
    {
      "cell_type": "code",
      "metadata": {
        "id": "H1ahcfUfElxo"
      },
      "source": [
        ""
      ],
      "execution_count": null,
      "outputs": []
    },
    {
      "cell_type": "code",
      "metadata": {
        "id": "efUMOmA3Elxo"
      },
      "source": [
        ""
      ],
      "execution_count": null,
      "outputs": []
    }
  ]
}