{
  "nbformat": 4,
  "nbformat_minor": 0,
  "metadata": {
    "kernelspec": {
      "display_name": "Python 3",
      "language": "python",
      "name": "python3"
    },
    "language_info": {
      "codemirror_mode": {
        "name": "ipython",
        "version": 3
      },
      "file_extension": ".py",
      "mimetype": "text/x-python",
      "name": "python",
      "nbconvert_exporter": "python",
      "pygments_lexer": "ipython3",
      "version": "3.8.3"
    },
    "colab": {
      "name": "C14 Unit 3 Astrophysics - Activity Notebook.ipynb",
      "provenance": []
    }
  },
  "cells": [
    {
      "cell_type": "markdown",
      "metadata": {
        "id": "wFjfOoelCiHe"
      },
      "source": [
        "# 🟢Module 1: Analyzing lab data with pandas\n",
        "\n",
        "This module will walk you through the basics of **creating a pandas dataframe**. You'll use the data you collected in the distance vs brightness lab."
      ]
    },
    {
      "cell_type": "markdown",
      "metadata": {
        "id": "lhMZUhIqCiHe"
      },
      "source": [
        "First, let's import the pandas and matplotlib libraries:"
      ]
    },
    {
      "cell_type": "code",
      "metadata": {
        "id": "xd9OH7I1CiHf"
      },
      "source": [
        "import pandas as pd\n",
        "import matplotlib.pyplot as plt"
      ],
      "execution_count": null,
      "outputs": []
    },
    {
      "cell_type": "markdown",
      "metadata": {
        "id": "_hVQ_CYWCiHf"
      },
      "source": [
        "Next, create 4 lists: 1 that contains your distance measurements and 3 that contain your brightness measurements from each experimental run."
      ]
    },
    {
      "cell_type": "code",
      "metadata": {
        "id": "dL9bhEZZCiHg"
      },
      "source": [
        "# Fill in the lists below\n",
        "dist = [0, 10, 20, 30, 40, 50, 60, 70, 80, 90, 100]\n",
        "brt1 = [15537, 2457, 487, 53, 6, 6, 6, 6, 6, 6, 6]\n",
        "brt2 = [770, 252, 74, 35, 20, 13, 9, 7, 5, 4, 3]\n",
        "brt3 = [758, 112, 23, 2, 0, 0, 0, 0, 0, 0, 0]"
      ],
      "execution_count": null,
      "outputs": []
    },
    {
      "cell_type": "markdown",
      "metadata": {
        "id": "LJt9uRKYCiHg"
      },
      "source": [
        "Now we'll create a dataframe based on these lists using the pandas .DataFrame() function."
      ]
    },
    {
      "cell_type": "code",
      "metadata": {
        "id": "FVx0ZBcQCiHl"
      },
      "source": [
        "df = pd.DataFrame({\"distance\": dist, \"brightness 1\": brt1, \"brightness 2\": brt2, \"brightness 3\": brt3})\n",
        "\n",
        "# See those {curly brackets}? This means we're using a special data type called a dictionary!"
      ],
      "execution_count": null,
      "outputs": []
    },
    {
      "cell_type": "markdown",
      "metadata": {
        "id": "z6Ayj2-5CiHm"
      },
      "source": [
        "Look at the first 5 lines of our dataframe using the .head() function"
      ]
    },
    {
      "cell_type": "code",
      "metadata": {
        "colab": {
          "base_uri": "https://localhost:8080/",
          "height": 204
        },
        "id": "l7ATqFAQCiHm",
        "outputId": "b850c978-48d3-4db1-84d9-8ca066854352"
      },
      "source": [
        "df.head()"
      ],
      "execution_count": null,
      "outputs": [
        {
          "output_type": "execute_result",
          "data": {
            "text/html": [
              "<div>\n",
              "<style scoped>\n",
              "    .dataframe tbody tr th:only-of-type {\n",
              "        vertical-align: middle;\n",
              "    }\n",
              "\n",
              "    .dataframe tbody tr th {\n",
              "        vertical-align: top;\n",
              "    }\n",
              "\n",
              "    .dataframe thead th {\n",
              "        text-align: right;\n",
              "    }\n",
              "</style>\n",
              "<table border=\"1\" class=\"dataframe\">\n",
              "  <thead>\n",
              "    <tr style=\"text-align: right;\">\n",
              "      <th></th>\n",
              "      <th>distance</th>\n",
              "      <th>brightness 1</th>\n",
              "      <th>brightness 2</th>\n",
              "      <th>brightness 3</th>\n",
              "    </tr>\n",
              "  </thead>\n",
              "  <tbody>\n",
              "    <tr>\n",
              "      <th>0</th>\n",
              "      <td>0</td>\n",
              "      <td>15537</td>\n",
              "      <td>770</td>\n",
              "      <td>758</td>\n",
              "    </tr>\n",
              "    <tr>\n",
              "      <th>1</th>\n",
              "      <td>10</td>\n",
              "      <td>2457</td>\n",
              "      <td>252</td>\n",
              "      <td>112</td>\n",
              "    </tr>\n",
              "    <tr>\n",
              "      <th>2</th>\n",
              "      <td>20</td>\n",
              "      <td>487</td>\n",
              "      <td>74</td>\n",
              "      <td>23</td>\n",
              "    </tr>\n",
              "    <tr>\n",
              "      <th>3</th>\n",
              "      <td>30</td>\n",
              "      <td>53</td>\n",
              "      <td>35</td>\n",
              "      <td>2</td>\n",
              "    </tr>\n",
              "    <tr>\n",
              "      <th>4</th>\n",
              "      <td>40</td>\n",
              "      <td>6</td>\n",
              "      <td>20</td>\n",
              "      <td>0</td>\n",
              "    </tr>\n",
              "  </tbody>\n",
              "</table>\n",
              "</div>"
            ],
            "text/plain": [
              "   distance  brightness 1  brightness 2  brightness 3\n",
              "0         0         15537           770           758\n",
              "1        10          2457           252           112\n",
              "2        20           487            74            23\n",
              "3        30            53            35             2\n",
              "4        40             6            20             0"
            ]
          },
          "metadata": {
            "tags": []
          },
          "execution_count": 10
        }
      ]
    },
    {
      "cell_type": "markdown",
      "metadata": {
        "id": "zD8f5EX_CiHm"
      },
      "source": [
        "Notice that the strings we chose in the .DataFrame() function have become the column headers and the items from the lists are the column values. \n",
        "\n",
        "What order are the columns in?"
      ]
    },
    {
      "cell_type": "markdown",
      "metadata": {
        "id": "l5E_MhZOCiHn"
      },
      "source": [
        "## Working with data columns"
      ]
    },
    {
      "cell_type": "markdown",
      "metadata": {
        "id": "xm9RszbjCiH7"
      },
      "source": [
        "Select just the \"brightness 1\" column and assign it to a variable."
      ]
    },
    {
      "cell_type": "code",
      "metadata": {
        "id": "5XV1D1SfCiH8"
      },
      "source": [
        "brightness1 = df[\"brightness 1\"]"
      ],
      "execution_count": null,
      "outputs": []
    },
    {
      "cell_type": "markdown",
      "metadata": {
        "id": "1DY--MBwCiH8"
      },
      "source": [
        "Use the .head() function to look at the first 10 values in this column."
      ]
    },
    {
      "cell_type": "code",
      "metadata": {
        "colab": {
          "base_uri": "https://localhost:8080/"
        },
        "id": "Mfv5JMt7CiH8",
        "outputId": "9a107405-bca4-4e7b-d501-b6faa2581dd9"
      },
      "source": [
        "brightness1.head(10)"
      ],
      "execution_count": null,
      "outputs": [
        {
          "output_type": "execute_result",
          "data": {
            "text/plain": [
              "0    15537\n",
              "1     2457\n",
              "2      487\n",
              "3       53\n",
              "4        6\n",
              "5        6\n",
              "6        6\n",
              "7        6\n",
              "8        6\n",
              "9        6\n",
              "Name: brightness 1, dtype: int64"
            ]
          },
          "metadata": {
            "tags": []
          },
          "execution_count": 15
        }
      ]
    },
    {
      "cell_type": "markdown",
      "metadata": {
        "id": "Qigi7ZF6CiH9"
      },
      "source": [
        "Print out the min, max, and average value in this column:"
      ]
    },
    {
      "cell_type": "code",
      "metadata": {
        "colab": {
          "base_uri": "https://localhost:8080/"
        },
        "id": "hbR-ftfdCiH9",
        "outputId": "1f292b1b-cbba-4def-c465-91a9965c040f"
      },
      "source": [
        "# You may have used numpy functions for these calculations in the past, but have you tried pandas methods?\n",
        "# Check your cheat sheet for details\n",
        "print(brightness1.min())\n",
        "print(brightness1.max())\n",
        "print(brightness1.mean())"
      ],
      "execution_count": null,
      "outputs": [
        {
          "output_type": "stream",
          "text": [
            "6\n",
            "15537\n",
            "1688.7272727272727\n"
          ],
          "name": "stdout"
        }
      ]
    },
    {
      "cell_type": "markdown",
      "metadata": {
        "id": "ProC_IXkCiH9"
      },
      "source": [
        "Use the .count() method to find out how many values are in the first brightness column:"
      ]
    },
    {
      "cell_type": "code",
      "metadata": {
        "id": "xh1Tnsb1CiH9"
      },
      "source": [
        ""
      ],
      "execution_count": null,
      "outputs": []
    },
    {
      "cell_type": "markdown",
      "metadata": {
        "id": "RoGZmIPNCiH9"
      },
      "source": [
        "Now use the .sum() method to find the sum of all the values in this column:"
      ]
    },
    {
      "cell_type": "code",
      "metadata": {
        "id": "--X3IbBICiH-"
      },
      "source": [
        ""
      ],
      "execution_count": null,
      "outputs": []
    },
    {
      "cell_type": "markdown",
      "metadata": {
        "id": "h1brkVC6CiH-"
      },
      "source": [
        "## Adding new data to your dataframe"
      ]
    },
    {
      "cell_type": "markdown",
      "metadata": {
        "id": "2da3FrWBCiH-"
      },
      "source": [
        "You have three columns for brightness, but we're interested in calculating the average.\n",
        "\n",
        "Let's add a new column to our dataframe that contains the average brightness value:"
      ]
    },
    {
      "cell_type": "code",
      "metadata": {
        "id": "IDcDvOA0CiH-"
      },
      "source": [
        "#Sample: df[\"new column\"] = df[[\"col1\", \"col2\"].mean(axis=1)\n",
        "\n",
        "# Notes:\n",
        "# \"new column\" is the name of the new column we are creating\n",
        "# We are specifying which columns to average together using an index\n",
        "# We're using the pandas .mean() method again!\n",
        "# axis=1 specifies that pandas should find the mean across columns. \n",
        "# (axis=0 would tell pandas to find the mean across rows)\n",
        "\n",
        "# write code to add an average brightness column below:"
      ],
      "execution_count": null,
      "outputs": []
    },
    {
      "cell_type": "markdown",
      "metadata": {
        "id": "plZTQwr5CiH-"
      },
      "source": [
        "Use the .head() method to check that you've successfully added the new column:"
      ]
    },
    {
      "cell_type": "code",
      "metadata": {
        "id": "QWWUiJ0ACiH-"
      },
      "source": [
        ""
      ],
      "execution_count": null,
      "outputs": []
    },
    {
      "cell_type": "markdown",
      "metadata": {
        "id": "ccynHg9YCiH_"
      },
      "source": [
        "Assign the \"avg brightness\" column to a new variable:"
      ]
    },
    {
      "cell_type": "code",
      "metadata": {
        "id": "drsF5M0zCiH_"
      },
      "source": [
        ""
      ],
      "execution_count": null,
      "outputs": []
    },
    {
      "cell_type": "markdown",
      "metadata": {
        "id": "q-wGZuQLCiH_"
      },
      "source": [
        "What is the data type of the \"avg brightness\" column? (Hint: use the .dtypes method)"
      ]
    },
    {
      "cell_type": "code",
      "metadata": {
        "id": "c-95pnVKCiH_"
      },
      "source": [
        "# Note that the .dtypes method doesn't use parentheses\n"
      ],
      "execution_count": null,
      "outputs": []
    },
    {
      "cell_type": "markdown",
      "metadata": {
        "id": "LdQleL13CiH_"
      },
      "source": [
        "Let's compare this to the rest of the columns. (Hint: try running the .dtypes attribute on the whole dataframe)"
      ]
    },
    {
      "cell_type": "code",
      "metadata": {
        "id": "h-tFYzGhCiIA"
      },
      "source": [
        ""
      ],
      "execution_count": null,
      "outputs": []
    },
    {
      "cell_type": "markdown",
      "metadata": {
        "id": "Lh06vzETCiIC"
      },
      "source": [
        "## Sorting your data"
      ]
    },
    {
      "cell_type": "markdown",
      "metadata": {
        "id": "lqNR6SXXCiIC"
      },
      "source": [
        "Now let's do some more data analysis using pandas. We can use the .sort_values() function to sort our data by average brightness."
      ]
    },
    {
      "cell_type": "code",
      "metadata": {
        "id": "SR5LN9QJCiIC"
      },
      "source": [
        "df_sorted = df.sort_values([\"avg brightness\"]) # specify the column that you want to use for the sort using an index\n",
        "# Note that we need to assign the sorted dataframe to a new variable\n",
        "\n",
        "df_sorted.head(10) # Look at the first 10 lines of the sorted file"
      ],
      "execution_count": null,
      "outputs": []
    },
    {
      "cell_type": "markdown",
      "metadata": {
        "id": "hwdzIKCVCiID"
      },
      "source": [
        "Look at the distances in this sorted dataframe. Do the lowest brightness values occur at large or small distances?\n",
        "\n",
        "What if we want to look at the highest brightness values? We can sort the data in reverse by adding another argument to the sort_values() function."
      ]
    },
    {
      "cell_type": "code",
      "metadata": {
        "id": "FtgidiuFCiID"
      },
      "source": [
        "# set the ascending argument to False to sort values from highest to lowest\n",
        "df_sorted = df.sort_values([\"avg brightness\"], ascending = False)\n",
        "# We will overwrite our original variable, but you could use a different variable here if you wanted\n",
        "# to store multiple sorted dataframes\n",
        "\n",
        "df_sorted.head(10)"
      ],
      "execution_count": null,
      "outputs": []
    },
    {
      "cell_type": "markdown",
      "metadata": {
        "id": "tUWZwAcKCiID"
      },
      "source": [
        "Are the distances associated with the largest brightness values large or small?"
      ]
    },
    {
      "cell_type": "markdown",
      "metadata": {
        "id": "CFlN7zGXCiID"
      },
      "source": [
        "Try it yourself! Sort the dataframe by distance (high to low) and look at the first 10 rows:"
      ]
    },
    {
      "cell_type": "code",
      "metadata": {
        "id": "D7qa4CLOCiIE"
      },
      "source": [
        ""
      ],
      "execution_count": null,
      "outputs": []
    },
    {
      "cell_type": "markdown",
      "metadata": {
        "id": "iac5J1PRCiIE"
      },
      "source": [
        "## Exporting your processed data"
      ]
    },
    {
      "cell_type": "markdown",
      "metadata": {
        "id": "naxu25rlCiIE"
      },
      "source": [
        "You can export your dataframe to your computer as a csv using the .to_csv() function."
      ]
    },
    {
      "cell_type": "code",
      "metadata": {
        "id": "bE1-XPtiCiIE"
      },
      "source": [
        "df.to_csv(\"./lab_averages.csv\", index=False) # index=False removes the index column (1, 2, 3...) from our dataset"
      ],
      "execution_count": null,
      "outputs": []
    },
    {
      "cell_type": "markdown",
      "metadata": {
        "id": "rMgQB7VkCiIE"
      },
      "source": [
        "## Graphing our results"
      ]
    },
    {
      "cell_type": "markdown",
      "metadata": {
        "id": "P-VrI6LhCiIE"
      },
      "source": [
        "Use matplotlib to graph your results. Try plt.scatter() and plt.plot(). What are the strengths and weaknesses of each type of graph?"
      ]
    },
    {
      "cell_type": "code",
      "metadata": {
        "id": "QRWXR5MPCiIE"
      },
      "source": [
        "# Note: try experimenting with the marker argument for your graphs\n"
      ],
      "execution_count": null,
      "outputs": []
    },
    {
      "cell_type": "markdown",
      "metadata": {
        "id": "MimgMJY6CiIF"
      },
      "source": [
        "# 🟢Module 2: Clinometer activity Pt 1: Calculating the height of the planetarium\n",
        "\n",
        "Use this notebook to calculate the height of the Hayden Planetarium based on your measurements of distance and clinometer angle. "
      ]
    },
    {
      "cell_type": "markdown",
      "metadata": {
        "id": "9nDJckptCiIF"
      },
      "source": [
        "We will use the numpy library for this activity. It includes lots of functions that make mathematical calculations easier. Import the library below:"
      ]
    },
    {
      "cell_type": "code",
      "metadata": {
        "id": "ilMW0-oNCiIP"
      },
      "source": [
        "# Remember that numpy has the alias np\n"
      ],
      "execution_count": null,
      "outputs": []
    },
    {
      "cell_type": "markdown",
      "metadata": {
        "id": "XAQXxMjDCiIR"
      },
      "source": [
        "Next, assign the clinometer angle you measured to a variable:"
      ]
    },
    {
      "cell_type": "code",
      "metadata": {
        "id": "g-P_v3OjCiIR"
      },
      "source": [
        "# remember to think carefully about the datatype of your value\n"
      ],
      "execution_count": null,
      "outputs": []
    },
    {
      "cell_type": "markdown",
      "metadata": {
        "id": "Sot1ltu_CiIV"
      },
      "source": [
        "We can use the numpy function np.deg2rad() to convert our angle from degrees to radians, which we will need for our calculations later on. \n",
        "\n",
        "The np.deg2rad() function takes an angle in degrees as an argument and returns that angle in radians.\n",
        "\n",
        "Calculate your angle in radians and assign it to a new variable. Then print out the value:"
      ]
    },
    {
      "cell_type": "code",
      "metadata": {
        "id": "qguusOzPCiIW"
      },
      "source": [
        "# Remember to use the variable you created above.\n"
      ],
      "execution_count": null,
      "outputs": []
    },
    {
      "cell_type": "markdown",
      "metadata": {
        "id": "E40S7sdOCiIW"
      },
      "source": [
        "#### Now it's time to find the height of the planetarium!\n",
        "\n",
        "First, fill in the distance from the observer to the planetarium base (adjacent side):"
      ]
    },
    {
      "cell_type": "code",
      "metadata": {
        "id": "Pa3MpbbcCiIW"
      },
      "source": [
        "# Assign the distance in meters to this variable\n"
      ],
      "execution_count": null,
      "outputs": []
    },
    {
      "cell_type": "markdown",
      "metadata": {
        "id": "3E_lEsyWCiIX"
      },
      "source": [
        "Since we know theta and the length of the adjacent side of our triangle, we can use trigonometry to calculate the opposite side.\n",
        "\n",
        "Remember that tan(theta) = opposite/adjacent\n",
        "\n",
        "Use the numpy function np.tan() to calculate the length of \"opposite\" side of the triangle:"
      ]
    },
    {
      "cell_type": "code",
      "metadata": {
        "id": "mku7F7srCiIX"
      },
      "source": [
        ""
      ],
      "execution_count": null,
      "outputs": []
    },
    {
      "cell_type": "markdown",
      "metadata": {
        "id": "Crqhm9hqCiIX"
      },
      "source": [
        "But there's something missing! You need to add your own height to the length of the opposite side to get the height of the planetarium. \n",
        "\n",
        "Add your height in meters to the opposite side and store this value in a new variable:"
      ]
    },
    {
      "cell_type": "code",
      "metadata": {
        "id": "AOgrLoQvCiIY"
      },
      "source": [
        ""
      ],
      "execution_count": null,
      "outputs": []
    },
    {
      "cell_type": "markdown",
      "metadata": {
        "id": "_bii-gOWCiIY"
      },
      "source": [
        "Now print out a sentence that says \"The Hayden Planetarium is X meters tall!\" using the variable you just created:"
      ]
    },
    {
      "cell_type": "code",
      "metadata": {
        "id": "fp9JWP_KCiIY"
      },
      "source": [
        ""
      ],
      "execution_count": null,
      "outputs": []
    },
    {
      "cell_type": "markdown",
      "metadata": {
        "id": "fLhz5pcKCiIY"
      },
      "source": [
        "### Congratulations! \n",
        "\n",
        "Now what if you wanted to repeat these calculations for the entire class and find the average building height? How would you do that?\n",
        "\n",
        "If you were thinking pandas... you're right! Let's move on to part two of the activity."
      ]
    },
    {
      "cell_type": "markdown",
      "metadata": {
        "id": "xtThTwv8CiIY"
      },
      "source": [
        "# 🟢Module 3: Clinometer activity Pt 2: Calculating the class average\n",
        "\n",
        "In this notebook you'll create a pandas dataframe with data from the entire class. You will practice using pandas functions and learn how to convert a CSV file to a pandas dataframe."
      ]
    },
    {
      "cell_type": "markdown",
      "metadata": {
        "id": "TC-xerATCiIZ"
      },
      "source": [
        "Start by importing pandas and numpy"
      ]
    },
    {
      "cell_type": "code",
      "metadata": {
        "id": "ueGJ2QS7CiIZ"
      },
      "source": [
        "import pandas as pd\n",
        "import numpy as np"
      ],
      "execution_count": null,
      "outputs": []
    },
    {
      "cell_type": "markdown",
      "metadata": {
        "id": "XZzSLDaLCiIZ"
      },
      "source": [
        "Next, let's open our data file and convert it to a pandas dataframe. \n",
        "\n",
        "This time our dataset is in a CSV file so we can use the pd.read_csv() function:"
      ]
    },
    {
      "cell_type": "code",
      "metadata": {
        "id": "kOZ-TqvmCiIZ",
        "colab": {
          "base_uri": "https://localhost:8080/",
          "height": 669
        },
        "outputId": "22efa0d2-d5ac-4446-bf95-7550298de975"
      },
      "source": [
        "pd.read_csv(\"/content/sample_clinometer_data.csv\")"
      ],
      "execution_count": null,
      "outputs": [
        {
          "output_type": "execute_result",
          "data": {
            "text/html": [
              "<div>\n",
              "<style scoped>\n",
              "    .dataframe tbody tr th:only-of-type {\n",
              "        vertical-align: middle;\n",
              "    }\n",
              "\n",
              "    .dataframe tbody tr th {\n",
              "        vertical-align: top;\n",
              "    }\n",
              "\n",
              "    .dataframe thead th {\n",
              "        text-align: right;\n",
              "    }\n",
              "</style>\n",
              "<table border=\"1\" class=\"dataframe\">\n",
              "  <thead>\n",
              "    <tr style=\"text-align: right;\">\n",
              "      <th></th>\n",
              "      <th>student height</th>\n",
              "      <th>distance to bldg</th>\n",
              "      <th>clinometer angle</th>\n",
              "    </tr>\n",
              "  </thead>\n",
              "  <tbody>\n",
              "    <tr>\n",
              "      <th>0</th>\n",
              "      <td>1.549399</td>\n",
              "      <td>52.120772</td>\n",
              "      <td>35.0</td>\n",
              "    </tr>\n",
              "    <tr>\n",
              "      <th>1</th>\n",
              "      <td>1.625599</td>\n",
              "      <td>52.120772</td>\n",
              "      <td>35.0</td>\n",
              "    </tr>\n",
              "    <tr>\n",
              "      <th>2</th>\n",
              "      <td>1.650991</td>\n",
              "      <td>52.120772</td>\n",
              "      <td>20.0</td>\n",
              "    </tr>\n",
              "    <tr>\n",
              "      <th>3</th>\n",
              "      <td>1.729720</td>\n",
              "      <td>52.578483</td>\n",
              "      <td>20.0</td>\n",
              "    </tr>\n",
              "    <tr>\n",
              "      <th>4</th>\n",
              "      <td>1.549400</td>\n",
              "      <td>52.120772</td>\n",
              "      <td>20.0</td>\n",
              "    </tr>\n",
              "    <tr>\n",
              "      <th>5</th>\n",
              "      <td>1.549400</td>\n",
              "      <td>52.120800</td>\n",
              "      <td>30.0</td>\n",
              "    </tr>\n",
              "    <tr>\n",
              "      <th>6</th>\n",
              "      <td>1.524000</td>\n",
              "      <td>52.120800</td>\n",
              "      <td>30.0</td>\n",
              "    </tr>\n",
              "    <tr>\n",
              "      <th>7</th>\n",
              "      <td>1.549399</td>\n",
              "      <td>52.359878</td>\n",
              "      <td>30.0</td>\n",
              "    </tr>\n",
              "    <tr>\n",
              "      <th>8</th>\n",
              "      <td>1.523999</td>\n",
              "      <td>52.359878</td>\n",
              "      <td>30.0</td>\n",
              "    </tr>\n",
              "    <tr>\n",
              "      <th>9</th>\n",
              "      <td>1.473200</td>\n",
              "      <td>52.120800</td>\n",
              "      <td>25.0</td>\n",
              "    </tr>\n",
              "    <tr>\n",
              "      <th>10</th>\n",
              "      <td>1.473200</td>\n",
              "      <td>52.120800</td>\n",
              "      <td>25.0</td>\n",
              "    </tr>\n",
              "    <tr>\n",
              "      <th>11</th>\n",
              "      <td>1.524000</td>\n",
              "      <td>52.120800</td>\n",
              "      <td>35.0</td>\n",
              "    </tr>\n",
              "    <tr>\n",
              "      <th>12</th>\n",
              "      <td>1.625599</td>\n",
              "      <td>52.120800</td>\n",
              "      <td>25.0</td>\n",
              "    </tr>\n",
              "    <tr>\n",
              "      <th>13</th>\n",
              "      <td>1.625600</td>\n",
              "      <td>52.120800</td>\n",
              "      <td>28.0</td>\n",
              "    </tr>\n",
              "    <tr>\n",
              "      <th>14</th>\n",
              "      <td>1.574800</td>\n",
              "      <td>52.120800</td>\n",
              "      <td>32.0</td>\n",
              "    </tr>\n",
              "    <tr>\n",
              "      <th>15</th>\n",
              "      <td>1.700000</td>\n",
              "      <td>52.120800</td>\n",
              "      <td>33.0</td>\n",
              "    </tr>\n",
              "    <tr>\n",
              "      <th>16</th>\n",
              "      <td>1.473200</td>\n",
              "      <td>52.120800</td>\n",
              "      <td>28.0</td>\n",
              "    </tr>\n",
              "    <tr>\n",
              "      <th>17</th>\n",
              "      <td>1.706000</td>\n",
              "      <td>52.120800</td>\n",
              "      <td>20.2</td>\n",
              "    </tr>\n",
              "    <tr>\n",
              "      <th>18</th>\n",
              "      <td>1.730000</td>\n",
              "      <td>52.359878</td>\n",
              "      <td>30.0</td>\n",
              "    </tr>\n",
              "    <tr>\n",
              "      <th>19</th>\n",
              "      <td>1.750000</td>\n",
              "      <td>52.359878</td>\n",
              "      <td>30.0</td>\n",
              "    </tr>\n",
              "  </tbody>\n",
              "</table>\n",
              "</div>"
            ],
            "text/plain": [
              "    student height  distance to bldg  clinometer angle\n",
              "0         1.549399         52.120772              35.0\n",
              "1         1.625599         52.120772              35.0\n",
              "2         1.650991         52.120772              20.0\n",
              "3         1.729720         52.578483              20.0\n",
              "4         1.549400         52.120772              20.0\n",
              "5         1.549400         52.120800              30.0\n",
              "6         1.524000         52.120800              30.0\n",
              "7         1.549399         52.359878              30.0\n",
              "8         1.523999         52.359878              30.0\n",
              "9         1.473200         52.120800              25.0\n",
              "10        1.473200         52.120800              25.0\n",
              "11        1.524000         52.120800              35.0\n",
              "12        1.625599         52.120800              25.0\n",
              "13        1.625600         52.120800              28.0\n",
              "14        1.574800         52.120800              32.0\n",
              "15        1.700000         52.120800              33.0\n",
              "16        1.473200         52.120800              28.0\n",
              "17        1.706000         52.120800              20.2\n",
              "18        1.730000         52.359878              30.0\n",
              "19        1.750000         52.359878              30.0"
            ]
          },
          "metadata": {
            "tags": []
          },
          "execution_count": 8
        }
      ]
    },
    {
      "cell_type": "markdown",
      "metadata": {
        "id": "Ok4jNNynCiIZ"
      },
      "source": [
        "Let's take a look at the data! Find the first 5 rows of data:"
      ]
    },
    {
      "cell_type": "code",
      "metadata": {
        "id": "zv_Vw8uHCiIi"
      },
      "source": [
        ""
      ],
      "execution_count": null,
      "outputs": []
    },
    {
      "cell_type": "markdown",
      "metadata": {
        "id": "5cWPi3SmCiIj"
      },
      "source": [
        "Now check the data type of all the columns in the dataframe:"
      ]
    },
    {
      "cell_type": "code",
      "metadata": {
        "id": "3Njt60d5CiIj"
      },
      "source": [
        ""
      ],
      "execution_count": null,
      "outputs": []
    },
    {
      "cell_type": "markdown",
      "metadata": {
        "id": "PMqT0UCaCiIj"
      },
      "source": [
        "The first column contains the height of everyone in the class.\n",
        "\n",
        "Isolate this column using an index and assign it to a variable. Hint: You'll need to include the column name in the index."
      ]
    },
    {
      "cell_type": "code",
      "metadata": {
        "id": "9O7WvEMzCiIj"
      },
      "source": [
        ""
      ],
      "execution_count": null,
      "outputs": []
    },
    {
      "cell_type": "markdown",
      "metadata": {
        "id": "BkzvawgiCiIj"
      },
      "source": [
        "Now, print out the average class height:"
      ]
    },
    {
      "cell_type": "code",
      "metadata": {
        "id": "wD0ew4vYCiIk"
      },
      "source": [
        ""
      ],
      "execution_count": null,
      "outputs": []
    },
    {
      "cell_type": "markdown",
      "metadata": {
        "id": "oyzWu-dlCiIl"
      },
      "source": [
        "## Adding columns: calculating theta\n",
        "To make our data useful, we need to add some more columns. Let's create a column for theta first.\n",
        "\n",
        "Recall that theta = np.deg2rad(degrees)."
      ]
    },
    {
      "cell_type": "code",
      "metadata": {
        "id": "qhXpUFZXCiIm"
      },
      "source": [
        "# Create a new column called \"theta\" \n",
        "# Hint: You will need to use a dataframe index as the argument for the np.deg2rad() function.\n",
        "df[\"theta\"] = np.deg2rad"
      ],
      "execution_count": null,
      "outputs": []
    },
    {
      "cell_type": "markdown",
      "metadata": {
        "id": "xN1kv8wKCiIm"
      },
      "source": [
        "Check to make sure that you've added your new column correctly:"
      ]
    },
    {
      "cell_type": "code",
      "metadata": {
        "id": "TIdg0E-JCiIr",
        "colab": {
          "base_uri": "https://localhost:8080/",
          "height": 164
        },
        "outputId": "5cddc75d-b2e8-4db7-8d02-8ff5c54bdd96"
      },
      "source": [
        "df[\"theta\"]"
      ],
      "execution_count": null,
      "outputs": [
        {
          "output_type": "error",
          "ename": "NameError",
          "evalue": "ignored",
          "traceback": [
            "\u001b[0;31m---------------------------------------------------------------------------\u001b[0m",
            "\u001b[0;31mNameError\u001b[0m                                 Traceback (most recent call last)",
            "\u001b[0;32m<ipython-input-6-fd74969ea77c>\u001b[0m in \u001b[0;36m<module>\u001b[0;34m()\u001b[0m\n\u001b[0;32m----> 1\u001b[0;31m \u001b[0mdf\u001b[0m\u001b[0;34m[\u001b[0m\u001b[0;34m\"theta\"\u001b[0m\u001b[0;34m]\u001b[0m\u001b[0;34m\u001b[0m\u001b[0;34m\u001b[0m\u001b[0m\n\u001b[0m",
            "\u001b[0;31mNameError\u001b[0m: name 'df' is not defined"
          ]
        }
      ]
    },
    {
      "cell_type": "markdown",
      "metadata": {
        "id": "euu3i_pgCiIr"
      },
      "source": [
        "Next, let's add a \"building height\" column. \n",
        "\n",
        "Remember that opposite = adjacent * np.tan(theta) and that the building height is opposite + student height."
      ]
    },
    {
      "cell_type": "code",
      "metadata": {
        "id": "w_7pr2IdCiIr"
      },
      "source": [
        "# Create a new column called \"building height\"\n",
        "# Hint: You will need to use THREE dataframe indexes to define this column"
      ],
      "execution_count": null,
      "outputs": []
    },
    {
      "cell_type": "markdown",
      "metadata": {
        "id": "yVXCdn31CiIs"
      },
      "source": [
        "Check to make sure that you've added your new column correctly:"
      ]
    },
    {
      "cell_type": "code",
      "metadata": {
        "id": "HG_X-aeiCiIt"
      },
      "source": [
        ""
      ],
      "execution_count": null,
      "outputs": []
    },
    {
      "cell_type": "markdown",
      "metadata": {
        "id": "DFAZapQrCiIt"
      },
      "source": [
        "Now, find the average planetarium height for the entire class:"
      ]
    },
    {
      "cell_type": "code",
      "metadata": {
        "id": "a1Un8M1GCiIu"
      },
      "source": [
        ""
      ],
      "execution_count": null,
      "outputs": []
    },
    {
      "cell_type": "code",
      "metadata": {
        "id": "hpIVIYNXCiIu"
      },
      "source": [
        ""
      ],
      "execution_count": null,
      "outputs": []
    },
    {
      "cell_type": "code",
      "metadata": {
        "id": "VlyMsgyICiIu"
      },
      "source": [
        ""
      ],
      "execution_count": null,
      "outputs": []
    },
    {
      "cell_type": "markdown",
      "metadata": {
        "id": "R2v8fAGhCiIu"
      },
      "source": [
        "# 🟢Module 4: Studying the stars with Gaia and pandas\n",
        "\n",
        "The Tycho-Gaia Astrometric Solution (TGAS) is a collection of 2.5 million stars identified by the Gaia astronomical observatory, a spacecraft launched in 2013. In this notebook, you will practice your pandas skills with a fraction of that dataset."
      ]
    },
    {
      "cell_type": "markdown",
      "metadata": {
        "id": "LqMJYL5BCiIu"
      },
      "source": [
        "First, import pandas and matplotlib.pyplot:"
      ]
    },
    {
      "cell_type": "code",
      "metadata": {
        "id": "licWPzoECiIu"
      },
      "source": [
        "import pandas as pd\n",
        "import matplotlib.pyplot as plt"
      ],
      "execution_count": null,
      "outputs": []
    },
    {
      "cell_type": "markdown",
      "metadata": {
        "id": "UIiLf35OCiIv"
      },
      "source": [
        "Now, open the \"TGAS_data.csv\" file:"
      ]
    },
    {
      "cell_type": "code",
      "metadata": {
        "id": "8nexoQ3YCiIv"
      },
      "source": [
        "df = pd.read_csv(\"/content/TGAS_data.csv\")"
      ],
      "execution_count": null,
      "outputs": []
    },
    {
      "cell_type": "markdown",
      "metadata": {
        "id": "amv6m-X3CiIw"
      },
      "source": [
        "Look at the first five rows of the dataframe:"
      ]
    },
    {
      "cell_type": "code",
      "metadata": {
        "id": "qYXfoCPjCiIw",
        "colab": {
          "base_uri": "https://localhost:8080/",
          "height": 204
        },
        "outputId": "6ae424ef-6aa5-46d0-d6b9-3e7a9ab3397f"
      },
      "source": [
        "df.head()"
      ],
      "execution_count": null,
      "outputs": [
        {
          "output_type": "execute_result",
          "data": {
            "text/html": [
              "<div>\n",
              "<style scoped>\n",
              "    .dataframe tbody tr th:only-of-type {\n",
              "        vertical-align: middle;\n",
              "    }\n",
              "\n",
              "    .dataframe tbody tr th {\n",
              "        vertical-align: top;\n",
              "    }\n",
              "\n",
              "    .dataframe thead th {\n",
              "        text-align: right;\n",
              "    }\n",
              "</style>\n",
              "<table border=\"1\" class=\"dataframe\">\n",
              "  <thead>\n",
              "    <tr style=\"text-align: right;\">\n",
              "      <th></th>\n",
              "      <th>TYC2 ID</th>\n",
              "      <th>Epoch</th>\n",
              "      <th>RA (deg)</th>\n",
              "      <th>RA err (mas)</th>\n",
              "      <th>Dec (deg)</th>\n",
              "      <th>Dec err (mas)</th>\n",
              "      <th>Parallax (mas)</th>\n",
              "      <th>Parallax err (mas)</th>\n",
              "    </tr>\n",
              "  </thead>\n",
              "  <tbody>\n",
              "    <tr>\n",
              "      <th>0</th>\n",
              "      <td>1-1001-1</td>\n",
              "      <td>2015</td>\n",
              "      <td>1.414659</td>\n",
              "      <td>0.483</td>\n",
              "      <td>2.448821</td>\n",
              "      <td>0.249</td>\n",
              "      <td>2.96</td>\n",
              "      <td>0.59</td>\n",
              "    </tr>\n",
              "    <tr>\n",
              "      <th>1</th>\n",
              "      <td>1-1009-1</td>\n",
              "      <td>2015</td>\n",
              "      <td>0.137272</td>\n",
              "      <td>0.453</td>\n",
              "      <td>0.721016</td>\n",
              "      <td>0.195</td>\n",
              "      <td>5.77</td>\n",
              "      <td>0.73</td>\n",
              "    </tr>\n",
              "    <tr>\n",
              "      <th>2</th>\n",
              "      <td>1-1016-1</td>\n",
              "      <td>2015</td>\n",
              "      <td>0.426679</td>\n",
              "      <td>0.456</td>\n",
              "      <td>1.786809</td>\n",
              "      <td>0.169</td>\n",
              "      <td>2.66</td>\n",
              "      <td>0.59</td>\n",
              "    </tr>\n",
              "    <tr>\n",
              "      <th>3</th>\n",
              "      <td>1-1021-1</td>\n",
              "      <td>2015</td>\n",
              "      <td>0.484126</td>\n",
              "      <td>0.388</td>\n",
              "      <td>0.434794</td>\n",
              "      <td>0.151</td>\n",
              "      <td>3.16</td>\n",
              "      <td>0.52</td>\n",
              "    </tr>\n",
              "    <tr>\n",
              "      <th>4</th>\n",
              "      <td>1-1024-1</td>\n",
              "      <td>2015</td>\n",
              "      <td>1.080285</td>\n",
              "      <td>0.347</td>\n",
              "      <td>0.875576</td>\n",
              "      <td>0.124</td>\n",
              "      <td>2.63</td>\n",
              "      <td>0.46</td>\n",
              "    </tr>\n",
              "  </tbody>\n",
              "</table>\n",
              "</div>"
            ],
            "text/plain": [
              "        TYC2 ID  Epoch  ...  Parallax (mas)  Parallax err (mas)\n",
              "0  1-1001-1       2015  ...            2.96                0.59\n",
              "1  1-1009-1       2015  ...            5.77                0.73\n",
              "2  1-1016-1       2015  ...            2.66                0.59\n",
              "3  1-1021-1       2015  ...            3.16                0.52\n",
              "4  1-1024-1       2015  ...            2.63                0.46\n",
              "\n",
              "[5 rows x 8 columns]"
            ]
          },
          "metadata": {
            "tags": []
          },
          "execution_count": 78
        }
      ]
    },
    {
      "cell_type": "markdown",
      "metadata": {
        "id": "MsTdKqfFCiIw"
      },
      "source": [
        "How many rows are there in this dataframe?"
      ]
    },
    {
      "cell_type": "code",
      "metadata": {
        "id": "Pz9PWmRvCiIw",
        "colab": {
          "base_uri": "https://localhost:8080/"
        },
        "outputId": "f80982da-dcbe-4f50-e0cb-f97d34934619"
      },
      "source": [
        "len(df)"
      ],
      "execution_count": null,
      "outputs": [
        {
          "output_type": "execute_result",
          "data": {
            "text/plain": [
              "993037"
            ]
          },
          "metadata": {
            "tags": []
          },
          "execution_count": 80
        }
      ]
    },
    {
      "cell_type": "markdown",
      "metadata": {
        "id": "ctFXhnjVCiIw"
      },
      "source": [
        "You might notice that one of the columns contains the parallax angle for each star (remember: nearby objects have a larger parallax angle than far away objects).\n",
        "\n",
        "Store the \"parallax\" column in a variable."
      ]
    },
    {
      "cell_type": "code",
      "metadata": {
        "id": "RZ-xrEUeCiIw"
      },
      "source": [
        "parallax = df[\"Parallax (mas)\"]"
      ],
      "execution_count": null,
      "outputs": []
    },
    {
      "cell_type": "markdown",
      "metadata": {
        "id": "jFhUYkp_CiIw"
      },
      "source": [
        "Find the min, max, and mean parallax angle for this dataset:"
      ]
    },
    {
      "cell_type": "code",
      "metadata": {
        "id": "cH34SaHGCiIx",
        "colab": {
          "base_uri": "https://localhost:8080/"
        },
        "outputId": "ae1416fe-c209-445c-cdf1-8d9a7c711323"
      },
      "source": [
        "print(parallax.min())\n",
        "print(parallax.max())\n",
        "print(parallax.mean())"
      ],
      "execution_count": null,
      "outputs": [
        {
          "output_type": "stream",
          "text": [
            "-24.82\n",
            "120.59\n",
            "2.4250942311313683\n"
          ],
          "name": "stdout"
        }
      ]
    },
    {
      "cell_type": "markdown",
      "metadata": {
        "id": "hYDN6E0QCiIx"
      },
      "source": [
        "Sort the entire dataframe by parallax angle from largest to smallest and print out the first 10 rows of the sorted dataframe."
      ]
    },
    {
      "cell_type": "code",
      "metadata": {
        "id": "3dggyk63CiIx",
        "colab": {
          "base_uri": "https://localhost:8080/",
          "height": 359
        },
        "outputId": "c905e4dc-3d02-4ba5-c624-e8a925b2eec0"
      },
      "source": [
        "# Remember to assign your sorted dataframe to a new variable\n",
        "sorted_parallax = df.sort_values([\"Parallax (mas)\"], ascending = False)\n",
        "sorted_parallax.head(10)"
      ],
      "execution_count": null,
      "outputs": [
        {
          "output_type": "execute_result",
          "data": {
            "text/html": [
              "<div>\n",
              "<style scoped>\n",
              "    .dataframe tbody tr th:only-of-type {\n",
              "        vertical-align: middle;\n",
              "    }\n",
              "\n",
              "    .dataframe tbody tr th {\n",
              "        vertical-align: top;\n",
              "    }\n",
              "\n",
              "    .dataframe thead th {\n",
              "        text-align: right;\n",
              "    }\n",
              "</style>\n",
              "<table border=\"1\" class=\"dataframe\">\n",
              "  <thead>\n",
              "    <tr style=\"text-align: right;\">\n",
              "      <th></th>\n",
              "      <th>TYC2 ID</th>\n",
              "      <th>Epoch</th>\n",
              "      <th>RA (deg)</th>\n",
              "      <th>RA err (mas)</th>\n",
              "      <th>Dec (deg)</th>\n",
              "      <th>Dec err (mas)</th>\n",
              "      <th>Parallax (mas)</th>\n",
              "      <th>Parallax err (mas)</th>\n",
              "    </tr>\n",
              "  </thead>\n",
              "  <tbody>\n",
              "    <tr>\n",
              "      <th>600536</th>\n",
              "      <td>3980-1081-1</td>\n",
              "      <td>2015</td>\n",
              "      <td>327.909017</td>\n",
              "      <td>0.768</td>\n",
              "      <td>59.294450</td>\n",
              "      <td>0.785</td>\n",
              "      <td>120.59</td>\n",
              "      <td>0.96</td>\n",
              "    </tr>\n",
              "    <tr>\n",
              "      <th>696461</th>\n",
              "      <td>4378-2162-2</td>\n",
              "      <td>2015</td>\n",
              "      <td>133.836686</td>\n",
              "      <td>0.381</td>\n",
              "      <td>70.792196</td>\n",
              "      <td>0.518</td>\n",
              "      <td>87.54</td>\n",
              "      <td>0.59</td>\n",
              "    </tr>\n",
              "    <tr>\n",
              "      <th>626905</th>\n",
              "      <td>4041-1365-1</td>\n",
              "      <td>2015</td>\n",
              "      <td>30.394817</td>\n",
              "      <td>0.228</td>\n",
              "      <td>63.769605</td>\n",
              "      <td>0.236</td>\n",
              "      <td>84.54</td>\n",
              "      <td>0.30</td>\n",
              "    </tr>\n",
              "    <tr>\n",
              "      <th>696460</th>\n",
              "      <td>4378-2162-1</td>\n",
              "      <td>2015</td>\n",
              "      <td>133.836474</td>\n",
              "      <td>0.597</td>\n",
              "      <td>70.793037</td>\n",
              "      <td>0.851</td>\n",
              "      <td>81.89</td>\n",
              "      <td>0.96</td>\n",
              "    </tr>\n",
              "    <tr>\n",
              "      <th>633075</th>\n",
              "      <td>4067-242-1</td>\n",
              "      <td>2015</td>\n",
              "      <td>58.293768</td>\n",
              "      <td>0.845</td>\n",
              "      <td>62.567786</td>\n",
              "      <td>0.341</td>\n",
              "      <td>81.24</td>\n",
              "      <td>0.47</td>\n",
              "    </tr>\n",
              "    <tr>\n",
              "      <th>745577</th>\n",
              "      <td>4618-116-1</td>\n",
              "      <td>2015</td>\n",
              "      <td>109.990312</td>\n",
              "      <td>0.334</td>\n",
              "      <td>84.076924</td>\n",
              "      <td>0.514</td>\n",
              "      <td>80.16</td>\n",
              "      <td>0.66</td>\n",
              "    </tr>\n",
              "    <tr>\n",
              "      <th>906485</th>\n",
              "      <td>6403-440-1</td>\n",
              "      <td>2015</td>\n",
              "      <td>354.532769</td>\n",
              "      <td>0.421</td>\n",
              "      <td>-16.236492</td>\n",
              "      <td>0.307</td>\n",
              "      <td>78.56</td>\n",
              "      <td>0.80</td>\n",
              "    </tr>\n",
              "    <tr>\n",
              "      <th>565736</th>\n",
              "      <td>3819-1043-1</td>\n",
              "      <td>2015</td>\n",
              "      <td>157.604095</td>\n",
              "      <td>0.148</td>\n",
              "      <td>55.998993</td>\n",
              "      <td>0.328</td>\n",
              "      <td>77.41</td>\n",
              "      <td>0.27</td>\n",
              "    </tr>\n",
              "    <tr>\n",
              "      <th>695664</th>\n",
              "      <td>4375-2402-1</td>\n",
              "      <td>2015</td>\n",
              "      <td>128.944995</td>\n",
              "      <td>0.226</td>\n",
              "      <td>68.066859</td>\n",
              "      <td>0.276</td>\n",
              "      <td>76.94</td>\n",
              "      <td>0.38</td>\n",
              "    </tr>\n",
              "    <tr>\n",
              "      <th>786708</th>\n",
              "      <td>4835-774-1</td>\n",
              "      <td>2015</td>\n",
              "      <td>115.012365</td>\n",
              "      <td>0.362</td>\n",
              "      <td>-3.604870</td>\n",
              "      <td>0.221</td>\n",
              "      <td>71.17</td>\n",
              "      <td>0.36</td>\n",
              "    </tr>\n",
              "  </tbody>\n",
              "</table>\n",
              "</div>"
            ],
            "text/plain": [
              "             TYC2 ID  Epoch  ...  Parallax (mas)  Parallax err (mas)\n",
              "600536  3980-1081-1    2015  ...          120.59                0.96\n",
              "696461  4378-2162-2    2015  ...           87.54                0.59\n",
              "626905  4041-1365-1    2015  ...           84.54                0.30\n",
              "696460  4378-2162-1    2015  ...           81.89                0.96\n",
              "633075  4067-242-1     2015  ...           81.24                0.47\n",
              "745577  4618-116-1     2015  ...           80.16                0.66\n",
              "906485  6403-440-1     2015  ...           78.56                0.80\n",
              "565736  3819-1043-1    2015  ...           77.41                0.27\n",
              "695664  4375-2402-1    2015  ...           76.94                0.38\n",
              "786708  4835-774-1     2015  ...           71.17                0.36\n",
              "\n",
              "[10 rows x 8 columns]"
            ]
          },
          "metadata": {
            "tags": []
          },
          "execution_count": 83
        }
      ]
    },
    {
      "cell_type": "markdown",
      "metadata": {
        "id": "YMoy4c10CiIx"
      },
      "source": [
        "## Selecting a particular value in a dataframe\n",
        "You can index a single item from a row of the dataframe by specifying the column and then the row index as follows:"
      ]
    },
    {
      "cell_type": "code",
      "metadata": {
        "id": "pc96B14MCiIx",
        "colab": {
          "base_uri": "https://localhost:8080/"
        },
        "outputId": "81a11aaf-24d7-4b83-879a-d03ae4976af3"
      },
      "source": [
        "# This code will select the Parallax from the star in row ID 600536\n",
        "df[\"Parallax (mas)\"][600536] "
      ],
      "execution_count": null,
      "outputs": [
        {
          "output_type": "execute_result",
          "data": {
            "text/plain": [
              "120.59"
            ]
          },
          "metadata": {
            "tags": []
          },
          "execution_count": 84
        }
      ]
    },
    {
      "cell_type": "markdown",
      "metadata": {
        "id": "HkK9jHVNCiIx"
      },
      "source": [
        "Try it yourself! Find the Parallax angle for the star in row index 1."
      ]
    },
    {
      "cell_type": "code",
      "metadata": {
        "id": "P5l2-9m6CiIy",
        "colab": {
          "base_uri": "https://localhost:8080/"
        },
        "outputId": "c6880ff5-cae5-4211-d994-609880440653"
      },
      "source": [
        "# Use the following format: df[column name/variable][row index]\n",
        "df[\"Parallax (mas)\"][1]"
      ],
      "execution_count": null,
      "outputs": [
        {
          "output_type": "execute_result",
          "data": {
            "text/plain": [
              "5.77"
            ]
          },
          "metadata": {
            "tags": []
          },
          "execution_count": 85
        }
      ]
    },
    {
      "cell_type": "markdown",
      "metadata": {
        "id": "itHuwVx3CiIy"
      },
      "source": [
        "Now find the TYC2 ID for this star\""
      ]
    },
    {
      "cell_type": "code",
      "metadata": {
        "id": "pCmHsQxGCiIy",
        "colab": {
          "base_uri": "https://localhost:8080/",
          "height": 35
        },
        "outputId": "2d6919c8-3624-4bed-8a1e-ab8d1f0426e5"
      },
      "source": [
        "df[\"TYC2 ID\"][1]"
      ],
      "execution_count": null,
      "outputs": [
        {
          "output_type": "execute_result",
          "data": {
            "application/vnd.google.colaboratory.intrinsic+json": {
              "type": "string"
            },
            "text/plain": [
              "'1-1009-1    '"
            ]
          },
          "metadata": {
            "tags": []
          },
          "execution_count": 86
        }
      ]
    },
    {
      "cell_type": "markdown",
      "metadata": {
        "id": "ugz_pd9gCiIy"
      },
      "source": [
        "## Let's calculate the distance to these stars based on their parallax angle\n",
        "The parallax angle in this database is measured in milliarcseconds (mas). Add a column called \"Distance (par)\" using the following formula to calculate distance in parsecs: \n",
        "\n",
        "distance (par) = 1 / (parallax/1000)"
      ]
    },
    {
      "cell_type": "code",
      "metadata": {
        "id": "auB6VQFiCiI2"
      },
      "source": [
        "df[\"Distance (par)\"] = 1 / (parallax/1000)"
      ],
      "execution_count": null,
      "outputs": []
    },
    {
      "cell_type": "markdown",
      "metadata": {
        "id": "R1Gvc3H-CiI2"
      },
      "source": [
        "Check your dataframe using the .head() method:"
      ]
    },
    {
      "cell_type": "code",
      "metadata": {
        "id": "CTwEE2kCCiI2",
        "colab": {
          "base_uri": "https://localhost:8080/",
          "height": 204
        },
        "outputId": "25e56732-41c4-43b5-9986-250c155e8b2f"
      },
      "source": [
        "df.head()"
      ],
      "execution_count": null,
      "outputs": [
        {
          "output_type": "execute_result",
          "data": {
            "text/html": [
              "<div>\n",
              "<style scoped>\n",
              "    .dataframe tbody tr th:only-of-type {\n",
              "        vertical-align: middle;\n",
              "    }\n",
              "\n",
              "    .dataframe tbody tr th {\n",
              "        vertical-align: top;\n",
              "    }\n",
              "\n",
              "    .dataframe thead th {\n",
              "        text-align: right;\n",
              "    }\n",
              "</style>\n",
              "<table border=\"1\" class=\"dataframe\">\n",
              "  <thead>\n",
              "    <tr style=\"text-align: right;\">\n",
              "      <th></th>\n",
              "      <th>TYC2 ID</th>\n",
              "      <th>Epoch</th>\n",
              "      <th>RA (deg)</th>\n",
              "      <th>RA err (mas)</th>\n",
              "      <th>Dec (deg)</th>\n",
              "      <th>Dec err (mas)</th>\n",
              "      <th>Parallax (mas)</th>\n",
              "      <th>Parallax err (mas)</th>\n",
              "      <th>Distance (par)</th>\n",
              "    </tr>\n",
              "  </thead>\n",
              "  <tbody>\n",
              "    <tr>\n",
              "      <th>0</th>\n",
              "      <td>1-1001-1</td>\n",
              "      <td>2015</td>\n",
              "      <td>1.414659</td>\n",
              "      <td>0.483</td>\n",
              "      <td>2.448821</td>\n",
              "      <td>0.249</td>\n",
              "      <td>2.96</td>\n",
              "      <td>0.59</td>\n",
              "      <td>337.837838</td>\n",
              "    </tr>\n",
              "    <tr>\n",
              "      <th>1</th>\n",
              "      <td>1-1009-1</td>\n",
              "      <td>2015</td>\n",
              "      <td>0.137272</td>\n",
              "      <td>0.453</td>\n",
              "      <td>0.721016</td>\n",
              "      <td>0.195</td>\n",
              "      <td>5.77</td>\n",
              "      <td>0.73</td>\n",
              "      <td>173.310225</td>\n",
              "    </tr>\n",
              "    <tr>\n",
              "      <th>2</th>\n",
              "      <td>1-1016-1</td>\n",
              "      <td>2015</td>\n",
              "      <td>0.426679</td>\n",
              "      <td>0.456</td>\n",
              "      <td>1.786809</td>\n",
              "      <td>0.169</td>\n",
              "      <td>2.66</td>\n",
              "      <td>0.59</td>\n",
              "      <td>375.939850</td>\n",
              "    </tr>\n",
              "    <tr>\n",
              "      <th>3</th>\n",
              "      <td>1-1021-1</td>\n",
              "      <td>2015</td>\n",
              "      <td>0.484126</td>\n",
              "      <td>0.388</td>\n",
              "      <td>0.434794</td>\n",
              "      <td>0.151</td>\n",
              "      <td>3.16</td>\n",
              "      <td>0.52</td>\n",
              "      <td>316.455696</td>\n",
              "    </tr>\n",
              "    <tr>\n",
              "      <th>4</th>\n",
              "      <td>1-1024-1</td>\n",
              "      <td>2015</td>\n",
              "      <td>1.080285</td>\n",
              "      <td>0.347</td>\n",
              "      <td>0.875576</td>\n",
              "      <td>0.124</td>\n",
              "      <td>2.63</td>\n",
              "      <td>0.46</td>\n",
              "      <td>380.228137</td>\n",
              "    </tr>\n",
              "  </tbody>\n",
              "</table>\n",
              "</div>"
            ],
            "text/plain": [
              "        TYC2 ID  Epoch  ...  Parallax err (mas)  Distance (par)\n",
              "0  1-1001-1       2015  ...                0.59      337.837838\n",
              "1  1-1009-1       2015  ...                0.73      173.310225\n",
              "2  1-1016-1       2015  ...                0.59      375.939850\n",
              "3  1-1021-1       2015  ...                0.52      316.455696\n",
              "4  1-1024-1       2015  ...                0.46      380.228137\n",
              "\n",
              "[5 rows x 9 columns]"
            ]
          },
          "metadata": {
            "tags": []
          },
          "execution_count": 94
        }
      ]
    },
    {
      "cell_type": "markdown",
      "metadata": {
        "id": "xRp2Vg9pCiI2"
      },
      "source": [
        "Find the min, max, and average distance:"
      ]
    },
    {
      "cell_type": "code",
      "metadata": {
        "id": "kwIRZkFdCiI3",
        "colab": {
          "base_uri": "https://localhost:8080/"
        },
        "outputId": "bc171c06-6681-4b00-f228-6f34727d8fcb"
      },
      "source": [
        "distance = df[\"Distance (par)\"]\n",
        "print(distance.min())\n",
        "print(distance.max())\n",
        "print(distance.mean())"
      ],
      "execution_count": null,
      "outputs": [
        {
          "output_type": "stream",
          "text": [
            "-99999.99999999999\n",
            "99999.99999999999\n",
            "747.2266340679466\n"
          ],
          "name": "stdout"
        }
      ]
    },
    {
      "cell_type": "markdown",
      "metadata": {
        "id": "5zDB6wz3CiI3"
      },
      "source": [
        "Why are there negative distances? Can you find anything in the data that could explain this?"
      ]
    },
    {
      "cell_type": "markdown",
      "metadata": {
        "id": "GLVJvrSOCiI3"
      },
      "source": [
        "## Looking at the distribution of distances\n",
        "The mean is helpful when it comes to learning about the average distance in parsecs to the stars we can measure with Gaia, but it doesn't give us the whole picture. Let's create a graph called a \"histogram\" that shows us how many stars have distances in each range.\n",
        "\n",
        "There's a simple matplotlib.pyplot function for this called plt.hist()\n",
        "\n",
        "The plt.hist() function takes three arguments: \n",
        "- The dataframe index (or variable) that you want to look at\n",
        "- *optional* The number of ranges\n",
        "- *optional* (x min, x max)"
      ]
    },
    {
      "cell_type": "code",
      "metadata": {
        "id": "fzoIPzJrCiI3",
        "colab": {
          "base_uri": "https://localhost:8080/",
          "height": 276
        },
        "outputId": "604ec7e1-2a72-4f24-9137-9a75d97c394b"
      },
      "source": [
        "# First let's try the simplest version. Just use the dataframe index or variable for the distance column:\n",
        "# Don't use the other two arguments for now:\n",
        "plt.hist(distance)\n",
        "plt.show()"
      ],
      "execution_count": null,
      "outputs": [
        {
          "output_type": "display_data",
          "data": {
            "image/png": "[encoded data removed]",
            "text/plain": [
              "<Figure size 432x288 with 1 Axes>"
            ]
          },
          "metadata": {
            "tags": [],
            "needs_background": "light"
          }
        }
      ]
    },
    {
      "cell_type": "code",
      "metadata": {
        "id": "m2Xi23I7CiI3",
        "colab": {
          "base_uri": "https://localhost:8080/",
          "height": 276
        },
        "outputId": "7a0ccd17-b04f-49da-e299-7d38c19f6260"
      },
      "source": [
        "# We can split the data up into more ranges if we specify a number. Try adding 20 as the second argument:\n",
        "plt.hist(distance, 20)\n",
        "plt.show()"
      ],
      "execution_count": null,
      "outputs": [
        {
          "output_type": "display_data",
          "data": {
            "image/png": "[encoded data removed]",
            "text/plain": [
              "<Figure size 432x288 with 1 Axes>"
            ]
          },
          "metadata": {
            "tags": [],
            "needs_background": "light"
          }
        }
      ]
    },
    {
      "cell_type": "code",
      "metadata": {
        "id": "pG5EXQ1jCiI3",
        "colab": {
          "base_uri": "https://localhost:8080/",
          "height": 295
        },
        "outputId": "bbf45eef-323b-45d1-f8ef-ee97846a5107"
      },
      "source": [
        "# There are so few stars in the very negative and very positive distances that it's skewing our results.\n",
        "# Let's try specifying a min and max range of (-100, 4000)\n",
        "plt.hist(distance, 20, (-100, 4000))\n",
        "plt.title(\"Star Distances\")\n",
        "plt.xlabel(\"Distance\")\n",
        "plt.ylabel(\"Parallax\")\n",
        "plt.show()"
      ],
      "execution_count": null,
      "outputs": [
        {
          "output_type": "display_data",
          "data": {
            "image/png": "[encoded data removed]",
            "text/plain": [
              "<Figure size 432x288 with 1 Axes>"
            ]
          },
          "metadata": {
            "tags": [],
            "needs_background": "light"
          }
        }
      ]
    },
    {
      "cell_type": "markdown",
      "metadata": {
        "id": "z5BGu7EXCiI3"
      },
      "source": [
        "# 🟢Module 5: Making an HR Diagram\n",
        "\n",
        "In this Notebook, we'll use pandas and matplotlib to create a Hertzsprung–Russell (HR) diagram with the information we collected about stars.\n",
        "\n"
      ]
    },
    {
      "cell_type": "markdown",
      "metadata": {
        "id": "N4YcBLmXCiI4"
      },
      "source": [
        "First, import pandas and matplotlib.pyplot"
      ]
    },
    {
      "cell_type": "code",
      "metadata": {
        "id": "Lw-p-4xWCiJg"
      },
      "source": [
        "import pandas as pd\n",
        "import matplotlib.pyplot as plt "
      ],
      "execution_count": null,
      "outputs": []
    },
    {
      "cell_type": "markdown",
      "metadata": {
        "id": "3wT2CPSYCiJg"
      },
      "source": [
        "Next, run the following cell to import another matplotlib library and modify the way Jupyter displays graphs:"
      ]
    },
    {
      "cell_type": "code",
      "metadata": {
        "id": "3FQuyBGhCiJg"
      },
      "source": [
        "import matplotlib.colors as mpl # We'll use the matplotlib.colors library to color our data points\n",
        "%matplotlib inline \n",
        "# This command changes the matplotlib viewer that Jupyter notebook uses and allows us to make fancier graphs"
      ],
      "execution_count": null,
      "outputs": []
    },
    {
      "cell_type": "markdown",
      "metadata": {
        "id": "erXy0qzUCiJg"
      },
      "source": [
        "Now, open the \"class_star_data.csv\" file:"
      ]
    },
    {
      "cell_type": "code",
      "metadata": {
        "id": "rL8QKfLICiJg"
      },
      "source": [
        "estrellas = pd.read_csv(\"/content/sample_class_star_data.csv\")"
      ],
      "execution_count": null,
      "outputs": []
    },
    {
      "cell_type": "markdown",
      "metadata": {
        "id": "lOP15UGiCiJg"
      },
      "source": [
        "Look at the first five rows of the dataframe:"
      ]
    },
    {
      "cell_type": "code",
      "metadata": {
        "id": "55ISCNX5CiJh",
        "colab": {
          "base_uri": "https://localhost:8080/",
          "height": 204
        },
        "outputId": "15670496-9647-4da4-9dfa-bc332f32a76b"
      },
      "source": [
        "estrellas.head()"
      ],
      "execution_count": null,
      "outputs": [
        {
          "output_type": "execute_result",
          "data": {
            "text/html": [
              "<div>\n",
              "<style scoped>\n",
              "    .dataframe tbody tr th:only-of-type {\n",
              "        vertical-align: middle;\n",
              "    }\n",
              "\n",
              "    .dataframe tbody tr th {\n",
              "        vertical-align: top;\n",
              "    }\n",
              "\n",
              "    .dataframe thead th {\n",
              "        text-align: right;\n",
              "    }\n",
              "</style>\n",
              "<table border=\"1\" class=\"dataframe\">\n",
              "  <thead>\n",
              "    <tr style=\"text-align: right;\">\n",
              "      <th></th>\n",
              "      <th>star ID</th>\n",
              "      <th>Brightness (suns)</th>\n",
              "      <th>Temperature (K)</th>\n",
              "    </tr>\n",
              "  </thead>\n",
              "  <tbody>\n",
              "    <tr>\n",
              "      <th>0</th>\n",
              "      <td>1</td>\n",
              "      <td>132.0</td>\n",
              "      <td>22000.0</td>\n",
              "    </tr>\n",
              "    <tr>\n",
              "      <th>1</th>\n",
              "      <td>2</td>\n",
              "      <td>9000.0</td>\n",
              "      <td>3000.0</td>\n",
              "    </tr>\n",
              "    <tr>\n",
              "      <th>2</th>\n",
              "      <td>3</td>\n",
              "      <td>0.5</td>\n",
              "      <td>5200.0</td>\n",
              "    </tr>\n",
              "    <tr>\n",
              "      <th>3</th>\n",
              "      <td>4</td>\n",
              "      <td>70.0</td>\n",
              "      <td>15000.0</td>\n",
              "    </tr>\n",
              "    <tr>\n",
              "      <th>4</th>\n",
              "      <td>5</td>\n",
              "      <td>60000.0</td>\n",
              "      <td>6000.0</td>\n",
              "    </tr>\n",
              "  </tbody>\n",
              "</table>\n",
              "</div>"
            ],
            "text/plain": [
              "   star ID  Brightness (suns)  Temperature (K)\n",
              "0        1              132.0          22000.0\n",
              "1        2             9000.0           3000.0\n",
              "2        3                0.5           5200.0\n",
              "3        4               70.0          15000.0\n",
              "4        5            60000.0           6000.0"
            ]
          },
          "metadata": {
            "tags": []
          },
          "execution_count": 12
        }
      ]
    },
    {
      "cell_type": "markdown",
      "metadata": {
        "id": "0FenoNILCiJh"
      },
      "source": [
        "How many stars are in our dataset?"
      ]
    },
    {
      "cell_type": "code",
      "metadata": {
        "id": "ktyj5zgwCiJh",
        "colab": {
          "base_uri": "https://localhost:8080/"
        },
        "outputId": "f6271b58-c0b1-4bd9-8f06-4b76f59cf47c"
      },
      "source": [
        "len(estrellas)"
      ],
      "execution_count": null,
      "outputs": [
        {
          "output_type": "execute_result",
          "data": {
            "text/plain": [
              "96"
            ]
          },
          "metadata": {
            "tags": []
          },
          "execution_count": 13
        }
      ]
    },
    {
      "cell_type": "markdown",
      "metadata": {
        "id": "exTC-pT8CiJh"
      },
      "source": [
        "### Let's explore the data a bit.\n",
        "\n",
        "\n",
        "Store the \"Brightness (suns)\" column and the \"Temperature (K)\" columns in variables."
      ]
    },
    {
      "cell_type": "code",
      "metadata": {
        "id": "t0LjNJJgCiJh"
      },
      "source": [
        "bright = df[\"Brightness (suns)\"] \n",
        "temp = df[\"Temperature (K)\"]"
      ],
      "execution_count": null,
      "outputs": []
    },
    {
      "cell_type": "markdown",
      "metadata": {
        "id": "TfWgMb41CiJh"
      },
      "source": [
        "Print out the mean brightness and temperature."
      ]
    },
    {
      "cell_type": "code",
      "metadata": {
        "id": "DEsr_lchCiJh",
        "colab": {
          "base_uri": "https://localhost:8080/"
        },
        "outputId": "8a9c39ba-4169-4e57-bd68-cee011937b4e"
      },
      "source": [
        "print(bright.mean())\n",
        "print(temp.mean())"
      ],
      "execution_count": null,
      "outputs": [
        {
          "output_type": "stream",
          "text": [
            "965.2636905208336\n",
            "7238.541667395834\n"
          ],
          "name": "stdout"
        }
      ]
    },
    {
      "cell_type": "markdown",
      "metadata": {
        "id": "dUQsCd4RCiJh"
      },
      "source": [
        "How do these values compare to the brightness and temperature of the sun?\n",
        "\n",
        "Print out the brightness and temperature of the sun. \n",
        "\n",
        "Hint: Use an index! The sun's star ID is 25, making its dataframe index 24. "
      ]
    },
    {
      "cell_type": "code",
      "metadata": {
        "id": "7_6gWnFnCiJh"
      },
      "source": [
        "#estrellas.head(30) gives 30 rows of the index\n"
      ],
      "execution_count": null,
      "outputs": []
    },
    {
      "cell_type": "code",
      "metadata": {
        "colab": {
          "base_uri": "https://localhost:8080/"
        },
        "id": "qbbV08qtiOj2",
        "outputId": "9dfdace1-0914-4db4-927e-aeb1fdb31657"
      },
      "source": [
        "print(bright[24])\n",
        "print(temp[24])"
      ],
      "execution_count": null,
      "outputs": [
        {
          "output_type": "stream",
          "text": [
            "1.0\n",
            "4800.0\n"
          ],
          "name": "stdout"
        }
      ]
    },
    {
      "cell_type": "markdown",
      "metadata": {
        "id": "deyI1kz_CiJi"
      },
      "source": [
        "### Now let's make an HR diagram!\n",
        "\n",
        "Run the code below and look at it together. As a group, write comments that explain what each line does. If you have any questions, jot them down and we'll discuss them as a class."
      ]
    },
    {
      "cell_type": "code",
      "metadata": {
        "id": "uprJES_hCiJi",
        "colab": {
          "base_uri": "https://localhost:8080/",
          "height": 302
        },
        "outputId": "a7191fa4-2e43-4b94-be38-191763490b25"
      },
      "source": [
        "# cm = plt.cm.get_cmap(\"RdYlBu\") \n",
        "plt.scatter(temp, bright, c=bright, s=35, cmap=cm, norm=mpl.LogNorm()) \n",
        "plt.scatter(temp[24], bright[24], c='magenta', s=200, marker='*') #this is the star\n",
        "plt.yscale('log') #moves the points from the first scatter command\n",
        "plt.ylim([0.000001, 1000000]) #moves it all down\n",
        "plt.xlabel('Temperature (K)') #names the X scale\n",
        "plt.ylabel('Brightness (Suns)') #\n",
        "# plt.title('HR Diagram')\n",
        "# plt.gca().invert_xaxis()\n",
        "# plt.show()"
      ],
      "execution_count": null,
      "outputs": [
        {
          "output_type": "execute_result",
          "data": {
            "text/plain": [
              "Text(0, 0.5, 'Brightness (Suns)')"
            ]
          },
          "metadata": {
            "tags": []
          },
          "execution_count": 33
        },
        {
          "output_type": "display_data",
          "data": {
            "image/png": "[encoded data removed]",
            "text/plain": [
              "<Figure size 432x288 with 1 Axes>"
            ]
          },
          "metadata": {
            "tags": [],
            "needs_background": "light"
          }
        }
      ]
    },
    {
      "cell_type": "markdown",
      "metadata": {
        "id": "aUjkcM2ECiJi"
      },
      "source": [
        "## 🟢Module 6: The Cultural-Societal Impact of the Lack of Access to Home Broadband\n",
        "\n",
        "Electromagnetic waves that have wavelengths that are larger than 1mm in length are typically called radio waves. These wavelengths are used for communication between mobile phones, radio stations, Bluetooth devices, and of course radio stations.\n",
        "\n",
        "Radio astronomers developed an understanding of radio waves, which provided huge advantage for the development of the high-speed WI-FI standard. In the early 1990’s, WI-FI speed was limited by errors created from the signal bouncing and echoing off walls and objects of a room. This problem was made worse when a lot of information was sent across a single pure tone (single frequency) sine-like radio waves, limiting the possible data WI-FI data rate. However, it was found that by spreading the load of information across the radio band, the echo was reduced. It was not until the mid 2000s that this standard had become main-stream in WI-FI technology.\n",
        "\n",
        "\n",
        "In modern times, Wi-Fi is crucial to everyday activities whether it be work, school, or retail. But, who has access to Wi-Fi and who doesn't? Create a dataframe using the following access-based-on-income vs. time data, and create a scatter plot that visualizes how they compare.\n",
        "\n",
        "Source: https://www.pewresearch.org/internet/fact-sheet/internet-broadband/?menuItem=2ab2b0be-6364-4d3a-8db7-ae134dbc05cd\n",
        "\n"
      ]
    },
    {
      "cell_type": "code",
      "metadata": {
        "id": "6_cho_IGCiJi"
      },
      "source": [
        "#Import necessary libraries\n"
      ],
      "execution_count": null,
      "outputs": []
    },
    {
      "cell_type": "code",
      "metadata": {
        "id": "q_yKaJe5CiJi"
      },
      "source": [
        "#Read in data.\n"
      ],
      "execution_count": null,
      "outputs": []
    },
    {
      "cell_type": "code",
      "metadata": {
        "id": "f_phWceoCiJi"
      },
      "source": [
        "#Store column data in variables.\n"
      ],
      "execution_count": null,
      "outputs": []
    },
    {
      "cell_type": "code",
      "metadata": {
        "id": "jplGoaOqCiJi"
      },
      "source": [
        "#Plot information\n"
      ],
      "execution_count": null,
      "outputs": []
    },
    {
      "cell_type": "markdown",
      "metadata": {
        "id": "F5gImfQQCiJj"
      },
      "source": [
        "Answer the following questions:\n",
        "\n",
        "1. What income group of households has the greatest access to internet? The smallest?\n",
        "\n",
        "2. True or False: Equality exists because everyone has the opportunity to pay for internet access in their household. <br> Explain your thoughts.\n",
        "\n",
        "3. What are some ways that we can use our computer science skills to boost access of lower-income households to a stable high-speed internet connection?"
      ]
    },
    {
      "cell_type": "code",
      "metadata": {
        "id": "7CT1TyxHCiJj"
      },
      "source": [
        ""
      ],
      "execution_count": null,
      "outputs": []
    }
  ]
}