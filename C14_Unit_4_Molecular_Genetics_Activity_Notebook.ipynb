{
  "nbformat": 4,
  "nbformat_minor": 0,
  "metadata": {
    "kernelspec": {
      "display_name": "Python 3",
      "language": "python",
      "name": "python3"
    },
    "language_info": {
      "codemirror_mode": {
        "name": "ipython",
        "version": 3
      },
      "file_extension": ".py",
      "mimetype": "text/x-python",
      "name": "python",
      "nbconvert_exporter": "python",
      "pygments_lexer": "ipython3",
      "version": "3.8.3"
    },
    "colab": {
      "name": "C14 Unit 4 Molecular Genetics - Activity Notebook.ipynb",
      "provenance": []
    }
  },
  "cells": [
    {
      "cell_type": "markdown",
      "metadata": {
        "id": "NDIEfjbzKHlm"
      },
      "source": [
        "# 🟢 Module 1: Making a Lab Material Dictionary\n",
        "\n",
        "Dictionaries are a convenient way of storing data in Python.  A dictionary in Python is like a dictionary in the real world.  \n",
        "\n",
        "In the real world, a dictionary consists of **words** and their **definitions**. In Python, a dictionary consists of **keys** and their **values**.\n",
        "\n",
        "In this Jupyter notebook you will use this new data type to organize all the materials from our strawberry DNA extraction lab."
      ]
    },
    {
      "cell_type": "markdown",
      "metadata": {
        "id": "pgch9RzPKHln"
      },
      "source": [
        "### Use this cell for the live code session:"
      ]
    },
    {
      "cell_type": "code",
      "metadata": {
        "colab": {
          "base_uri": "https://localhost:8080/"
        },
        "id": "teQD73zsKHlo",
        "outputId": "390da653-0f57-4b1b-c007-cbb69712bcae"
      },
      "source": [
        "analogyDict = {\"DNA\" :\"cookbook\", \"RNA\" : \"recipe\", \"protien\" : \"food\"}\n",
        "print(analogyDict[\"RNA\"])\n",
        "\n",
        "subunitDict = {\"DNA\" : \"nucleotides\", \"RNA\" : \"nucleotides\", \"protien\" : \"amino acids\"}\n",
        "print(subunitDict[\"DNA\"])\n",
        "print(subunitDict[\"RNA\"])"
      ],
      "execution_count": null,
      "outputs": [
        {
          "output_type": "stream",
          "text": [
            "recipe\n",
            "nucleotides\n",
            "nucleotides\n"
          ],
          "name": "stdout"
        }
      ]
    },
    {
      "cell_type": "markdown",
      "metadata": {
        "id": "w_MU3MMsKHlp"
      },
      "source": [
        "### Run the following cells to learn more about dictionaries:"
      ]
    },
    {
      "cell_type": "code",
      "metadata": {
        "id": "SJQ7D65bKHlp"
      },
      "source": [
        "# We will create a new dictionary\n",
        "switchDict = {0:\"off\", 1:\"on\"} # Notice that you can use integers as keys and strings as values if you want"
      ],
      "execution_count": null,
      "outputs": []
    },
    {
      "cell_type": "code",
      "metadata": {
        "colab": {
          "base_uri": "https://localhost:8080/"
        },
        "id": "ThdRjiLeKHlp",
        "outputId": "11444f95-365e-40c2-bd44-89b11965df7e"
      },
      "source": [
        "# print out the value for the 0 key\n",
        "print(switchDict[0])"
      ],
      "execution_count": null,
      "outputs": [
        {
          "output_type": "stream",
          "text": [
            "off\n"
          ],
          "name": "stdout"
        }
      ]
    },
    {
      "cell_type": "code",
      "metadata": {
        "colab": {
          "base_uri": "https://localhost:8080/"
        },
        "id": "c1r6T9BDKHlq",
        "outputId": "abc3fead-2174-4c89-ca7e-bfc7068fd680"
      },
      "source": [
        "# Here's another dictionary\n",
        "countDict = {\"dozen\":12, \"baker's dozen\": 13, \"score\":20, \"one gross\":144}\n",
        "print(countDict)"
      ],
      "execution_count": null,
      "outputs": [
        {
          "output_type": "stream",
          "text": [
            "{'dozen': 12, \"baker's dozen\": 13, 'score': 20, 'one gross': 144}\n"
          ],
          "name": "stdout"
        }
      ]
    },
    {
      "cell_type": "code",
      "metadata": {
        "colab": {
          "base_uri": "https://localhost:8080/"
        },
        "id": "3JzauB-PKHlr",
        "outputId": "ff7ca409-6e6c-454f-87d6-db0a0c912740"
      },
      "source": [
        "# Let's print out the value for the \"Score\" key:\n",
        "print(countDict[\"score\"])"
      ],
      "execution_count": null,
      "outputs": [
        {
          "output_type": "stream",
          "text": [
            "20\n"
          ],
          "name": "stdout"
        }
      ]
    },
    {
      "cell_type": "markdown",
      "metadata": {
        "id": "SSnWwSVaKHlr"
      },
      "source": [
        "You can add a new key/value pair to a dictionary:"
      ]
    },
    {
      "cell_type": "code",
      "metadata": {
        "colab": {
          "base_uri": "https://localhost:8080/"
        },
        "id": "FHqS4Cr2KHls",
        "outputId": "e73bda9c-5b9d-4bb8-e4b2-9e393b887fbd"
      },
      "source": [
        "countDict[\"half dozen\"] = 6\n",
        "print(countDict)"
      ],
      "execution_count": null,
      "outputs": [
        {
          "output_type": "stream",
          "text": [
            "{'dozen': 12, \"baker's dozen\": 13, 'score': 20, 'one gross': 144, 'half dozen': 6}\n"
          ],
          "name": "stdout"
        }
      ]
    },
    {
      "cell_type": "markdown",
      "metadata": {
        "id": "6HSBG6wIKHls"
      },
      "source": [
        "You can also delete a key/value pair from a dictionary:"
      ]
    },
    {
      "cell_type": "code",
      "metadata": {
        "colab": {
          "base_uri": "https://localhost:8080/"
        },
        "id": "8TwVJRVYKHlu",
        "outputId": "79c14c16-8952-4213-c0fe-a5ed9d384880"
      },
      "source": [
        "del countDict[\"dozen\"]\n",
        "print(countDict)"
      ],
      "execution_count": null,
      "outputs": [
        {
          "output_type": "stream",
          "text": [
            "{\"baker's dozen\": 13, 'score': 20, 'one gross': 144, 'half dozen': 6}\n"
          ],
          "name": "stdout"
        }
      ]
    },
    {
      "cell_type": "markdown",
      "metadata": {
        "id": "xKPmgdWFKHlv"
      },
      "source": [
        "You can use dictionaries with other commands like conditionals:"
      ]
    },
    {
      "cell_type": "code",
      "metadata": {
        "colab": {
          "base_uri": "https://localhost:8080/"
        },
        "id": "LwaSKq6yKHlv",
        "outputId": "77835365-788b-432e-a871-f38c482c5f7c"
      },
      "source": [
        "if countDict[\"score\"] > 19:\n",
        "    print(\"A score is greater than 19\")"
      ],
      "execution_count": null,
      "outputs": [
        {
          "output_type": "stream",
          "text": [
            "A score is greater than 19\n"
          ],
          "name": "stdout"
        }
      ]
    },
    {
      "cell_type": "markdown",
      "metadata": {
        "id": "Xze5HGLSKHlw"
      },
      "source": [
        "### Making the lab material dictionary\n",
        "Create a dictionary with a key for the first three materials on the list (strawberries - dish soap). The values should be the reason we use that material:\n",
        "\n",
        "**Note: to make it easier to use your dictionary, keep all words lower case**"
      ]
    },
    {
      "cell_type": "code",
      "metadata": {
        "id": "ZcsYbjhdKHlw"
      },
      "source": [
        "shoppinglistDict = {\"strawberries\":\"DNA\", \"water\" : \"extract\", \"dish soap\" : \"to make extraction\"}"
      ],
      "execution_count": null,
      "outputs": []
    },
    {
      "cell_type": "markdown",
      "metadata": {
        "id": "pMNM-7x_KHlw"
      },
      "source": [
        "Print out the use of dish soap using your dictionary:"
      ]
    },
    {
      "cell_type": "code",
      "metadata": {
        "colab": {
          "base_uri": "https://localhost:8080/"
        },
        "id": "O6iz_krCKHlx",
        "outputId": "2a8baf1e-fe51-43d1-8b5d-e87787f98832"
      },
      "source": [
        "print(shoppinglistDict[\"dish soap\"])"
      ],
      "execution_count": null,
      "outputs": [
        {
          "output_type": "stream",
          "text": [
            "to make extraction\n"
          ],
          "name": "stdout"
        }
      ]
    },
    {
      "cell_type": "markdown",
      "metadata": {
        "id": "Ctv7WclpKHlx"
      },
      "source": [
        "Add the next three lab materials to your dictionary:"
      ]
    },
    {
      "cell_type": "code",
      "metadata": {
        "id": "gMpESvatKHlx"
      },
      "source": [
        "shoppinglistDict[\"Meat tenderizer\"] = \"squeeze the strawberry to death\"\n",
        "shoppinglistDict[\"salt\"] = \"separates DNA\"\n",
        "shoppinglistDict[\"rubbing alcohol\"] = \"KILLS TEH DNA\""
      ],
      "execution_count": null,
      "outputs": []
    },
    {
      "cell_type": "markdown",
      "metadata": {
        "id": "vamP-lUpKHly"
      },
      "source": [
        "print out your dictionary to check that you've added the new materials correctly:"
      ]
    },
    {
      "cell_type": "code",
      "metadata": {
        "colab": {
          "base_uri": "https://localhost:8080/"
        },
        "id": "JwOoABRZKHly",
        "outputId": "e0e94fe5-71bd-4106-d1d9-d39e74c8c8bd"
      },
      "source": [
        "print(shoppinglistDict)"
      ],
      "execution_count": null,
      "outputs": [
        {
          "output_type": "stream",
          "text": [
            "{'strawberries': 'DNA', 'water': 'extract', 'dish soap': 'to make extraction', 'Meat tenderizer': 'squeeze the strawberry to death', 'salt': 'separates DNA', 'rubbing alcohol': 'KILLS TEH DNA'}\n"
          ],
          "name": "stdout"
        }
      ]
    },
    {
      "cell_type": "markdown",
      "metadata": {
        "id": "ODw0azi-KHlz"
      },
      "source": [
        "Now write a \"for loop\" that loops through the following list and prints out \"<item> is needed for the experiment\" if that item is in your dictionary and then prints out the use of that item."
      ]
    },
    {
      "cell_type": "code",
      "metadata": {
        "id": "5v1j5mCzKHlz"
      },
      "source": [
        "items = [\"apples\", \"water\", \"lemon juice\", \"vinegar\", \"salt\", \"dish soap\"]"
      ],
      "execution_count": null,
      "outputs": []
    },
    {
      "cell_type": "code",
      "metadata": {
        "colab": {
          "base_uri": "https://localhost:8080/"
        },
        "id": "Qz2G8mbqKHlz",
        "outputId": "87290d4b-59fd-4b42-d272-8649f9e25c48"
      },
      "source": [
        "# Hint: you can use \"if x in my_dictionary\" to check if something is in a dictionary\n",
        "for x in items:\n",
        "  if x in shoppinglistDict:\n",
        "    print(x + \" is needed for my experiment\")\n",
        "\n"
      ],
      "execution_count": null,
      "outputs": [
        {
          "output_type": "stream",
          "text": [
            "water is needed for my experiment\n",
            "salt is needed for my experiment\n",
            "dish soap is needed for my experiment\n"
          ],
          "name": "stdout"
        }
      ]
    },
    {
      "cell_type": "markdown",
      "metadata": {
        "id": "-21oLl6bKHl0"
      },
      "source": [
        "# 🟢 Module 2: Transcribe and translate genetic information with Python!\n",
        "\n",
        "In this notebook you will learn how to write code that takes a DNA sequence and outputs the corresponding RNA sequence (transcription) and code that takes an RNA sequence and outputs the corresponding peptide sequence (translation)."
      ]
    },
    {
      "cell_type": "markdown",
      "metadata": {
        "id": "aKa0Dv25KHl1"
      },
      "source": [
        "In the \"Central Dogma\" game you only transcribed and translated the first 10 codons of each protein. For this coding exercise you will use the entire DNA sequences (400-1,000 base pairs!). \n",
        "<br>\n",
        "<br>\n",
        "The sequences are saved as text files so you will need to create a variable for each gene and use the open() function to assign each sequence to a variable. "
      ]
    },
    {
      "cell_type": "code",
      "metadata": {
        "colab": {
          "base_uri": "https://localhost:8080/"
        },
        "id": "LxvSiHPLQcQ0",
        "outputId": "6e5c4dc5-a4b9-4629-c086-45323bd3d338"
      },
      "source": [
        "from google.colab import drive\n",
        "drive.mount('/content/drive')"
      ],
      "execution_count": null,
      "outputs": [
        {
          "output_type": "stream",
          "text": [
            "Mounted at /content/drive\n"
          ],
          "name": "stdout"
        }
      ]
    },
    {
      "cell_type": "code",
      "metadata": {
        "collapsed": true,
        "id": "g0GgfhYDKHl1"
      },
      "source": [
        "# Create a variable for each gene and read that file into the variable as a string\n",
        "# You will need the open() function and the .read() method\n",
        "\n",
        "HisDNA = open(\"/content/drive/MyDrive/Histamine_receptor_DNA.txt\").read()\n",
        "\n",
        "# Now open and read the sequence files for keratin and collagen:\n",
        "kerDNA = open(\"/content/drive/MyDrive/Histamine_receptor_DNA.txt\").read()\n",
        "colDNA = open(\"/content/drive/MyDrive/Histamine_receptor_DNA.txt\").read()"
      ],
      "execution_count": null,
      "outputs": []
    },
    {
      "cell_type": "markdown",
      "metadata": {
        "id": "JUHyM9JmKHl2"
      },
      "source": [
        "Print out the data stored in the HisDNA variable:"
      ]
    },
    {
      "cell_type": "code",
      "metadata": {
        "colab": {
          "base_uri": "https://localhost:8080/"
        },
        "id": "aI6jZ8zLKHl2",
        "outputId": "b8403f60-2002-45b2-c89d-71c1965cd4fa"
      },
      "source": [
        "print(HisDNA)"
      ],
      "execution_count": null,
      "outputs": [
        {
          "output_type": "stream",
          "text": [
            "TACCGTGGGTTACCGTGTCGGAGAAGGAAAACGGACCTGAGATGGCGTACGTTCTAGTGGTAGTGGCACCAGGAACGCCAGGAGTAGGAGTAGTGGCAACGACCGTTACACCAGCAGACAGACCGGCACCCGAACTTGGCGGCCGAGGCGTTGGACTGGTTAACAAAGTAGCACAGGAACCGATAGTGACTGGACGAGGAGCCGGAGGACCACGACGGGAAGAGACGGTAGATGGTCGACAGGACGTTCACCTCGAAACCGTTCCAGAAGACGTTATAGATGTGGTCGGACCTACACTACGAGACGTGTCGGAGGTAAGAATTGGAGAAGTACTAGTCGGAGCTGGCCATGACGCGACAGTACCTGGGTGACGCCATGGGACACGACCAGTGGGGTCAAGCCCAGCGGTAGAGAGACCAGAATTAAACCCAGTAGAGGTAATGGGACAGGAAAGACAGATAGGTGGACCCCACCTTGTCGTCCTTGCTCTGGTCGTTCCCGTTAGTATGGTGGAGATTCACGTTTCAGGTCCAGTTACTTCACATGCCCGACCACCTACCCGACCAGTGGAAGATGGAGGGCGATGACTAGTACACGTAGTGGATGATGGCGTAGAAGTTCCAGCGGGCCCTAGTCCGGTTCTCCTAGTTAGTGTAATCGAGGACCTTCCGTCGGTGGTAGTCCCTCGTGTTTCGGTGTCACTGTGACCGGCGGCAGTACCCCCGGAAGTAGTAGACGACCAAAGGGATGAAGTGGCGCAAACACATGGCACCCGACTCTCCCCTACTACGGTAGTTACTCCACAATCTTCGGTAGCAAGACACCGACCCGATACGGTTGAGTCGGGACTTGGGGTAGGACATACGACGCGACTTGTCTCTGAAGGCGTGGCCCATGGTTGTCGAGAAGACGACGTCCGACCGGTTGGCGTTGAGGGTGTTTTGAAGAGACTCCAGGTTGCGGAGAGTCGACAGGTCCTGGGTTTCGGCTCTTGGGTCCGTTGTCCTTCTCTTTGGGGACTTCGAGGTCCACACCTCACCCTGTCTTCAGTGCCGGGGGGTCCCTCGGTGTCTGTCCATT\n"
          ],
          "name": "stdout"
        }
      ]
    },
    {
      "cell_type": "markdown",
      "metadata": {
        "id": "3rduJbfkKHl2"
      },
      "source": [
        "Print out the datatype of this variable:"
      ]
    },
    {
      "cell_type": "code",
      "metadata": {
        "colab": {
          "base_uri": "https://localhost:8080/"
        },
        "id": "svyzlmL3KHl2",
        "outputId": "14d27379-b66f-4657-e97c-ca9c73060e01"
      },
      "source": [
        "type(HisDNA)"
      ],
      "execution_count": null,
      "outputs": [
        {
          "output_type": "execute_result",
          "data": {
            "text/plain": [
              "str"
            ]
          },
          "metadata": {
            "tags": []
          },
          "execution_count": 23
        }
      ]
    },
    {
      "cell_type": "markdown",
      "metadata": {
        "id": "DCk_wEV1KHl3"
      },
      "source": [
        "Now that we've assigned our sequences to variables, we can get started on the code to transcribe that DNA sequence into an RNA sequence. \n",
        "\n",
        "**Store the histamine receptor RNA sequence in its own variable and print it out to check your results**\n",
        "\n",
        "Remember, A -> U, T -> A, G -> C, and C -> G"
      ]
    },
    {
      "cell_type": "code",
      "metadata": {
        "colab": {
          "base_uri": "https://localhost:8080/"
        },
        "id": "yKzrtklBKHl3",
        "outputId": "b3c2c0b7-9dc8-406f-cf03-ea1564ad81c2"
      },
      "source": [
        "# Hint: You will need a \"for loop\" and conditionals. \n",
        "# You will also need an empty string\n",
        "HisRNA = \"\"\n",
        "for i in HisDNA:\n",
        "    if i == \"A\":\n",
        "      HisRNA = HisRNA + \"U\"\n",
        "    elif i == \"T\":\n",
        "      HisRNA = HisRNA + \"A\"\n",
        "    elif i == \"G\":\n",
        "      HisRNA = HisRNA + \"C\"\n",
        "    elif i == \"C\":\n",
        "      HisRNA = HisRNA + \"G\"\n",
        "\n",
        "print(HisRNA)"
      ],
      "execution_count": null,
      "outputs": [
        {
          "output_type": "stream",
          "text": [
            "AUGGCACCCAAUGGCACAGCCUCUUCCUUUUGCCUGGACUCUACCGCAUGCAAGAUCACCAUCACCGUGGUCCUUGCGGUCCUCAUCCUCAUCACCGUUGCUGGCAAUGUGGUCGUCUGUCUGGCCGUGGGCUUGAACCGCCGGCUCCGCAACCUGACCAAUUGUUUCAUCGUGUCCUUGGCUAUCACUGACCUGCUCCUCGGCCUCCUGGUGCUGCCCUUCUCUGCCAUCUACCAGCUGUCCUGCAAGUGGAGCUUUGGCAAGGUCUUCUGCAAUAUCUACACCAGCCUGGAUGUGAUGCUCUGCACAGCCUCCAUUCUUAACCUCUUCAUGAUCAGCCUCGACCGGUACUGCGCUGUCAUGGACCCACUGCGGUACCCUGUGCUGGUCACCCCAGUUCGGGUCGCCAUCUCUCUGGUCUUAAUUUGGGUCAUCUCCAUUACCCUGUCCUUUCUGUCUAUCCACCUGGGGUGGAACAGCAGGAACGAGACCAGCAAGGGCAAUCAUACCACCUCUAAGUGCAAAGUCCAGGUCAAUGAAGUGUACGGGCUGGUGGAUGGGCUGGUCACCUUCUACCUCCCGCUACUGAUCAUGUGCAUCACCUACUACCGCAUCUUCAAGGUCGCCCGGGAUCAGGCCAAGAGGAUCAAUCACAUUAGCUCCUGGAAGGCAGCCACCAUCAGGGAGCACAAAGCCACAGUGACACUGGCCGCCGUCAUGGGGGCCUUCAUCAUCUGCUGGUUUCCCUACUUCACCGCGUUUGUGUACCGUGGGCUGAGAGGGGAUGAUGCCAUCAAUGAGGUGUUAGAAGCCAUCGUUCUGUGGCUGGGCUAUGCCAACUCAGCCCUGAACCCCAUCCUGUAUGCUGCGCUGAACAGAGACUUCCGCACCGGGUACCAACAGCUCUUCUGCUGCAGGCUGGCCAACCGCAACUCCCACAAAACUUCUCUGAGGUCCAACGCCUCUCAGCUGUCCAGGACCCAAAGCCGAGAACCCAGGCAACAGGAAGAGAAACCCCUGAAGCUCCAGGUGUGGAGUGGGACAGAAGUCACGGCCCCCCAGGGAGCCACAGACAGGUAA\n"
          ],
          "name": "stdout"
        }
      ]
    },
    {
      "cell_type": "code",
      "metadata": {
        "id": "URbcL--aKHl3"
      },
      "source": [
        ""
      ],
      "execution_count": null,
      "outputs": []
    },
    {
      "cell_type": "markdown",
      "metadata": {
        "id": "_wyFsEZ1KHl3"
      },
      "source": [
        "Congratulations! You've transcribed DNA sequences and created mRNA. Now it's time to translate that message and find the amino acid sequence of the protein.\n",
        "<br>\n",
        "<br>\n",
        "Here's a chart to help you out:"
      ]
    },
    {
      "cell_type": "markdown",
      "metadata": {
        "id": "k97wLNmYKHl4"
      },
      "source": [
        "<img src=\"https://archive.manylabs.org/file/lessonMedia/69/geneticCode.png\" width=\"500px\" height=\"500px\" align=\"left\" />"
      ]
    },
    {
      "cell_type": "markdown",
      "metadata": {
        "id": "fo-jyAEHKHl4"
      },
      "source": [
        "**Goal:** You need to write code that takes an RNA sequence and returns the correct amino acid sequence. (Use the one letter code for amino acids (ex. L for Leucine). Stop codons can be represented as \"STOP\")\n",
        "\n",
        "**You may find it helpful to write some pseudocode to help you solve this challenge**\n",
        "\n",
        "Here are some hints:\n",
        "- you will need a dictionary, a for loop, and a conditional"
      ]
    },
    {
      "cell_type": "markdown",
      "metadata": {
        "id": "gf3EHFuXKHl5"
      },
      "source": [
        "Create your dictionary first:"
      ]
    },
    {
      "cell_type": "code",
      "metadata": {
        "id": "PSSX6JeUKHl5"
      },
      "source": [
        "codeonDIT = {\"UUU\" : \"F\", \"UUC\" : \"F\", \"UUA\" : \"L\", \"UUG\" : \"L\", \"CUU\" : \"L\", \"CUC\" : \"L\", \"CUA\" : \"L\", \"CUG\" : \"L\", \"AUU\" : \"I\", \"AUC\" : \"I\", \"AUA\" : \"I\", \"AUG\" : \"M\", \"GUU\" : \"V\", \"GUC\" : \"V\", \"GUA\" : \"V\", \"GUG\" : \"V\", \"UCU\" : \"S\", \"UCC\" : \"S\", \"UCA\" : \"S\", \"UCG\" : \"S\", }"
      ],
      "execution_count": null,
      "outputs": []
    },
    {
      "cell_type": "markdown",
      "metadata": {
        "id": "hUgNCKo3KHl5"
      },
      "source": [
        "Now write the rest of your code:"
      ]
    },
    {
      "cell_type": "code",
      "metadata": {
        "colab": {
          "base_uri": "https://localhost:8080/",
          "height": 130
        },
        "id": "GTEK9q7CKHl5",
        "outputId": "71c311bc-62ad-4c0e-d490-bd40e4a0b2e3"
      },
      "source": [
        "codeon = \"\"\n",
        "protien = \"\"\n",
        "\n",
        "for i in HisRNA:\n",
        "  if len(codeon) == 3:\n",
        "    protein += codeonDIT[codeon]\n"
      ],
      "execution_count": null,
      "outputs": [
        {
          "output_type": "error",
          "ename": "SyntaxError",
          "evalue": "ignored",
          "traceback": [
            "\u001b[0;36m  File \u001b[0;32m\"<ipython-input-24-5771dbe493cf>\"\u001b[0;36m, line \u001b[0;32m4\u001b[0m\n\u001b[0;31m    if len(codeon)\u001b[0m\n\u001b[0m                  ^\u001b[0m\n\u001b[0;31mSyntaxError\u001b[0m\u001b[0;31m:\u001b[0m invalid syntax\n"
          ]
        }
      ]
    },
    {
      "cell_type": "markdown",
      "metadata": {
        "id": "6poGj9CtKHl5"
      },
      "source": [
        "# 🟢 Module 3: Dictionaries review\n",
        "\n",
        "These exercises will help you review the new data type of dictionaries. Try to complete these on your own first before looking at a cheat sheet."
      ]
    },
    {
      "cell_type": "markdown",
      "metadata": {
        "id": "ocsO0k0vKHl5"
      },
      "source": [
        "### 1. Creating a dictionary\n",
        "\n",
        "Here is a sample sequence of DNA:\n",
        "ACCCTGTAGCAGA\n",
        "\n",
        "Create a dictionary that contains each nucleotide as the key and the number of those nucleotides in the sequence as the value (you can just count by hand):"
      ]
    },
    {
      "cell_type": "code",
      "metadata": {
        "collapsed": true,
        "id": "siUJGVDUKHl7"
      },
      "source": [
        "nucleotideDICT = {\"A\" : \"4\", \"C\" : \"4\", \"T\" : \"\"}"
      ],
      "execution_count": null,
      "outputs": []
    },
    {
      "cell_type": "markdown",
      "metadata": {
        "id": "jkW72rdxKHl7"
      },
      "source": [
        "Print out the value associated with the key \"G\":"
      ]
    },
    {
      "cell_type": "code",
      "metadata": {
        "collapsed": true,
        "id": "EX78CgO8KHl7"
      },
      "source": [
        ""
      ],
      "execution_count": null,
      "outputs": []
    },
    {
      "cell_type": "markdown",
      "metadata": {
        "id": "O83iM4mpKHl7"
      },
      "source": [
        "### 2. Adding keys and values\n",
        "\n",
        "Add a key/value pair to your dictionary for the number of \"U\"s in the DNA sequence above:"
      ]
    },
    {
      "cell_type": "code",
      "metadata": {
        "collapsed": true,
        "id": "tPyf_70WKHl7"
      },
      "source": [
        ""
      ],
      "execution_count": null,
      "outputs": []
    },
    {
      "cell_type": "markdown",
      "metadata": {
        "id": "faKyBiehKHl7"
      },
      "source": [
        "Print out your dictionary:"
      ]
    },
    {
      "cell_type": "code",
      "metadata": {
        "collapsed": true,
        "id": "ZB8GTjDHKHl8"
      },
      "source": [
        ""
      ],
      "execution_count": null,
      "outputs": []
    },
    {
      "cell_type": "markdown",
      "metadata": {
        "id": "eLDv90UYKHl9"
      },
      "source": [
        "### 3. Conditionals and dictionaries\n",
        "\n",
        "Write a conditional that checks whether there are more \"A\"s or \"T\"s in your sequence and prints out:\n",
        "- \"There are more As\" or \"There are more Ts\"\n",
        "- The difference (ie. how many more As or Ts there are)"
      ]
    },
    {
      "cell_type": "code",
      "metadata": {
        "collapsed": true,
        "id": "-3y6IujDKHl9"
      },
      "source": [
        ""
      ],
      "execution_count": null,
      "outputs": []
    },
    {
      "cell_type": "markdown",
      "metadata": {
        "id": "6sIILYpzKHl9"
      },
      "source": [
        "### 3. Loops and dictionaries\n",
        "\n",
        "Loop through all the keys in your dictionary and print out its value:"
      ]
    },
    {
      "cell_type": "code",
      "metadata": {
        "collapsed": true,
        "id": "vzAfuHJyKHl9"
      },
      "source": [
        ""
      ],
      "execution_count": null,
      "outputs": []
    },
    {
      "cell_type": "markdown",
      "metadata": {
        "id": "rh-_IZLMKHl-"
      },
      "source": [
        "Now write a loop that only prints out the value if there are more than 0 nucleotides of that type in your sequence:"
      ]
    },
    {
      "cell_type": "code",
      "metadata": {
        "collapsed": true,
        "id": "LM6iAeU_KHl-"
      },
      "source": [
        ""
      ],
      "execution_count": null,
      "outputs": []
    },
    {
      "cell_type": "markdown",
      "metadata": {
        "id": "xxJalr30KHl-"
      },
      "source": [
        "# 🟢 Module 4: Exploring the hominid timeline\n",
        "\n",
        "In this notebook you'll get to practice creating and using dictionaries while discovering which hominin species lived at the same time."
      ]
    },
    {
      "cell_type": "markdown",
      "metadata": {
        "id": "pdnAUyjeKHl-"
      },
      "source": [
        "Here is a list of hominid species and the time range when they are beleived to have lived (in millions of years ago):\n",
        "- A. anamensis (4.2 to 3.9 mya)\n",
        "- A. afarensis (3.6 to 2.9 mya)\n",
        "- K. platyops (3.5 to 3.3 mya)\n",
        "- A. africanus (3 to 2 mya)\n",
        "- A. aethiopicus (2.7 to 2.3 mya)\n",
        "- A. boisei (2.3 to 1.4 mya)\n",
        "- H. habilis (2.3 to 1.6 mya)\n",
        "- H. erectus (1.8 to 0.3 mya)\n",
        "- A. robustus (1.8 to 1.5 mya)\n",
        "- H. heidelbergensis (0.6 to 0.1 mya)\n",
        "- H. neanderthalensis (0.25 to 0.03 mya)\n",
        "- H. sapiens (0.1 to 0 mya)\n",
        "\n",
        "Create a dictionary with species as keys and lists containing the beginning and end of the range as the values:\n",
        "\n",
        "*Note: If your dictionary gets too long to fit on one line, you can hit the \"return\" key after a comma to make a new line*"
      ]
    },
    {
      "cell_type": "code",
      "metadata": {
        "id": "m6fy76jIKHmA"
      },
      "source": [
        "homoniddict = {\"A.Anamensis\" : [4.2, 3.9], \n",
        "\"A.Afarensis\" : [3.6, 2.9], \n",
        "\"K.Platyops\" : [3.5, 3.3], \n",
        "\"A.Africanus\": [3, 2], \n",
        "\"A.Aethiopicus\" : [2.7, 2.3],\n",
        "\"A.Boisei\" : [2.3, 1.4], \n",
        "\"H.Habilis\" : [2.3, 1.6], \n",
        "\"H.Erectus\" : [1.8, 1.5], \n",
        "\"H.Heidelbergensis\" : [0.6, 0.1],\n",
        "\"H.neanderthalensis\" : [0.25, 0.03], \n",
        "\"H.Sapiens\" : [0.1, 0]}"
      ],
      "execution_count": null,
      "outputs": []
    },
    {
      "cell_type": "markdown",
      "metadata": {
        "id": "39s9Xy5SKHmA"
      },
      "source": [
        "Test out your dictionary by printing out the time range when A. boisei lived:"
      ]
    },
    {
      "cell_type": "code",
      "metadata": {
        "colab": {
          "base_uri": "https://localhost:8080/"
        },
        "id": "yIKsb0-WKHmB",
        "outputId": "59b7474f-a9f4-47ff-a457-64ac6fa8ab00"
      },
      "source": [
        "print(homoniddict['A.Boisei'])"
      ],
      "execution_count": null,
      "outputs": [
        {
          "output_type": "stream",
          "text": [
            "[2.3, 1.4]\n"
          ],
          "name": "stdout"
        }
      ]
    },
    {
      "cell_type": "markdown",
      "metadata": {
        "id": "81p_LxMWKHmB"
      },
      "source": [
        "Now write code that sets a variable equal to a certain number of millions of years ago and prints out a **list** of all the hominid species that lived at that time:\n",
        "\n",
        "Hints: \n",
        "- You will need to create a new list\n",
        "- You will need to use a list index after a dictionary index\n",
        "- Remember that the time ranges go from more mya to fewer mya"
      ]
    },
    {
      "cell_type": "code",
      "metadata": {
        "colab": {
          "base_uri": "https://localhost:8080/"
        },
        "id": "oJkMJaDjKHmB",
        "outputId": "939af0e1-128a-41cd-d163-065d17518947"
      },
      "source": [
        "MYA = 2\n",
        "hominidMYA = []\n",
        "for i in homoniddict:\n",
        "  if homoniddict[i][0] >= MYA >= homoniddict[i][1]:\n",
        "    hominidMYA.append(i)\n",
        "print(hominidMYA)"
      ],
      "execution_count": null,
      "outputs": [
        {
          "output_type": "stream",
          "text": [
            "['A.Africanus', 'A.Boisei', 'H.Habilis']\n"
          ],
          "name": "stdout"
        }
      ]
    },
    {
      "cell_type": "markdown",
      "metadata": {
        "id": "XeariY7OKHmB"
      },
      "source": [
        "Try re-running your code for the following numbers of millions of years:\n",
        "- 3 mya\n",
        "- 1.5 mya\n",
        "- 0.1 mya (100 years ago)"
      ]
    },
    {
      "cell_type": "markdown",
      "metadata": {
        "id": "jDE4B_cXKHmC"
      },
      "source": [
        "# 🟢 Module 5: Identifying Butterfly Species\n",
        "\n",
        "In this notebook you will get to use your transcription and translation code to analyze the optix gene from four butterflies and find out which pairs are the same species!"
      ]
    },
    {
      "cell_type": "markdown",
      "metadata": {
        "id": "Bd9bNdVTKHmC"
      },
      "source": [
        "### Step 1\n",
        "Open the DNA sequence files for the two butterflies that you picked. Read them in as strings, and assign them to variables:"
      ]
    },
    {
      "cell_type": "code",
      "metadata": {
        "colab": {
          "base_uri": "https://localhost:8080/",
          "height": 86
        },
        "id": "EfzblCBrKHmC",
        "outputId": "b835fccb-1c0c-468d-8b66-6924428effe9"
      },
      "source": [
        "# You will need the open() function and the .read() method\n",
        "mariposa_B = open(\"/content/drive/MyDrive/Butterfly_B_DNA.txt\").read()\n",
        "mariposa_D = open(\"/content/drive/MyDrive/Butterfly_D_DNA.txt\").read()\n",
        "str(mariposa_D)\n",
        "str(mariposa_B)"
      ],
      "execution_count": null,
      "outputs": [
        {
          "output_type": "execute_result",
          "data": {
            "application/vnd.google.colaboratory.intrinsic+json": {
              "type": "string"
            },
            "text/plain": [
              "'GCCAAGGTCTCCAGGTCAGTACGCTTTGATGTTCGGAACACCGACCTCCGCGTGATAGTCCTCCGGCTCGCGGAGGCGCCGGCGGGAGAGCCAGGCCAGCTGTTTATAGCACACGCCTTCTTCAAAGGGGACGGCGCTTGTTAGACCCTGCCGCTTGTTTTCTGTGTGACAAAGTTCCTCTCCTGCTCCAGCGAGGACTCCCTTACCATGGATGTTCTGGGAATGGGCTTGGGCTGCTTCTTCGCCCTTAACCGGCGCCGCTGCCCAGACTGCGGCTGCGTCCAGCCGTTGACCAAGTTTTTGGCCGCCGTCGCCCTGTCTCGTCGGCGGCGATTCTTGGCGAGGCGGCACGAGCCGGCTCCCAAGCGGAGGAGGAGGTGGATACTGCTCCTGAGGCGGCTGAGTCTCTAGTTGCACCTGCTCCTC'"
            ]
          },
          "metadata": {
            "tags": []
          },
          "execution_count": 6
        }
      ]
    },
    {
      "cell_type": "markdown",
      "metadata": {
        "id": "HygqYJ3aKHmC"
      },
      "source": [
        "Next, transcribe these sequences into RNA and assign each RNA sequence to a variable."
      ]
    },
    {
      "cell_type": "code",
      "metadata": {
        "colab": {
          "base_uri": "https://localhost:8080/"
        },
        "id": "M3FVME0CKHmC",
        "outputId": "b78e6118-caaf-404f-9615-72c0ec5af7a1"
      },
      "source": [
        "# Hint: You can copy and paste your transcription code\n",
        "butterflyRNA_B = \"\"\n",
        "for i in mariposa_B:\n",
        "    if i == \"A\":\n",
        "      butterflyRNA_B = butterflyRNA_B + \"U\"\n",
        "    elif i == \"T\":\n",
        "      butterflyRNA_B = butterflyRNA_B + \"A\"\n",
        "    elif i == \"G\":\n",
        "      butterflyRNA_B = butterflyRNA_B + \"C\"\n",
        "    elif i == \"C\":\n",
        "      butterflyRNA_B = butterflyRNA_B + \"G\"\n",
        "\n",
        "print(butterflyRNA_B)"
      ],
      "execution_count": null,
      "outputs": [
        {
          "output_type": "stream",
          "text": [
            "CGGUUCCAGAGGUCCAGUCAUGCGAAACUACAAGCCUUGUGGCUGGAGGCGCACUAUCAGGAGGCCGAGCGCCUCCGCGGCCGCCCUCUCGGUCCGGUCGACAAAUAUCGUGUGCGGAAGAAGUUUCCCCUGCCGCGAACAAUCUGGGACGGCGAACAAAAGACACACUGUUUCAAGGAGAGGACGAGGUCGCUCCUGAGGGAAUGGUACCUACAAGACCCUUACCCGAACCCGACGAAGAAGCGGGAAUUGGCCGCGGCGACGGGUCUGACGCCGACGCAGGUCGGCAACUGGUUCAAAAACCGGCGGCAGCGGGACAGAGCAGCCGCCGCUAAGAACCGCUCCGCCGUGCUCGGCCGAGGGUUCGCCUCCUCCUCCACCUAUGACGAGGACUCCGCCGACUCAGAGAUCAACGUGGACGAGGAG\n"
          ],
          "name": "stdout"
        }
      ]
    },
    {
      "cell_type": "code",
      "metadata": {
        "colab": {
          "base_uri": "https://localhost:8080/"
        },
        "id": "xSpW47iFiNQY",
        "outputId": "5f784a9f-85c1-4e82-cdc2-1148b3010600"
      },
      "source": [
        "butterflyRNA_D = \"\"\n",
        "for i in mariposa_D:\n",
        "    if i == \"A\":\n",
        "      butterflyRNA_D = butterflyRNA_D + \"U\"\n",
        "    elif i == \"T\":\n",
        "      butterflyRNA_D = butterflyRNA_D + \"A\"\n",
        "    elif i == \"G\":\n",
        "      butterflyRNA_D = butterflyRNA_D + \"C\"\n",
        "    elif i == \"C\":\n",
        "      butterflyRNA_D = butterflyRNA_D + \"G\"\n",
        "\n",
        "print(butterflyRNA_D)"
      ],
      "execution_count": null,
      "outputs": [
        {
          "output_type": "stream",
          "text": [
            "CGGUUCCAGAGGUCCAGUCAUGCGAAAUUACAAGCCUUGUGGCUGGAGGCGCACUAUCAGGAGGCCGAGCGUCUCCGUGGCCGCCCUCUCGGUCCGGUCGACAAAUAUCGUGUGCGGAAGAAGUUCCCCCUGCCUCGAACAAUCUGGGACGGCGAACAAAAGACACACUGUUUCAAGGAGAGAACGAGGUCGCUCCUGAGGGAAUGGUACCUACAAGAUCCUUACCCGAACCCGACGAAGAAGCGAGAAUUGGCCGCGGCGACGGGUCUGACGCCGACGCAGGUCGGCAACUGGUUCAAGAACCGGCGGCAGCGGGACAGAGCAGCCGCCGCUAAGAACCGCUCCGCCGUACUCGGCCGAGGAUUCGCCUCUUCCUCCACCUACGACGAGGACUCCGCCGACUCAGAGAUCAACGUGGACGAGGAG\n"
          ],
          "name": "stdout"
        }
      ]
    },
    {
      "cell_type": "markdown",
      "metadata": {
        "id": "zxJrgkvvKHmD"
      },
      "source": [
        "Now find the amino acid sequence for each butterfly and store it in a variable:"
      ]
    },
    {
      "cell_type": "code",
      "metadata": {
        "id": "hHsfpvrDKHmE"
      },
      "source": [
        "# Hint: You will need to use your translation code\n"
      ],
      "execution_count": null,
      "outputs": []
    },
    {
      "cell_type": "code",
      "metadata": {
        "id": "LVzfCwRdKHmF"
      },
      "source": [
        ""
      ],
      "execution_count": null,
      "outputs": []
    },
    {
      "cell_type": "code",
      "metadata": {
        "id": "OWvsQviIKHmG"
      },
      "source": [
        ""
      ],
      "execution_count": null,
      "outputs": []
    },
    {
      "cell_type": "markdown",
      "metadata": {
        "id": "bV4EMxBrKHmH"
      },
      "source": [
        "Print out your protein sequences to make sure your code worked:"
      ]
    },
    {
      "cell_type": "code",
      "metadata": {
        "id": "bVUHwQ-uKHmH"
      },
      "source": [
        ""
      ],
      "execution_count": null,
      "outputs": []
    },
    {
      "cell_type": "markdown",
      "metadata": {
        "id": "FLLi28LIKHmH"
      },
      "source": [
        "### Step 2\n",
        "How can we find out how many differences there are between each pair of protein sequences? \n",
        "Write code that compares your two sequences and prints out the number of differences:"
      ]
    },
    {
      "cell_type": "code",
      "metadata": {
        "id": "2sRz0vXwKHmH"
      },
      "source": [
        "# Hint, you will need the enumerate() function. You can use this in \"for loops\" that loop through strings or lists.\n",
        "# Remember, you must specify two variables in your \"for loop\": one for the index counter and one for the character.\n"
      ],
      "execution_count": null,
      "outputs": []
    },
    {
      "cell_type": "markdown",
      "metadata": {
        "id": "j1xufv78KHmH"
      },
      "source": [
        "If you got 0 differences, that's correct! But don't be too hasty in assuming that these butterflies are from the same species. Let's check the DNA sequences to be sure.\n",
        "\n",
        "### Step 3\n",
        "\n",
        "Try reusing your code to compare the DNA sequences instead of the protein sequences:"
      ]
    },
    {
      "cell_type": "code",
      "metadata": {
        "id": "uBNoHWx-KHmI"
      },
      "source": [
        "# You can copy and paste code from above and then modify it.\n",
        "\n"
      ],
      "execution_count": null,
      "outputs": []
    },
    {
      "cell_type": "markdown",
      "metadata": {
        "id": "XJ41ql1SKHmJ"
      },
      "source": [
        "Compare with other teams to see which two butterflies are from the same species."
      ]
    },
    {
      "cell_type": "markdown",
      "metadata": {
        "id": "x6e91PyoKHmJ"
      },
      "source": [
        "## Exploring SNPs\n",
        "### Step 4\n",
        "These DNA differences are actually known variations between species. Called \"single nucleotide polymorphisms\" or SNPs, they can be used to identify a particular species. \n",
        "\n",
        "Using the two dictionaries below, write code that looks at position 213 to find out whether the butterflies you're looking at are melpomene or erato:\n",
        "\n",
        "Hint: DNA basepairs count from 1 and python counts from 0"
      ]
    },
    {
      "cell_type": "code",
      "metadata": {
        "id": "tMZbf5HhKHmJ"
      },
      "source": [
        "# melpomene and erato are two Heliconius butterfly species\n",
        "# These dictionaries have the DNA basepair # as the key and the chemical base as the value\n",
        "\n",
        "melpomene = {36:\"A\", 156:\"C\", 177:\"T\", 213:\"C\", 276:\"A\", 291:\"A\", 315:\"A\", 333:\"G\", 405:\"C\"}\n",
        "erato = {36:\"G\", 156:\"T\", 177:\"C\", 213:\"T\", 276:\"C\", 291:\"G\", 315:\"C\", 333:\"A\", 405:\"T\"}\n",
        "\n"
      ],
      "execution_count": null,
      "outputs": []
    },
    {
      "cell_type": "code",
      "metadata": {
        "id": "GAB7nA1DKHmJ"
      },
      "source": [
        ""
      ],
      "execution_count": null,
      "outputs": []
    },
    {
      "cell_type": "markdown",
      "metadata": {
        "id": "Ecer3XvJKHmK"
      },
      "source": [
        "Try changing the code to look at a different basepair position:"
      ]
    },
    {
      "cell_type": "code",
      "metadata": {
        "id": "dCRmPlntKHmK"
      },
      "source": [
        ""
      ],
      "execution_count": null,
      "outputs": []
    },
    {
      "cell_type": "markdown",
      "metadata": {
        "id": "FEFkcAwgKHmK"
      },
      "source": [
        "# 🟢 Module 6: The Cultural-Societal Impact Researching Sickle Cell Anemia \n",
        "\n",
        "Use your transcription and translation code to find the amino acid sequence for hemoglobin samples 1-4 (each person in the group should look at a different sequence). Compare your results to determine which sequence has the mutation. "
      ]
    },
    {
      "cell_type": "code",
      "metadata": {
        "id": "c-6UCtFuKHmK"
      },
      "source": [
        ""
      ],
      "execution_count": null,
      "outputs": []
    },
    {
      "cell_type": "code",
      "metadata": {
        "id": "8etmYCAEKHmK"
      },
      "source": [
        ""
      ],
      "execution_count": null,
      "outputs": []
    },
    {
      "cell_type": "code",
      "metadata": {
        "id": "CvscNC0BKHmL"
      },
      "source": [
        ""
      ],
      "execution_count": null,
      "outputs": []
    },
    {
      "cell_type": "code",
      "metadata": {
        "id": "2U9mNFCcKHmL"
      },
      "source": [
        ""
      ],
      "execution_count": null,
      "outputs": []
    },
    {
      "cell_type": "markdown",
      "metadata": {
        "id": "Ajc7nV5dKHmL"
      },
      "source": [
        "Once a person decides to proceed with genetic testing, a medical geneticist, primary\n",
        "caredoctor, specialist, or nurse practitioner can order the test. Genetic testing is often\n",
        "done as part of a genetic consultation.\n",
        "\n",
        "Genetic tests are performed on a sample of blood, hair, skin, amniotic fluid (the fluid that\n",
        "surrounds a fetus during pregnancy), or other tissue. For example, a procedure called a\n",
        "buccal smear uses a small brush or cotton swab to collect a sample of cells from the\n",
        "inside surface of the cheek. The sample is sent to a laboratory where technicians look\n",
        "for specific changes in chromosomes, DNA, or proteins, depending on the suspected\n",
        "disorder. The laboratory reports the test results in writing to a person's doctor or genetic\n",
        "counselor, or directly to the patient if requested.\n",
        "\n",
        "Newborn screening tests are done on a small blood sample, which is taken by pricking\n",
        "the baby's heel. Unlike other types of genetic testing, a parent will usually only receive\n",
        "the result if it is positive. If the test result is positive, additional testing is needed to\n",
        "determine whether the baby has a genetic disorder.\n",
        "Before a person has a genetic test, it is important that he or she understands the testing\n",
        "procedure, the benefits and limitations of the test, and the possible consequences of the\n",
        "test results. The process of educating a person about the test and obtaining permission\n",
        "is called **informed consent**.\n",
        "\n",
        "Edit this text cell to answer the following questions:\n",
        "\n",
        "1. What were the research practices done to collect information about sickle cell anemia in Africa?\n",
        "\n",
        "2. Were these research practices ethical?\n",
        "\n",
        "3. What can we do with computer science to ensure that individuals' rights are protected?\n"
      ]
    },
    {
      "cell_type": "code",
      "metadata": {
        "id": "W8j6PxoJKHmM"
      },
      "source": [
        ""
      ],
      "execution_count": null,
      "outputs": []
    }
  ]
}