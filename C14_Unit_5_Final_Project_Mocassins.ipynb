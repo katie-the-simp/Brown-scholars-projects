{
  "nbformat": 4,
  "nbformat_minor": 0,
  "metadata": {
    "kernelspec": {
      "display_name": "Python 3",
      "language": "python",
      "name": "python3"
    },
    "language_info": {
      "codemirror_mode": {
        "name": "ipython",
        "version": 3
      },
      "file_extension": ".py",
      "mimetype": "text/x-python",
      "name": "python",
      "nbconvert_exporter": "python",
      "pygments_lexer": "ipython3",
      "version": "3.8.3"
    },
    "colab": {
      "name": "C14 Unit 5 Final Project - Mocassins.ipynb",
      "provenance": []
    }
  },
  "cells": [
    {
      "cell_type": "markdown",
      "metadata": {
        "id": "7AeVOLOPuEAF"
      },
      "source": [
        "# Unit 5 Anthropology - Final Project"
      ]
    },
    {
      "cell_type": "code",
      "metadata": {
        "colab": {
          "base_uri": "https://localhost:8080/"
        },
        "id": "rMX5-CgYuF7Z",
        "outputId": "dcaae594-7f8a-4970-ef4e-ca38b1035f58"
      },
      "source": [
        "from google.colab import drive\n",
        "drive.mount('/content/drive')"
      ],
      "execution_count": null,
      "outputs": [
        {
          "output_type": "stream",
          "text": [
            "Mounted at /content/drive\n"
          ],
          "name": "stdout"
        }
      ]
    },
    {
      "cell_type": "markdown",
      "metadata": {
        "id": "YcMpMXUiuEAG"
      },
      "source": [
        "Exploring the AMNH collections database for mocassins and reporting their color combinations. \n",
        "\n",
        "Create at least two functions to find the following using Claire Heckel's moccasin data:\n",
        "1. How many color combinations are used on moccasins? How many moccasins have a combination of 3 colors?\n",
        "2. Which color combinations occur most often in our moccasins data (min/max)?\n",
        "3. What are the three most common pairs of motifs on moccasins? What are the least common?"
      ]
    },
    {
      "cell_type": "code",
      "metadata": {
        "id": "oxA5mjGzuEAG"
      },
      "source": [
        "import pandas as pd\n",
        "df_moccasin = pd.read_csv(\"/content/drive/MyDrive/ClairesMoccasinData - Data.csv\")"
      ],
      "execution_count": null,
      "outputs": []
    },
    {
      "cell_type": "code",
      "metadata": {
        "id": "ZZljkaPguEAH"
      },
      "source": [
        "df_color_2 = pd.read_csv(\"/content/drive/MyDrive/2_color_combos.txt\")\n",
        "df_color_3 = pd.read_csv(\"/content/drive/MyDrive/3_color_combos.txt\")\n",
        "df_color_4 = pd.read_csv(\"/content/drive/MyDrive/4_color_combos.txt\")\n",
        "df_color_5 = pd.read_csv(\"/content/drive/MyDrive/5_color_combos.txt\")"
      ],
      "execution_count": null,
      "outputs": []
    },
    {
      "cell_type": "code",
      "metadata": {
        "id": "ShmZgD1k64RR"
      },
      "source": [
        ""
      ],
      "execution_count": null,
      "outputs": []
    },
    {
      "cell_type": "code",
      "metadata": {
        "id": "wCm6idwxuEAH"
      },
      "source": [
        "def colorcombos():\n",
        "  [e for i, e in enumerate(df_color_3) if i in indexes]"
      ],
      "execution_count": null,
      "outputs": []
    },
    {
      "cell_type": "code",
      "metadata": {
        "colab": {
          "base_uri": "https://localhost:8080/"
        },
        "id": "CGtJ557GuEAH",
        "outputId": "ad2e8cb2-e733-47c9-8216-19ce169070da"
      },
      "source": [
        "len(df_color_3)"
      ],
      "execution_count": null,
      "outputs": [
        {
          "output_type": "execute_result",
          "data": {
            "text/plain": [
              "6544"
            ]
          },
          "metadata": {
            "tags": []
          },
          "execution_count": 8
        }
      ]
    },
    {
      "cell_type": "code",
      "metadata": {
        "id": "D_7KF62fuEAH"
      },
      "source": [
        "#How many color combinations are used on moccasins?\n",
        "color_columns = df_moccasin.iloc[:,20: 55] #Create a new variable called color_columns to isolate the columns representing colors. Use .iloc[] attribute to add all of the rows and colums 20 through 54 from the dataframe to the new dataset.\n",
        "color_columns[\"Number of Color Combinations\"] = 0 #Add a new column named \"Number of Color Combinations\" to color_columns.\n",
        "color_columns[\"Color Combinations\"] = 0 #Add a new column named \"Color Combinations\" to color_columns.\n",
        "colors = color_columns.columns #Set the columns of the color_columns dataset to the variable color.\n",
        "color_columns[\"Number of Color Combinations\"] = color_columns[\"Number of Color Combinations\"].astype(\"object\") #Use the .astype method to convert the \"Number of Color Combinations\" column into an object.\n",
        "for index, row in color_columns.iterrows(): #Create a for loop that iterates through the indices and rows in color_columns.\n",
        "  num_color_combos = 0 #Create a new variable to store the number of color combinations.\n",
        "  for i in colors: #Create a nested for loop that iterates through the columns in color_columns.\n",
        "    if row.loc[i] == 1: #If a row contains the number 1,\n",
        "      num_color_combos += 1 #Add it to num_color_combos.\n",
        "  color_columns.at[index, \"Number of Color Combinations\"] = num_color_combos #Use .at[] which is similar to .loc[] yo add the number stored in the num_color_combos variable to the \"Number of Color Combinations\" column."
      ],
      "execution_count": null,
      "outputs": []
    },
    {
      "cell_type": "code",
      "metadata": {
        "colab": {
          "base_uri": "https://localhost:8080/"
        },
        "id": "LUh3G9ftuEAI",
        "outputId": "ec392b5c-a9c0-44d7-ff7c-cf81c0931108"
      },
      "source": [
        "color_columns['TR_CRYSTAL']"
      ],
      "execution_count": null,
      "outputs": [
        {
          "output_type": "execute_result",
          "data": {
            "text/plain": [
              "0      0\n",
              "1      0\n",
              "2      0\n",
              "3      0\n",
              "4      0\n",
              "      ..\n",
              "436    1\n",
              "437    0\n",
              "438    0\n",
              "439    0\n",
              "440    0\n",
              "Name: TR_CRYSTAL, Length: 441, dtype: int64"
            ]
          },
          "metadata": {
            "tags": []
          },
          "execution_count": 31
        }
      ]
    },
    {
      "cell_type": "code",
      "metadata": {
        "colab": {
          "base_uri": "https://localhost:8080/"
        },
        "id": "2O5RaifquEAI",
        "outputId": "e87eba96-d360-441e-ee8d-843c4645acf1"
      },
      "source": [
        "#How many moccasins have a combination of 3 colors?\n",
        "counter = 0 #Create an empty variable named counter.\n",
        "for i in color_columns[\"Number of Color Combinations\"]: #Refer to the column, \"Number of Color Combinations\".\n",
        "  if i == 3: #If a value in that column is equal to 3,\n",
        "    counter += 1 #Add it to counter.\n",
        "print(counter, \"moccasins have a combination of 3 colors.\") #Print the value of the counter in a complete sentence."
      ],
      "execution_count": null,
      "outputs": [
        {
          "output_type": "stream",
          "text": [
            "52 moccasins have a combination of 3 colors.\n"
          ],
          "name": "stdout"
        }
      ]
    },
    {
      "cell_type": "code",
      "metadata": {
        "id": "VAJFOsnyuEAI"
      },
      "source": [
        "#Motif dataset\n",
        "motif_columns = df_moccasin.iloc[:,55: 90] #Create a new variable called motif_columns to isolate the columns representing motifs. Use .iloc[] attribute to add all of the rows and colums 55 through 89 from the dataframe to the new dataset.\n",
        "motif_columns[\"Number of Motif Combinations\"] = 0 #Add a new column named \"Number of Motif Combinations\" to motif_columns.\n",
        "motifs = motif_columns.columns #Set the columns of the motif_columns dataset to the variable motifs.\n",
        "motif_columns[\"Number of Motif Combinations\"] = motif_columns[\"Number of Motif Combinations\"].astype(\"object\") #Use the .astype method to convert the \"Number of Motif Combinations\" column into an object.\n",
        "for index, row in motif_columns.iterrows(): #Create a for loop that iterates through the indices and rows in motif_columns.\n",
        "  num_motif_combos = 0 #Create a new variable to store the number of motif combinations.\n",
        "  for i in motifs: #Create a nested for loop that iterates through the columns in motif_columns.\n",
        "    if row.loc[i] == 1: #If a row contains the number 1,\n",
        "      num_motif_combos += 1 #Add it to num_motif_combos.\n",
        "  motif_columns.at[index, \"Number of Motif Combinations\"] = num_motif_combos #Use .at[] which is similar to .loc[] to add the number stored in the num_motif_combos variable to the \"Number of Motif Combinations\" column."
      ],
      "execution_count": null,
      "outputs": []
    },
    {
      "cell_type": "code",
      "metadata": {
        "id": "PwyWWTpmuEAI"
      },
      "source": [
        "#use the link that miss carol put in slack to figure out if our data/results is correct"
      ],
      "execution_count": null,
      "outputs": []
    },
    {
      "cell_type": "code",
      "metadata": {
        "colab": {
          "base_uri": "https://localhost:8080/",
          "height": 473
        },
        "id": "DEs3aLGwsBqv",
        "outputId": "c3ad7632-76a3-4742-e3ab-fa9e6e548d56"
      },
      "source": [
        "motif_columns[0]"
      ],
      "execution_count": null,
      "outputs": [
        {
          "output_type": "execute_result",
          "data": {
            "text/html": [
              "<div>\n",
              "<style scoped>\n",
              "    .dataframe tbody tr th:only-of-type {\n",
              "        vertical-align: middle;\n",
              "    }\n",
              "\n",
              "    .dataframe tbody tr th {\n",
              "        vertical-align: top;\n",
              "    }\n",
              "\n",
              "    .dataframe thead th {\n",
              "        text-align: right;\n",
              "    }\n",
              "</style>\n",
              "<table border=\"1\" class=\"dataframe\">\n",
              "  <thead>\n",
              "    <tr style=\"text-align: right;\">\n",
              "      <th></th>\n",
              "      <th>MOTIF_ANTELOPEHOOF</th>\n",
              "      <th>MOTIF_ARROW</th>\n",
              "      <th>MOTIF_BIRD</th>\n",
              "      <th>MOTIF_BOX</th>\n",
              "      <th>MOTIF_BOXPLOT</th>\n",
              "      <th>MOTIF_CHECKER</th>\n",
              "      <th>MOTIF_CHEVRON</th>\n",
              "      <th>MOTIF_CROSSBAR</th>\n",
              "      <th>MOTIF_DIAMO9</th>\n",
              "      <th>MOTIF_DRAGONFLY</th>\n",
              "      <th>MOTIF_ELKHOOF</th>\n",
              "      <th>MOTIF_HOURGLASS</th>\n",
              "      <th>MOTIF_FEATHER</th>\n",
              "      <th>MOTIF_FILLEDUP</th>\n",
              "      <th>MOTIF_FULLPOINTS</th>\n",
              "      <th>MOTIF_HALFSTAR</th>\n",
              "      <th>MOTIF_HEARTLUNGS</th>\n",
              "      <th>MOTIF_HORSETRACKS</th>\n",
              "      <th>MOTIF_IBAR</th>\n",
              "      <th>MOTIF_LEAF</th>\n",
              "      <th>MOTIF_LIGHTNING</th>\n",
              "      <th>MOTIF_LONGCHECKER</th>\n",
              "      <th>MOTIF_MORNINGSTAR</th>\n",
              "      <th>MOTIF_MOUNTAIN</th>\n",
              "      <th>MOTIF_POINTS</th>\n",
              "      <th>MOTIF_RABBITEARS</th>\n",
              "      <th>MOTIF_RABBITTRACKS</th>\n",
              "      <th>MOTIF_SLANTBAR</th>\n",
              "      <th>MOTIF_SQUARECROSS</th>\n",
              "      <th>MOTIF_STRIPES</th>\n",
              "      <th>MOTIF_TIPI</th>\n",
              "      <th>MOTIF_TRIANGLES</th>\n",
              "      <th>MOTIF_TURTLE</th>\n",
              "      <th>MOTIF_TWISTED</th>\n",
              "      <th>MOTIF_VERTEBRAE</th>\n",
              "      <th>Number of Motif Combinations</th>\n",
              "    </tr>\n",
              "  </thead>\n",
              "  <tbody>\n",
              "    <tr>\n",
              "      <th>0</th>\n",
              "      <td>0</td>\n",
              "      <td>0</td>\n",
              "      <td>0</td>\n",
              "      <td>1</td>\n",
              "      <td>0</td>\n",
              "      <td>0</td>\n",
              "      <td>0</td>\n",
              "      <td>0</td>\n",
              "      <td>0</td>\n",
              "      <td>0</td>\n",
              "      <td>1</td>\n",
              "      <td>0</td>\n",
              "      <td>0</td>\n",
              "      <td>0</td>\n",
              "      <td>0</td>\n",
              "      <td>0</td>\n",
              "      <td>1</td>\n",
              "      <td>0</td>\n",
              "      <td>0</td>\n",
              "      <td>0</td>\n",
              "      <td>0</td>\n",
              "      <td>0</td>\n",
              "      <td>0</td>\n",
              "      <td>1</td>\n",
              "      <td>0</td>\n",
              "      <td>1</td>\n",
              "      <td>1</td>\n",
              "      <td>0</td>\n",
              "      <td>0</td>\n",
              "      <td>1</td>\n",
              "      <td>0</td>\n",
              "      <td>0</td>\n",
              "      <td>0</td>\n",
              "      <td>0</td>\n",
              "      <td>0</td>\n",
              "      <td>7</td>\n",
              "    </tr>\n",
              "    <tr>\n",
              "      <th>1</th>\n",
              "      <td>0</td>\n",
              "      <td>0</td>\n",
              "      <td>0</td>\n",
              "      <td>1</td>\n",
              "      <td>0</td>\n",
              "      <td>0</td>\n",
              "      <td>0</td>\n",
              "      <td>0</td>\n",
              "      <td>0</td>\n",
              "      <td>0</td>\n",
              "      <td>1</td>\n",
              "      <td>0</td>\n",
              "      <td>0</td>\n",
              "      <td>0</td>\n",
              "      <td>1</td>\n",
              "      <td>0</td>\n",
              "      <td>0</td>\n",
              "      <td>0</td>\n",
              "      <td>0</td>\n",
              "      <td>0</td>\n",
              "      <td>1</td>\n",
              "      <td>0</td>\n",
              "      <td>0</td>\n",
              "      <td>0</td>\n",
              "      <td>0</td>\n",
              "      <td>0</td>\n",
              "      <td>1</td>\n",
              "      <td>0</td>\n",
              "      <td>0</td>\n",
              "      <td>1</td>\n",
              "      <td>0</td>\n",
              "      <td>0</td>\n",
              "      <td>0</td>\n",
              "      <td>0</td>\n",
              "      <td>0</td>\n",
              "      <td>6</td>\n",
              "    </tr>\n",
              "    <tr>\n",
              "      <th>2</th>\n",
              "      <td>0</td>\n",
              "      <td>0</td>\n",
              "      <td>0</td>\n",
              "      <td>0</td>\n",
              "      <td>0</td>\n",
              "      <td>0</td>\n",
              "      <td>0</td>\n",
              "      <td>0</td>\n",
              "      <td>0</td>\n",
              "      <td>0</td>\n",
              "      <td>0</td>\n",
              "      <td>0</td>\n",
              "      <td>0</td>\n",
              "      <td>0</td>\n",
              "      <td>0</td>\n",
              "      <td>0</td>\n",
              "      <td>0</td>\n",
              "      <td>0</td>\n",
              "      <td>0</td>\n",
              "      <td>0</td>\n",
              "      <td>0</td>\n",
              "      <td>0</td>\n",
              "      <td>0</td>\n",
              "      <td>0</td>\n",
              "      <td>0</td>\n",
              "      <td>0</td>\n",
              "      <td>0</td>\n",
              "      <td>0</td>\n",
              "      <td>1</td>\n",
              "      <td>0</td>\n",
              "      <td>0</td>\n",
              "      <td>0</td>\n",
              "      <td>0</td>\n",
              "      <td>0</td>\n",
              "      <td>0</td>\n",
              "      <td>1</td>\n",
              "    </tr>\n",
              "    <tr>\n",
              "      <th>3</th>\n",
              "      <td>0</td>\n",
              "      <td>0</td>\n",
              "      <td>0</td>\n",
              "      <td>1</td>\n",
              "      <td>0</td>\n",
              "      <td>1</td>\n",
              "      <td>0</td>\n",
              "      <td>0</td>\n",
              "      <td>0</td>\n",
              "      <td>0</td>\n",
              "      <td>0</td>\n",
              "      <td>0</td>\n",
              "      <td>0</td>\n",
              "      <td>0</td>\n",
              "      <td>0</td>\n",
              "      <td>0</td>\n",
              "      <td>0</td>\n",
              "      <td>0</td>\n",
              "      <td>0</td>\n",
              "      <td>0</td>\n",
              "      <td>0</td>\n",
              "      <td>0</td>\n",
              "      <td>0</td>\n",
              "      <td>1</td>\n",
              "      <td>0</td>\n",
              "      <td>0</td>\n",
              "      <td>1</td>\n",
              "      <td>0</td>\n",
              "      <td>0</td>\n",
              "      <td>0</td>\n",
              "      <td>0</td>\n",
              "      <td>1</td>\n",
              "      <td>0</td>\n",
              "      <td>0</td>\n",
              "      <td>0</td>\n",
              "      <td>5</td>\n",
              "    </tr>\n",
              "    <tr>\n",
              "      <th>4</th>\n",
              "      <td>0</td>\n",
              "      <td>0</td>\n",
              "      <td>0</td>\n",
              "      <td>1</td>\n",
              "      <td>0</td>\n",
              "      <td>0</td>\n",
              "      <td>0</td>\n",
              "      <td>0</td>\n",
              "      <td>0</td>\n",
              "      <td>0</td>\n",
              "      <td>0</td>\n",
              "      <td>0</td>\n",
              "      <td>0</td>\n",
              "      <td>0</td>\n",
              "      <td>0</td>\n",
              "      <td>1</td>\n",
              "      <td>0</td>\n",
              "      <td>0</td>\n",
              "      <td>1</td>\n",
              "      <td>0</td>\n",
              "      <td>1</td>\n",
              "      <td>0</td>\n",
              "      <td>0</td>\n",
              "      <td>0</td>\n",
              "      <td>0</td>\n",
              "      <td>0</td>\n",
              "      <td>0</td>\n",
              "      <td>0</td>\n",
              "      <td>0</td>\n",
              "      <td>0</td>\n",
              "      <td>1</td>\n",
              "      <td>0</td>\n",
              "      <td>0</td>\n",
              "      <td>0</td>\n",
              "      <td>0</td>\n",
              "      <td>5</td>\n",
              "    </tr>\n",
              "    <tr>\n",
              "      <th>...</th>\n",
              "      <td>...</td>\n",
              "      <td>...</td>\n",
              "      <td>...</td>\n",
              "      <td>...</td>\n",
              "      <td>...</td>\n",
              "      <td>...</td>\n",
              "      <td>...</td>\n",
              "      <td>...</td>\n",
              "      <td>...</td>\n",
              "      <td>...</td>\n",
              "      <td>...</td>\n",
              "      <td>...</td>\n",
              "      <td>...</td>\n",
              "      <td>...</td>\n",
              "      <td>...</td>\n",
              "      <td>...</td>\n",
              "      <td>...</td>\n",
              "      <td>...</td>\n",
              "      <td>...</td>\n",
              "      <td>...</td>\n",
              "      <td>...</td>\n",
              "      <td>...</td>\n",
              "      <td>...</td>\n",
              "      <td>...</td>\n",
              "      <td>...</td>\n",
              "      <td>...</td>\n",
              "      <td>...</td>\n",
              "      <td>...</td>\n",
              "      <td>...</td>\n",
              "      <td>...</td>\n",
              "      <td>...</td>\n",
              "      <td>...</td>\n",
              "      <td>...</td>\n",
              "      <td>...</td>\n",
              "      <td>...</td>\n",
              "      <td>...</td>\n",
              "    </tr>\n",
              "    <tr>\n",
              "      <th>436</th>\n",
              "      <td>0</td>\n",
              "      <td>0</td>\n",
              "      <td>0</td>\n",
              "      <td>0</td>\n",
              "      <td>0</td>\n",
              "      <td>0</td>\n",
              "      <td>0</td>\n",
              "      <td>0</td>\n",
              "      <td>0</td>\n",
              "      <td>0</td>\n",
              "      <td>0</td>\n",
              "      <td>0</td>\n",
              "      <td>0</td>\n",
              "      <td>0</td>\n",
              "      <td>0</td>\n",
              "      <td>0</td>\n",
              "      <td>0</td>\n",
              "      <td>0</td>\n",
              "      <td>0</td>\n",
              "      <td>0</td>\n",
              "      <td>0</td>\n",
              "      <td>0</td>\n",
              "      <td>0</td>\n",
              "      <td>0</td>\n",
              "      <td>0</td>\n",
              "      <td>0</td>\n",
              "      <td>0</td>\n",
              "      <td>0</td>\n",
              "      <td>0</td>\n",
              "      <td>0</td>\n",
              "      <td>0</td>\n",
              "      <td>0</td>\n",
              "      <td>0</td>\n",
              "      <td>0</td>\n",
              "      <td>0</td>\n",
              "      <td>0</td>\n",
              "    </tr>\n",
              "    <tr>\n",
              "      <th>437</th>\n",
              "      <td>0</td>\n",
              "      <td>0</td>\n",
              "      <td>0</td>\n",
              "      <td>0</td>\n",
              "      <td>0</td>\n",
              "      <td>0</td>\n",
              "      <td>0</td>\n",
              "      <td>0</td>\n",
              "      <td>0</td>\n",
              "      <td>0</td>\n",
              "      <td>0</td>\n",
              "      <td>0</td>\n",
              "      <td>0</td>\n",
              "      <td>0</td>\n",
              "      <td>0</td>\n",
              "      <td>0</td>\n",
              "      <td>0</td>\n",
              "      <td>0</td>\n",
              "      <td>0</td>\n",
              "      <td>0</td>\n",
              "      <td>0</td>\n",
              "      <td>0</td>\n",
              "      <td>0</td>\n",
              "      <td>0</td>\n",
              "      <td>0</td>\n",
              "      <td>0</td>\n",
              "      <td>0</td>\n",
              "      <td>0</td>\n",
              "      <td>0</td>\n",
              "      <td>0</td>\n",
              "      <td>0</td>\n",
              "      <td>0</td>\n",
              "      <td>0</td>\n",
              "      <td>0</td>\n",
              "      <td>0</td>\n",
              "      <td>0</td>\n",
              "    </tr>\n",
              "    <tr>\n",
              "      <th>438</th>\n",
              "      <td>0</td>\n",
              "      <td>0</td>\n",
              "      <td>0</td>\n",
              "      <td>0</td>\n",
              "      <td>0</td>\n",
              "      <td>0</td>\n",
              "      <td>0</td>\n",
              "      <td>0</td>\n",
              "      <td>0</td>\n",
              "      <td>0</td>\n",
              "      <td>0</td>\n",
              "      <td>0</td>\n",
              "      <td>0</td>\n",
              "      <td>0</td>\n",
              "      <td>0</td>\n",
              "      <td>0</td>\n",
              "      <td>0</td>\n",
              "      <td>0</td>\n",
              "      <td>0</td>\n",
              "      <td>0</td>\n",
              "      <td>0</td>\n",
              "      <td>0</td>\n",
              "      <td>0</td>\n",
              "      <td>0</td>\n",
              "      <td>0</td>\n",
              "      <td>0</td>\n",
              "      <td>0</td>\n",
              "      <td>0</td>\n",
              "      <td>0</td>\n",
              "      <td>1</td>\n",
              "      <td>0</td>\n",
              "      <td>0</td>\n",
              "      <td>0</td>\n",
              "      <td>0</td>\n",
              "      <td>0</td>\n",
              "      <td>1</td>\n",
              "    </tr>\n",
              "    <tr>\n",
              "      <th>439</th>\n",
              "      <td>0</td>\n",
              "      <td>0</td>\n",
              "      <td>0</td>\n",
              "      <td>0</td>\n",
              "      <td>0</td>\n",
              "      <td>0</td>\n",
              "      <td>0</td>\n",
              "      <td>0</td>\n",
              "      <td>0</td>\n",
              "      <td>0</td>\n",
              "      <td>0</td>\n",
              "      <td>0</td>\n",
              "      <td>0</td>\n",
              "      <td>0</td>\n",
              "      <td>0</td>\n",
              "      <td>0</td>\n",
              "      <td>0</td>\n",
              "      <td>0</td>\n",
              "      <td>0</td>\n",
              "      <td>0</td>\n",
              "      <td>0</td>\n",
              "      <td>0</td>\n",
              "      <td>0</td>\n",
              "      <td>0</td>\n",
              "      <td>0</td>\n",
              "      <td>0</td>\n",
              "      <td>0</td>\n",
              "      <td>0</td>\n",
              "      <td>0</td>\n",
              "      <td>0</td>\n",
              "      <td>0</td>\n",
              "      <td>0</td>\n",
              "      <td>0</td>\n",
              "      <td>0</td>\n",
              "      <td>0</td>\n",
              "      <td>0</td>\n",
              "    </tr>\n",
              "    <tr>\n",
              "      <th>440</th>\n",
              "      <td>0</td>\n",
              "      <td>0</td>\n",
              "      <td>0</td>\n",
              "      <td>1</td>\n",
              "      <td>0</td>\n",
              "      <td>0</td>\n",
              "      <td>1</td>\n",
              "      <td>0</td>\n",
              "      <td>0</td>\n",
              "      <td>0</td>\n",
              "      <td>0</td>\n",
              "      <td>0</td>\n",
              "      <td>1</td>\n",
              "      <td>0</td>\n",
              "      <td>0</td>\n",
              "      <td>0</td>\n",
              "      <td>0</td>\n",
              "      <td>0</td>\n",
              "      <td>0</td>\n",
              "      <td>0</td>\n",
              "      <td>0</td>\n",
              "      <td>0</td>\n",
              "      <td>0</td>\n",
              "      <td>1</td>\n",
              "      <td>0</td>\n",
              "      <td>0</td>\n",
              "      <td>0</td>\n",
              "      <td>0</td>\n",
              "      <td>0</td>\n",
              "      <td>0</td>\n",
              "      <td>1</td>\n",
              "      <td>0</td>\n",
              "      <td>0</td>\n",
              "      <td>0</td>\n",
              "      <td>0</td>\n",
              "      <td>5</td>\n",
              "    </tr>\n",
              "  </tbody>\n",
              "</table>\n",
              "<p>441 rows × 36 columns</p>\n",
              "</div>"
            ],
            "text/plain": [
              "     MOTIF_ANTELOPEHOOF  ...  Number of Motif Combinations\n",
              "0                     0  ...                             7\n",
              "1                     0  ...                             6\n",
              "2                     0  ...                             1\n",
              "3                     0  ...                             5\n",
              "4                     0  ...                             5\n",
              "..                  ...  ...                           ...\n",
              "436                   0  ...                             0\n",
              "437                   0  ...                             0\n",
              "438                   0  ...                             1\n",
              "439                   0  ...                             0\n",
              "440                   0  ...                             5\n",
              "\n",
              "[441 rows x 36 columns]"
            ]
          },
          "metadata": {
            "tags": []
          },
          "execution_count": 17
        }
      ]
    },
    {
      "cell_type": "code",
      "metadata": {
        "colab": {
          "base_uri": "https://localhost:8080/"
        },
        "id": "JYCv2tMysY6G",
        "outputId": "978ed692-2ef7-4151-9ab2-35f862829468"
      },
      "source": [
        "#How many moccasins have a combination of 3 colors?\n",
        "counter = 0 #Create an empty variable named counter.\n",
        "for i in motif_columns[\"Number of Motif Combinations\"]: #Refer to the column, \"Number of Color Combinations\".\n",
        "  if i == 2: #If a value in that column is equal to 3,\n",
        "    counter += 1 #Add it to counter.\n",
        "print(counter) #Print the value of the counter in a complete sentence."
      ],
      "execution_count": null,
      "outputs": [
        {
          "output_type": "stream",
          "text": [
            "94\n"
          ],
          "name": "stdout"
        }
      ]
    },
    {
      "cell_type": "code",
      "metadata": {
        "colab": {
          "base_uri": "https://localhost:8080/"
        },
        "id": "Ep79KrDousFG",
        "outputId": "a1ce6876-da4d-410b-8f3a-a32fe7016d0d"
      },
      "source": [
        "df_moccasin['WHITE']"
      ],
      "execution_count": null,
      "outputs": [
        {
          "output_type": "execute_result",
          "data": {
            "text/plain": [
              "0      1\n",
              "1      1\n",
              "2      0\n",
              "3      1\n",
              "4      1\n",
              "      ..\n",
              "436    0\n",
              "437    1\n",
              "438    1\n",
              "439    1\n",
              "440    1\n",
              "Name: WHITE, Length: 441, dtype: int64"
            ]
          },
          "metadata": {
            "tags": []
          },
          "execution_count": 26
        }
      ]
    },
    {
      "cell_type": "code",
      "metadata": {
        "id": "e74erMV8tDG4"
      },
      "source": [
        "for i in motif_columns:\n",
        "  if i is += 1"
      ],
      "execution_count": null,
      "outputs": []
    },
    {
      "cell_type": "code",
      "metadata": {
        "colab": {
          "base_uri": "https://localhost:8080/"
        },
        "id": "PE4TeZ62zW4w",
        "outputId": "292bc6b1-c248-404a-821b-ac7dda354fa9"
      },
      "source": [
        "#How many moccasins have a combination of 3 colors?\n",
        "def moccasin_counter(columns):\n",
        "  counter = 0 #Create an empty variable named counter.\n",
        "  for i in columns[\"Number of Motif Combinations\"]: #Refer to the column, \"Number of Color Combinations\".\n",
        "    if i == 2: #If a value in that column is equal to 3,\n",
        "      counter += 1 #Add it to counter.\n",
        "  print(counter) #Print the value of the counter in a complete sentence.\n",
        "\n",
        "moccasin_counter(motif_columns)"
      ],
      "execution_count": null,
      "outputs": [
        {
          "output_type": "stream",
          "text": [
            "94\n"
          ],
          "name": "stdout"
        }
      ]
    }
  ]
}